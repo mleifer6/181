{
 "cells": [
  {
   "cell_type": "code",
   "execution_count": 1,
   "metadata": {
    "collapsed": true
   },
   "outputs": [],
   "source": [
    "import csv\n",
    "import numpy as np\n",
    "from sklearn.model_selection import train_test_split\n",
    "from sklearn.linear_model import LinearRegression as LR\n",
    "from sklearn.ensemble import RandomForestRegressor as RFR"
   ]
  },
  {
   "cell_type": "code",
   "execution_count": 2,
   "metadata": {
    "collapsed": true
   },
   "outputs": [],
   "source": [
    "def get_medians(train_file):\n",
    "    user_plays = {}\n",
    "    artist_plays = {}\n",
    "    triples = []\n",
    "    plays = []\n",
    "    with open(train_file, 'rb') as train_fh:\n",
    "        train_csv = csv.reader(train_fh, delimiter=',', quotechar='\"')\n",
    "        next(train_csv, None)\n",
    "        for row in train_csv:\n",
    "            user = row[0]\n",
    "            artist = row[1]\n",
    "            plays = int(row[2])\n",
    "\n",
    "            if user not in user_plays:\n",
    "                user_plays[user] = []\n",
    "            user_plays[user].append(plays)\n",
    "\n",
    "            if artist not in artist_plays:\n",
    "                artist_plays[artist] = []\n",
    "            artist_plays[artist].append(plays)\n",
    "\n",
    "            triples.append((user, artist, plays))\n",
    "\n",
    "\n",
    "    artist_medians = {}\n",
    "    for artist in artist_plays:\n",
    "        artist_medians[artist] = np.mean(artist_plays[artist])\n",
    "\n",
    "    user_medians = {}\n",
    "    for user in user_plays:\n",
    "        user_medians[user] = np.mean(user_plays[user])\n",
    "\n",
    "    X = []\n",
    "    Y = []\n",
    "    for user, artist, play in triples:\n",
    "        X.append((user_medians[user], artist_medians[artist]))\n",
    "        Y.append(play)\n",
    "\n",
    "    global_median = np.mean(Y)\n",
    "\n",
    "    return X, Y, global_median, user_medians, artist_medians"
   ]
  },
  {
   "cell_type": "code",
   "execution_count": 3,
   "metadata": {
    "collapsed": true
   },
   "outputs": [],
   "source": [
    "X, Y, global_median, user_medians, artist_medians = get_medians(\"train.csv\")"
   ]
  },
  {
   "cell_type": "code",
   "execution_count": 6,
   "metadata": {
    "collapsed": false
   },
   "outputs": [
    {
     "name": "stdout",
     "output_type": "stream",
     "text": [
      "0.3 150.688551895\n",
      "0.31 150.67050854\n",
      "0.32 150.655691657\n",
      "0.33 150.64404575\n",
      "0.34 150.635571164\n",
      "0.35 150.630342373\n",
      "0.36 150.628392647\n",
      "0.37 150.629675694\n",
      "0.38 150.634087382\n",
      "0.39 150.641718895\n",
      "0.4 150.652549862\n",
      "0.41 150.66663734\n",
      "0.42 150.683977943\n"
     ]
    },
    {
     "ename": "KeyboardInterrupt",
     "evalue": "",
     "output_type": "error",
     "traceback": [
      "\u001b[0;31m--------------------------------------------------------------------------\u001b[0m",
      "\u001b[0;31mKeyboardInterrupt\u001b[0m                        Traceback (most recent call last)",
      "\u001b[0;32m<ipython-input-6-ac1777923542>\u001b[0m in \u001b[0;36m<module>\u001b[0;34m()\u001b[0m\n\u001b[1;32m      8\u001b[0m     \u001b[0mphi_X\u001b[0m \u001b[0;34m=\u001b[0m \u001b[0;34m[\u001b[0m\u001b[0;34m]\u001b[0m\u001b[0;34m\u001b[0m\u001b[0m\n\u001b[1;32m      9\u001b[0m     \u001b[0;32mfor\u001b[0m \u001b[0muser_med\u001b[0m\u001b[0;34m,\u001b[0m \u001b[0martist_med\u001b[0m \u001b[0;32min\u001b[0m \u001b[0mX\u001b[0m\u001b[0;34m:\u001b[0m\u001b[0;34m\u001b[0m\u001b[0m\n\u001b[0;32m---> 10\u001b[0;31m         \u001b[0mpredictions\u001b[0m\u001b[0;34m.\u001b[0m\u001b[0mappend\u001b[0m\u001b[0;34m(\u001b[0m\u001b[0muser_med\u001b[0m \u001b[0;34m*\u001b[0m \u001b[0;34m(\u001b[0m\u001b[0martist_med\u001b[0m \u001b[0;34m/\u001b[0m \u001b[0mglobal_median\u001b[0m\u001b[0;34m)\u001b[0m \u001b[0;34m**\u001b[0m \u001b[0mexp\u001b[0m\u001b[0;34m)\u001b[0m\u001b[0;34m\u001b[0m\u001b[0m\n\u001b[0m\u001b[1;32m     11\u001b[0m \u001b[0;34m\u001b[0m\u001b[0m\n\u001b[1;32m     12\u001b[0m     \u001b[0mn\u001b[0m \u001b[0;34m=\u001b[0m \u001b[0mfloat\u001b[0m\u001b[0;34m(\u001b[0m\u001b[0mlen\u001b[0m\u001b[0;34m(\u001b[0m\u001b[0mY\u001b[0m\u001b[0;34m)\u001b[0m\u001b[0;34m)\u001b[0m\u001b[0;34m\u001b[0m\u001b[0m\n",
      "\u001b[0;31mKeyboardInterrupt\u001b[0m: "
     ]
    }
   ],
   "source": [
    "global_median = float(global_median)\n",
    "exp = 0.3\n",
    "diff = 0.01\n",
    "count = 0\n",
    "\n",
    "while count < 40:\n",
    "    predictions = []\n",
    "    phi_X = []\n",
    "    for user_med, artist_med in X:\n",
    "        predictions.append(user_med * (artist_med / global_median) ** exp)\n",
    "\n",
    "    n = float(len(Y))\n",
    "    error = 0\n",
    "    for i in range(int(n)):\n",
    "        error += 1.0 / n * abs(Y[i] - predictions[i])\n",
    "\n",
    "    print exp, error\n",
    "    \n",
    "    exp += diff\n",
    "    count += 1"
   ]
  },
  {
   "cell_type": "code",
   "execution_count": null,
   "metadata": {
    "collapsed": false
   },
   "outputs": [],
   "source": [
    "predictions = np.asarray(predictions).reshape(-1,1)\n",
    "model = RFR()\n",
    "model.fit(predictions, Y)"
   ]
  },
  {
   "cell_type": "code",
   "execution_count": null,
   "metadata": {
    "collapsed": true
   },
   "outputs": [],
   "source": [
    "model_predicts = model.predict(predictions)"
   ]
  },
  {
   "cell_type": "code",
   "execution_count": null,
   "metadata": {
    "collapsed": true
   },
   "outputs": [],
   "source": [
    "error = 0\n",
    "n = len(model_predicts)\n",
    "for i in range(int(n)):\n",
    "    error += 1.0 / n * abs(Y[i] - model_predicts[i])\n",
    "print error"
   ]
  },
  {
   "cell_type": "code",
   "execution_count": null,
   "metadata": {
    "collapsed": true
   },
   "outputs": [],
   "source": [
    "with open('end_of_test.csv', 'rb') as test_fh:\n",
    "    test_csv = csv.reader(test_fh, delimiter=',', quotechar='\"', quoting=csv.QUOTE_MINIMAL)\n",
    "    next(test_csv, None)\n",
    "    with open(\"simple_preds_RF_10_end.csv\", 'w') as sp_fh:\n",
    "        sp_csv = csv.writer(sp_fh, delimiter=',', quotechar='\"', quoting=csv.QUOTE_MINIMAL)\n",
    "        sp_csv.writerow(['Id', 'plays'])\n",
    "        count = 0\n",
    "        for row in test_csv:\n",
    "            user = row[1]\n",
    "            artist = row[2]\n",
    "            prediction = model.predict(user_medians[user] * (artist_medians[artist] / global_median) ** exp)[0]\n",
    "            sp_csv.writerow([count, round(prediction,6)])\n",
    "            count += 1"
   ]
  }
 ],
 "metadata": {
  "kernelspec": {
   "display_name": "Python 2",
   "language": "python",
   "name": "python2"
  },
  "language_info": {
   "codemirror_mode": {
    "name": "ipython",
    "version": 2
   },
   "file_extension": ".py",
   "mimetype": "text/x-python",
   "name": "python",
   "nbconvert_exporter": "python",
   "pygments_lexer": "ipython2",
   "version": "2.7.13"
  }
 },
 "nbformat": 4,
 "nbformat_minor": 2
}
