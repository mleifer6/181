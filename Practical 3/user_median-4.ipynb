{
 "cells": [
  {
   "cell_type": "code",
   "execution_count": 68,
   "metadata": {
    "collapsed": true
   },
   "outputs": [],
   "source": [
    "import numpy as np\n",
    "import csv\n",
    "import musicbrainzngs as mb\n",
    "from sklearn.ensemble import RandomForestRegressor\n",
    "from sklearn.cluster import KMeans\n",
    "from sklearn.model_selection import cross_val_score\n",
    "from sklearn.metrics import mean_absolute_error\n",
    "import itertools\n",
    "from sklearn.model_selection import train_test_split\n",
    "from sklearn.neural_network import MLPRegressor"
   ]
  },
  {
   "cell_type": "code",
   "execution_count": 2,
   "metadata": {
    "collapsed": true
   },
   "outputs": [],
   "source": [
    "train_file = 'train.csv'\n",
    "test_file  = 'test.csv'\n",
    "soln_file  = 'user_median.csv'\n",
    "users_file = 'profiles.csv'\n",
    "artists_file = 'artists.csv'"
   ]
  },
  {
   "cell_type": "code",
   "execution_count": 3,
   "metadata": {
    "collapsed": true
   },
   "outputs": [],
   "source": [
    "# required to use mb API\n",
    "mb.set_useragent(app='cs181practical', version='1.0')"
   ]
  },
  {
   "cell_type": "code",
   "execution_count": 4,
   "metadata": {
    "collapsed": true
   },
   "outputs": [],
   "source": [
    "# adds indicator features for given target values\n",
    "def add_indicators(result, feats, targets):\n",
    "    info = []\n",
    "    for (feat, target) in zip(feats, targets):\n",
    "        if feat in result:\n",
    "            if result[feat] == target:\n",
    "                info.append(1)\n",
    "            else:\n",
    "                info.append(0)\n",
    "        else:\n",
    "            info.append(-1)\n",
    "    return info"
   ]
  },
  {
   "cell_type": "code",
   "execution_count": 5,
   "metadata": {
    "collapsed": true
   },
   "outputs": [],
   "source": [
    "# gets artist info from musicbrainz API\n",
    "def artist_info(artist_id):\n",
    "    result = mb.get_artist_by_id(artist_id)\n",
    "    \n",
    "    # indicators for group type and US-based\n",
    "    info = add_indicators(result[\"artist\"], [\"type\", \"type\", \"country\"], [\"Group\", \"Person\", \"US\"])\n",
    "    \n",
    "    # when artist started\n",
    "    try:\n",
    "        info = info + [int(result.life-span.begin[:4])]\n",
    "    except:\n",
    "        # default is missing begin year\n",
    "        info = info + [-1]\n",
    "    \n",
    "    return info"
   ]
  },
  {
   "cell_type": "code",
   "execution_count": 15,
   "metadata": {
    "collapsed": false
   },
   "outputs": [],
   "source": [
    "# gets info for all artists from musicbrainz API\n",
    "\n",
    "artist_data = {}\n",
    "artist_ids = [\"\"] * 2000\n",
    "with open(artists_file, 'r', encoding='utf8') as artists_fh:\n",
    "    artists_csv = csv.reader(artists_fh, delimiter=',')\n",
    "    next(artists_csv, None)\n",
    "    artist_counter = 0\n",
    "    for row in artists_csv:\n",
    "        artist = row[0]\n",
    "        name = row[1]\n",
    "        if not artist in artist_data:\n",
    "            artist_ids[artist_counter] = artist\n",
    "            artist_data[artist] = {}\n",
    "            artist_data[artist][\"id\"] = artist_counter\n",
    "            artist_counter = artist_counter + 1\n",
    "            \n",
    "            try:\n",
    "                artist_data[artist][\"feats\"] = artist_info(artist)\n",
    "            except:\n",
    "                artist_data[artist][\"feats\"] = [-1,-1,-1,-1]"
   ]
  },
  {
   "cell_type": "code",
   "execution_count": 102,
   "metadata": {
    "collapsed": false
   },
   "outputs": [],
   "source": [
    "# print artist info (one-time)\n",
    "\n",
    "with open('artist_data.csv', 'w') as artist_data_file:\n",
    "    artist_csv = csv.writer(artist_data_file, delimiter=',', quotechar='\"', quoting=csv.QUOTE_MINIMAL)\n",
    "    artist_csv.writerow(['id', 'artist','group','person','US','begin'])\n",
    "    for artist in artist_data:\n",
    "        row_to_write = [artist_data[artist][\"id\"], artist] + artist_data[artist][\"feats\"]\n",
    "        artist_csv.writerow(row_to_write)"
   ]
  },
  {
   "cell_type": "code",
   "execution_count": null,
   "metadata": {
    "collapsed": true
   },
   "outputs": [],
   "source": [
    "# load artist info from file\n",
    "artist_data = {}\n"
   ]
  },
  {
   "cell_type": "code",
   "execution_count": 17,
   "metadata": {
    "collapsed": false
   },
   "outputs": [],
   "source": [
    "# collect data on plays per user\n",
    "user_play_data = {}\n",
    "with open(train_file, 'r') as train_fh:\n",
    "    train_csv = csv.reader(train_fh, delimiter=',', quotechar='\"')\n",
    "    next(train_csv, None)\n",
    "    for row in itertools.islice(train_csv, 1, 1000):\n",
    "        user   = row[0]\n",
    "        artist = row[1]\n",
    "        plays  = row[2]\n",
    "        \n",
    "        artist_id = artist_data[artist][\"id\"]\n",
    "    \n",
    "        if not user in user_play_data:\n",
    "            user_play_data[user] = {}\n",
    "        \n",
    "        user_play_data[user][artist_id] = int(plays)"
   ]
  },
  {
   "cell_type": "code",
   "execution_count": 18,
   "metadata": {
    "collapsed": false
   },
   "outputs": [],
   "source": [
    "# Compute the global median and per-user median.\n",
    "plays_array  = []\n",
    "user_medians = {}\n",
    "for user, user_data in user_play_data.items():\n",
    "    user_plays = []\n",
    "    for artist_id, plays in user_data.items():\n",
    "        plays_array.append(plays)\n",
    "        user_plays.append(plays)\n",
    "\n",
    "    user_medians[user] = np.median(np.array(user_plays))\n",
    "global_median = np.median(np.array(plays_array))"
   ]
  },
  {
   "cell_type": "code",
   "execution_count": 93,
   "metadata": {
    "collapsed": true
   },
   "outputs": [],
   "source": [
    "def artists_to_nums():\n",
    "    artist_count = 0\n",
    "    artists = {}\n",
    "    with open(\"artists.csv\", 'r', encoding='utf8') as artists_fh:\n",
    "        artists_csv = csv.reader(artists_fh, delimiter = ',', quotechar = '\"')\n",
    "        next(artists_csv, None)\n",
    "        for row in artists_csv:\n",
    "            artists[row[0]] = artist_count\n",
    "            artist_count += 1\n",
    "    return artists, artist_count"
   ]
  },
  {
   "cell_type": "code",
   "execution_count": 98,
   "metadata": {
    "collapsed": true
   },
   "outputs": [],
   "source": [
    "def favorite_artists(n):\n",
    "    artists, artist_count = artists_to_nums()\n",
    "    users = {}\n",
    "    with open(\"train.csv\", 'r', encoding='utf8') as train_fh:\n",
    "        train_csv = csv.reader(train_fh, delimiter = ',', quotechar = '\"')\n",
    "        next(train_csv, None)\n",
    "        for row in train_csv:\n",
    "            user = row[0]\n",
    "            artist = row[1]\n",
    "            plays = int(row[2])\n",
    "\n",
    "            if user not in users:\n",
    "                users[user] = []\n",
    "\n",
    "            users[user].append((plays, artist))\n",
    "            users[user].sort(reverse = True)\n",
    "            \n",
    "    with open('user_favorites.csv', 'w') as fav_file:\n",
    "        fav_csv = csv.writer(fav_file, delimiter=',', quotechar='\"', quoting=csv.QUOTE_MINIMAL)\n",
    "        fav_csv.writerow(['user', 'sex','age','country'] + [i for i in range(artist_count)] + ['med'])\n",
    "        with open(\"profiles.csv\", 'r') as prof_fh:\n",
    "            prof_csv = csv.reader(prof_fh, delimiter = ',', quotechar = '\"')\n",
    "            next(prof_csv, None)\n",
    "            for row in prof_csv:\n",
    "                favorites = [0 for i in range(artist_count)]\n",
    "                user = row[0]\n",
    "                for j in range(n):\n",
    "                    if len(users[user]) > j:\n",
    "                        artist_name = users[user][j][1]\n",
    "                        artist_num = artists[artist_name]\n",
    "                        favorites[artist_num] = 1\n",
    "                row_to_write = [user_data[user][\"sex\"], user_data[user][\"age\"], user_data[user][\"country\"]] + favorites + [user_data[user][\"med_count\"]]\n",
    "                fav_csv.writerow(row_to_write)"
   ]
  },
  {
   "cell_type": "code",
   "execution_count": 99,
   "metadata": {
    "collapsed": false
   },
   "outputs": [],
   "source": [
    "favorite_artists(10)"
   ]
  },
  {
   "cell_type": "code",
   "execution_count": 19,
   "metadata": {
    "collapsed": true
   },
   "outputs": [],
   "source": [
    "# returns top 3 listened-to artists for a user\n",
    "def get_top_3(user):\n",
    "    vals = list(user_play_data[user].values())\n",
    "    keys = list(user_play_data[user].keys())\n",
    "    sorted_vals = vals.sort()\n",
    "    top_3 = []\n",
    "    for i in range(3):\n",
    "        try:\n",
    "            top_3.append(keys[vals.index(sorted_vals[-i])])\n",
    "        except:\n",
    "            top_3.append(-1)\n",
    "    return top_3"
   ]
  },
  {
   "cell_type": "code",
   "execution_count": 23,
   "metadata": {
    "collapsed": false
   },
   "outputs": [],
   "source": [
    "# extract user features from profiles.csv\n",
    "\n",
    "user_data = {}\n",
    "    \n",
    "# stores mapping of country strings to int ids\n",
    "countries = {}\n",
    "country_counter = 0\n",
    "# default for missing country names\n",
    "countries[\"\"] = -1\n",
    "    \n",
    "with open(users_file, 'r') as users_fh:\n",
    "    users_csv = csv.reader(users_fh, delimiter=',', quotechar='\"')\n",
    "    next(users_csv, None)\n",
    "    for row in users_csv:\n",
    "        user = row[0]\n",
    "        sex = row[1]\n",
    "        age = row[2]\n",
    "        country = row[3]\n",
    "            \n",
    "        # update country ids dict\n",
    "        if not country in countries:\n",
    "            countries[country] = country_counter\n",
    "            country_counter += 1\n",
    "            \n",
    "        if not user in user_data:\n",
    "            user_data[user] = {}\n",
    "                \n",
    "            # default for missing sex\n",
    "            user_data[user][\"sex\"] = 0\n",
    "                \n",
    "            if sex == \"f\":\n",
    "                user_data[user][\"sex\"] = 1\n",
    "            if sex == \"m\":\n",
    "                user_data[user][\"sex\"] = 2\n",
    "                \n",
    "            try:\n",
    "                user_data[user][\"age\"] = int(age)\n",
    "            except:\n",
    "                # default for missing age\n",
    "                user_data[user][\"age\"] = -1\n",
    "                \n",
    "            user_data[user][\"country\"] = countries[country]\n",
    "            \n",
    "            try:\n",
    "                user_data[user][\"med_count\"] = user_medians[user]\n",
    "            except:\n",
    "                user_data[user][\"med_count\"] = global_median\n",
    "                \n",
    "            if user in user_play_data:\n",
    "                vals = list(user_play_data[user].values())\n",
    "                keys = list(user_play_data[user].keys())\n",
    "                sorted_vals = vals.sort()\n",
    "                top_3 = []\n",
    "                for i in range(3):\n",
    "                    try:\n",
    "                        top_3.append(keys[vals.index(sorted_vals[-i])])\n",
    "                    except:\n",
    "                        top_3.append(-1)\n",
    "\n",
    "                user_data[user][\"top1\"] = top_3[0]\n",
    "                user_data[user][\"top2\"] = top_3[1]\n",
    "                user_data[user][\"top3\"] = top_3[2]\n",
    "            else:\n",
    "                user_data[user][\"top1\"] = -1\n",
    "                user_data[user][\"top2\"] = -1\n",
    "                user_data[user][\"top3\"] = -1\n",
    "            \n",
    "            # TODO: proprocess user data with clusters, add feature for assigned cluster"
   ]
  },
  {
   "cell_type": "code",
   "execution_count": 60,
   "metadata": {
    "collapsed": false
   },
   "outputs": [],
   "source": [
    "# preprocess user data via clustering\n",
    "\n",
    "# convert user_data dict to array\n",
    "users = []\n",
    "user_counter = 0\n",
    "for user in user_data:\n",
    "    # id corresponds to position in X array that we will send to KMeans\n",
    "    user_data[user][\"id\"] = user_counter\n",
    "    \n",
    "    users.append([user_data[user][\"age\"], user_data[user][\"country\"],\n",
    "                 user_data[user][\"top1\"], user_data[user][\"top2\"], user_data[user][\"top3\"]])\n",
    "X_users = np.array(users)"
   ]
  },
  {
   "cell_type": "code",
   "execution_count": 74,
   "metadata": {
    "collapsed": false
   },
   "outputs": [],
   "source": [
    "kmeans = KMeans(n_clusters=10).fit(X_users)\n",
    "user_clusters = kmeans.labels_"
   ]
  },
  {
   "cell_type": "code",
   "execution_count": 75,
   "metadata": {
    "collapsed": false
   },
   "outputs": [
    {
     "data": {
      "text/plain": [
       "array([0, 0, 0, 0, 0, 0, 3, 3, 3, 0, 8, 0, 0, 0, 0, 8, 3, 0, 0, 3, 3, 0, 8,\n",
       "       0, 5, 5, 0, 5, 0, 5, 5, 0, 0, 0, 5, 5, 0, 5, 3, 5, 5, 0, 0, 5, 3, 5,\n",
       "       3, 8, 5, 8])"
      ]
     },
     "execution_count": 75,
     "metadata": {},
     "output_type": "execute_result"
    }
   ],
   "source": [
    "user_clusters[:50]"
   ]
  },
  {
   "cell_type": "code",
   "execution_count": 30,
   "metadata": {
    "collapsed": true
   },
   "outputs": [],
   "source": [
    "train_data = {}"
   ]
  },
  {
   "cell_type": "code",
   "execution_count": 83,
   "metadata": {
    "collapsed": false
   },
   "outputs": [],
   "source": [
    "# Load the training data.\n",
    "X_train = []\n",
    "Y_train = []\n",
    "with open(train_file, 'r') as train_fh:\n",
    "    train_csv = csv.reader(train_fh, delimiter=',', quotechar='\"')\n",
    "    next(train_csv, None)\n",
    "    for row in itertools.islice(train_csv, 0, 8000):\n",
    "        user   = row[0]\n",
    "        artist = row[1]\n",
    "        plays  = row[2]\n",
    "        \n",
    "        user_id = user_data[user][\"id\"]\n",
    "        \n",
    "        # concat artist features and user features into one row\n",
    "        x_row = artist_data[artist][\"feats\"] + X_users[user_id].tolist() + [user_clusters[user_id], user_data[user][\"med_count\"], user_data[user][\"sex\"]]\n",
    "        \n",
    "        # add row of features to X\n",
    "        X_train.append(x_row)\n",
    "        \n",
    "        # add play count to Y\n",
    "        Y_train.append(int(plays))\n",
    "    \n",
    "        if not user in train_data:\n",
    "            train_data[user] = {}\n",
    "        \n",
    "        train_data[user][artist] = int(plays)\n",
    "\n",
    "X_train = np.array(X_train)\n",
    "Y_train = np.array(Y_train)"
   ]
  },
  {
   "cell_type": "code",
   "execution_count": 84,
   "metadata": {
    "collapsed": false
   },
   "outputs": [
    {
     "data": {
      "text/plain": [
       "8000"
      ]
     },
     "execution_count": 84,
     "metadata": {},
     "output_type": "execute_result"
    }
   ],
   "source": [
    "len(Y_train)"
   ]
  },
  {
   "cell_type": "code",
   "execution_count": 85,
   "metadata": {
    "collapsed": false
   },
   "outputs": [],
   "source": [
    "# hold some data out for validation\n",
    "X_training, X_validating, Y_training, Y_validating = train_test_split(\n",
    "    X_train, Y_train, test_size=0.33, random_state=42)"
   ]
  },
  {
   "cell_type": "code",
   "execution_count": 86,
   "metadata": {
    "collapsed": false
   },
   "outputs": [
    {
     "name": "stdout",
     "output_type": "stream",
     "text": [
      "learning...\n",
      "done learning\n",
      "learning score:  [ 0.09052084  0.29871062  0.18784208  0.12236137  0.12487711]\n",
      "mean absolute error:  203.254664199\n"
     ]
    }
   ],
   "source": [
    "print(\"learning...\")\n",
    "#model = RandomForestRegressor(n_estimators=50)\n",
    "model = MLPRegressor()\n",
    "model.fit(X_training, Y_training)\n",
    "print(\"done learning\")\n",
    "print(\"learning score: \", cross_val_score(model, X_training, Y_training, cv=5))\n",
    "print(\"mean absolute error: \", mean_absolute_error(Y_training, model.predict(X_training)))"
   ]
  },
  {
   "cell_type": "code",
   "execution_count": 87,
   "metadata": {
    "collapsed": false
   },
   "outputs": [
    {
     "name": "stdout",
     "output_type": "stream",
     "text": [
      "predicting...\n",
      "mean absolute error:  210.089786014\n"
     ]
    }
   ],
   "source": [
    "print(\"predicting...\")\n",
    "preds = model.predict(X_validating)\n",
    "print(\"mean absolute error: \", mean_absolute_error(Y_validating, preds))\n"
   ]
  },
  {
   "cell_type": "code",
   "execution_count": null,
   "metadata": {
    "collapsed": true
   },
   "outputs": [],
   "source": [
    "# Write out test solutions.\n",
    "with open(test_file, 'r') as test_fh:\n",
    "    test_csv = csv.reader(test_fh, delimiter=',', quotechar='\"')\n",
    "    next(test_csv, None)\n",
    "\n",
    "    with open(soln_file, 'w') as soln_fh:\n",
    "        soln_csv = csv.writer(soln_fh,\n",
    "                              delimiter=',',\n",
    "                              quotechar='\"',\n",
    "                              quoting=csv.QUOTE_MINIMAL)\n",
    "        soln_csv.writerow(['Id', 'plays'])\n",
    "\n",
    "        for row in test_csv:\n",
    "            id     = row[0]\n",
    "            user   = row[1]\n",
    "            artist = row[2]\n",
    "\n",
    "            if user in user_medians:\n",
    "                soln_csv.writerow([id, user_medians[user]])\n",
    "            else:\n",
    "                print \"User\", id, \"not in training data.\"\n",
    "                soln_csv.writerow([id, global_median])"
   ]
  }
 ],
 "metadata": {
  "kernelspec": {
   "display_name": "Python 2",
   "language": "python",
   "name": "python2"
  },
  "language_info": {
   "codemirror_mode": {
    "name": "ipython",
    "version": 2
   },
   "file_extension": ".py",
   "mimetype": "text/x-python",
   "name": "python",
   "nbconvert_exporter": "python",
   "pygments_lexer": "ipython2",
   "version": "2.7.13"
  }
 },
 "nbformat": 4,
 "nbformat_minor": 2
}
