{
 "cells": [
  {
   "cell_type": "code",
   "execution_count": 24,
   "metadata": {
    "collapsed": false
   },
   "outputs": [],
   "source": [
    "import csv\n",
    "import numpy as np\n",
    "from sklearn.model_selection import train_test_split\n",
    "from sklearn.linear_model import LinearRegression as LR\n",
    "from sklearn.ensemble import RandomForestRegressor as RFR"
   ]
  },
  {
   "cell_type": "code",
   "execution_count": 41,
   "metadata": {
    "collapsed": false
   },
   "outputs": [],
   "source": [
    "def get_medians(train_file):\n",
    "    user_plays = {}\n",
    "    artist_plays = {}\n",
    "    triples = []\n",
    "    plays = []\n",
    "    with open(train_file, 'rb') as train_fh:\n",
    "        train_csv = csv.reader(train_fh, delimiter=',', quotechar='\"')\n",
    "        next(train_csv, None)\n",
    "        for row in train_csv:\n",
    "            user = row[0]\n",
    "            artist = row[1]\n",
    "            plays = int(row[2])\n",
    "\n",
    "            if user not in user_plays:\n",
    "                user_plays[user] = []\n",
    "            user_plays[user].append(plays)\n",
    "\n",
    "            if artist not in artist_plays:\n",
    "                artist_plays[artist] = []\n",
    "            artist_plays[artist].append(plays)\n",
    "\n",
    "            triples.append((user, artist, plays))\n",
    "\n",
    "\n",
    "    artist_medians = {}\n",
    "    for artist in artist_plays:\n",
    "        artist_medians[artist] = np.median(artist_plays[artist])\n",
    "\n",
    "    user_medians = {}\n",
    "    for user in user_plays:\n",
    "        user_medians[user] = np.median(user_plays[user])\n",
    "\n",
    "    X = []\n",
    "    Y = []\n",
    "    for user, artist, play in triples:\n",
    "        X.append((user_medians[user], artist_medians[artist]))\n",
    "        Y.append(play)\n",
    "\n",
    "    global_median = np.median(Y)\n",
    "\n",
    "    return X, Y, global_median, user_medians, artist_medians"
   ]
  },
  {
   "cell_type": "code",
   "execution_count": 42,
   "metadata": {
    "collapsed": false
   },
   "outputs": [],
   "source": [
    "X, Y, global_median, user_medians, artist_medians = get_medians(\"train.csv\")"
   ]
  },
  {
   "cell_type": "code",
   "execution_count": 49,
   "metadata": {
    "collapsed": false
   },
   "outputs": [
    {
     "name": "stdout",
     "output_type": "stream",
     "text": [
      "Exp \t Train Error \t Val. Error\n",
      "0.15\t128.652933425\t129.682684507\n",
      "0.16\t128.640748561\t129.670045804\n",
      "0.17\t128.630540435\t129.659376305\n",
      "0.18\t128.62234417\t129.650707163\n",
      "0.19\t128.616022705\t129.64389487\n",
      "0.2\t128.611605765\t129.638950433\n",
      "0.21\t128.609081292\t129.63587052\n",
      "0.22\t128.608358275\t129.634747501\n",
      "0.23\t128.609452264\t129.635430564\n",
      "0.24\t128.612432949\t129.637954201\n"
     ]
    }
   ],
   "source": [
    "global_median = float(global_median)\n",
    "exp = 0.15\n",
    "\n",
    "\n",
    "X_train, X_test, y_train, y_test = train_test_split(X, Y, test_size=0.25, random_state=42)\n",
    "\n",
    "diff = 0.01\n",
    "count = 0\n",
    "print \"Exp \\t Train Error \\t Val. Error\"\n",
    "while count < 10:\n",
    "    predictions = []\n",
    "    for user_med, artist_med in X_train:\n",
    "        predictions.append(user_med * (artist_med / global_median) ** exp)\n",
    "\n",
    "    n = float(len(y_train))\n",
    "    train_error = 0\n",
    "    for i in range(int(n)):\n",
    "        train_error += 1.0 / n * abs(y_train[i] - predictions[i])\n",
    "    \n",
    "    validation_preds = []\n",
    "    for user_med, artist_med in X_test:\n",
    "        validation_preds.append(user_med * (artist_med / global_median) ** exp)\n",
    "   \n",
    "    n = float(len(y_test))\n",
    "    test_error = 0\n",
    "    for i in range(int(n)):\n",
    "        test_error += 1.0 / n * abs(y_test[i] - validation_preds[i])\n",
    "        \n",
    "    print str(exp) + \"\\t\" + str(train_error) + \"\\t\" + str (test_error)\n",
    "    exp += diff\n",
    "    count += 1"
   ]
  },
  {
   "cell_type": "code",
   "execution_count": 54,
   "metadata": {
    "collapsed": false
   },
   "outputs": [
    {
     "name": "stdout",
     "output_type": "stream",
     "text": [
      "0.2196 128.864953901\n"
     ]
    }
   ],
   "source": [
    "global_median = float(global_median)\n",
    "\n",
    "start = 0.21\n",
    "diff = 0.0001\n",
    "exp = .2196\n",
    "count = 0\n",
    "while count < 1:\n",
    "    predictions = []\n",
    "    phi_X = []\n",
    "    for user_med, artist_med in X:\n",
    "        predictions.append(user_med * (artist_med / global_median) ** exp)\n",
    "\n",
    "    n = float(len(Y))\n",
    "    error = 0\n",
    "    for i in range(int(n)):\n",
    "        error += 1.0 / n * abs(Y[i] - predictions[i])\n",
    "\n",
    "    print exp, error\n",
    "    \n",
    "    exp += diff\n",
    "    count += 1"
   ]
  },
  {
   "cell_type": "code",
   "execution_count": 28,
   "metadata": {
    "collapsed": false
   },
   "outputs": [
    {
     "data": {
      "text/plain": [
       "RandomForestRegressor(bootstrap=True, criterion='mse', max_depth=None,\n",
       "           max_features='auto', max_leaf_nodes=None,\n",
       "           min_impurity_split=1e-07, min_samples_leaf=1,\n",
       "           min_samples_split=2, min_weight_fraction_leaf=0.0,\n",
       "           n_estimators=10, n_jobs=1, oob_score=False, random_state=None,\n",
       "           verbose=0, warm_start=False)"
      ]
     },
     "execution_count": 28,
     "metadata": {},
     "output_type": "execute_result"
    }
   ],
   "source": [
    "predictions = np.asarray(predictions).reshape(-1,1)\n",
    "model = RFR()\n",
    "model.fit(predictions, Y)"
   ]
  },
  {
   "cell_type": "code",
   "execution_count": 31,
   "metadata": {
    "collapsed": false
   },
   "outputs": [],
   "source": [
    "model_predicts = model.predict(predictions)"
   ]
  },
  {
   "cell_type": "code",
   "execution_count": 33,
   "metadata": {
    "collapsed": false
   },
   "outputs": [
    {
     "name": "stdout",
     "output_type": "stream",
     "text": [
      "135.01329971\n"
     ]
    }
   ],
   "source": [
    "error = 0\n",
    "n = len(model_predicts)\n",
    "for i in range(int(n)):\n",
    "    error += 1.0 / n * abs(Y[i] - model_predicts[i])\n",
    "print error"
   ]
  },
  {
   "cell_type": "code",
   "execution_count": 34,
   "metadata": {
    "collapsed": false
   },
   "outputs": [
    {
     "data": {
      "text/plain": [
       "63.0"
      ]
     },
     "execution_count": 34,
     "metadata": {},
     "output_type": "execute_result"
    }
   ],
   "source": [
    "user_medians[\"fa40b43298ba3f8aa52e8e8863faf2e2171e0b5d\"]"
   ]
  },
  {
   "cell_type": "code",
   "execution_count": 35,
   "metadata": {
    "collapsed": false
   },
   "outputs": [
    {
     "data": {
      "text/plain": [
       "554"
      ]
     },
     "execution_count": 35,
     "metadata": {},
     "output_type": "execute_result"
    }
   ],
   "source": [
    "Y[0]"
   ]
  },
  {
   "cell_type": "code",
   "execution_count": 36,
   "metadata": {
    "collapsed": false
   },
   "outputs": [
    {
     "name": "stdout",
     "output_type": "stream",
     "text": [
      "[ 476.42800713]\n",
      "502.0\n",
      "93.0\n"
     ]
    }
   ],
   "source": [
    "print predictions[0]\n",
    "print user_medians[\"eb1c57ddc9e0e2d005169d3a1a96e8dd95e3af03\"]\n",
    "print artist_medians[\"5a8e07d5-d932-4484-a7f7-e700793a9c94\"]"
   ]
  },
  {
   "cell_type": "code",
   "execution_count": 56,
   "metadata": {
    "collapsed": false
   },
   "outputs": [],
   "source": [
    "exp = .22\n",
    "with open('test.csv', 'rb') as test_fh:\n",
    "    test_csv = csv.reader(test_fh, delimiter=',', quotechar='\"', quoting=csv.QUOTE_MINIMAL)\n",
    "    next(test_csv, None)\n",
    "    with open(\"simple_preds_2196.csv\", 'w') as sp_fh:\n",
    "        sp_csv = csv.writer(sp_fh, delimiter=',', quotechar='\"', quoting=csv.QUOTE_MINIMAL)\n",
    "        sp_csv.writerow(['Id', 'plays'])\n",
    "        count = 1\n",
    "        for row in test_csv:\n",
    "            user = row[1]\n",
    "            artist = row[2]\n",
    "            prediction = user_medians[user] * (artist_medians[artist] / global_median) ** exp\n",
    "            #model.predict(user_medians[user] * (artist_medians[artist] / global_median) ** exp)[0]\n",
    "            sp_csv.writerow([count, round(prediction,6)])\n",
    "            count += 1\n"
   ]
  },
  {
   "cell_type": "code",
   "execution_count": 53,
   "metadata": {
    "collapsed": false
   },
   "outputs": [],
   "source": [
    "with open('simple_preds_RF_10.csv', 'rb') as test_fh:\n",
    "    test_csv = csv.reader(test_fh, delimiter=',', quotechar='\"', quoting=csv.QUOTE_MINIMAL)\n",
    "    next(test_csv, None)\n",
    "    with open(\"simple_preds_RF_10_2.csv\", 'w') as sp_fh:\n",
    "        sp_csv = csv.writer(sp_fh, delimiter=',', quotechar='\"', quoting=csv.QUOTE_MINIMAL)\n",
    "        sp_csv.writerow(['Id', 'plays'])\n",
    "        count = 1\n",
    "        for row in test_csv:\n",
    "            #Id = row[0]\n",
    "            pred = row[1]\n",
    "            sp_csv.writerow([count , pred])\n",
    "            count += 1"
   ]
  },
  {
   "cell_type": "code",
   "execution_count": null,
   "metadata": {
    "collapsed": true
   },
   "outputs": [],
   "source": []
  }
 ],
 "metadata": {
  "kernelspec": {
   "display_name": "Python 2",
   "language": "python",
   "name": "python2"
  },
  "language_info": {
   "codemirror_mode": {
    "name": "ipython",
    "version": 2
   },
   "file_extension": ".py",
   "mimetype": "text/x-python",
   "name": "python",
   "nbconvert_exporter": "python",
   "pygments_lexer": "ipython2",
   "version": "2.7.13"
  }
 },
 "nbformat": 4,
 "nbformat_minor": 2
}
