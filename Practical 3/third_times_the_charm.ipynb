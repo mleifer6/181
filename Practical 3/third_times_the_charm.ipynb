{
 "cells": [
  {
   "cell_type": "code",
   "execution_count": 1,
   "metadata": {
    "collapsed": true
   },
   "outputs": [],
   "source": [
    "import numpy as np\n",
    "import csv\n",
    "import musicbrainzngs as mb\n",
    "from sklearn.ensemble import RandomForestRegressor\n",
    "from sklearn.cluster import KMeans\n",
    "from sklearn.model_selection import cross_val_score\n",
    "from sklearn.metrics import mean_absolute_error\n",
    "import itertools\n",
    "from sklearn.model_selection import train_test_split\n",
    "from sklearn.neural_network import MLPRegressor"
   ]
  },
  {
   "cell_type": "code",
   "execution_count": 2,
   "metadata": {
    "collapsed": true
   },
   "outputs": [],
   "source": [
    "train_file = 'train.csv'\n",
    "test_file  = 'test.csv'\n",
    "soln_file  = 'user_median.csv'\n",
    "users_file = 'profiles.csv'\n",
    "artists_file = 'artists.csv'\n",
    "artist_genre_file = 'temp_extended_artists.csv'"
   ]
  },
  {
   "cell_type": "code",
   "execution_count": 3,
   "metadata": {
    "collapsed": true
   },
   "outputs": [],
   "source": [
    "# required to use mb API\n",
    "mb.set_useragent(app='cs181practical', version='1.0')"
   ]
  },
  {
   "cell_type": "code",
   "execution_count": 4,
   "metadata": {
    "collapsed": true
   },
   "outputs": [],
   "source": [
    "genre_distributions = {}"
   ]
  },
  {
   "cell_type": "code",
   "execution_count": 5,
   "metadata": {
    "collapsed": true
   },
   "outputs": [],
   "source": [
    "# get median, standard deviation of each genre given {genre # -> list of artist ids}\n",
    "def genre_dist(genre):\n",
    "    if genre in genre_distributions:\n",
    "        return genre_distributions[genre]\n",
    "    else:\n",
    "        plays = []\n",
    "        with open(\"temp_extended_artists.csv\", 'r') as extended_artists:\n",
    "            tables = csv.reader(extended_artists, delimiter = ',', quotechar = '\"')\n",
    "            next(tables, None)\n",
    "            for row in tables:\n",
    "                if row[12] == genre:\n",
    "                    plays.append(row[11])\n",
    "        median = np.median(plays)\n",
    "        stddev = np.std(plays)\n",
    "        genre_distributions[genre] = (median, stddev)\n",
    "        return (median, stddev)"
   ]
  },
  {
   "cell_type": "code",
   "execution_count": 6,
   "metadata": {
    "collapsed": true
   },
   "outputs": [],
   "source": [
    "artist_scores = {}"
   ]
  },
  {
   "cell_type": "code",
   "execution_count": 7,
   "metadata": {
    "collapsed": true
   },
   "outputs": [],
   "source": [
    "def artist_dist(artist_id):\n",
    "    if artist_id in artist_scores:\n",
    "        return artist_scores[artist_id]\n",
    "    else:\n",
    "        with open(\"temp_extended_artists.csv\", 'r') as extended_artists:\n",
    "            tables = csv.reader(extended_artists, delimiter = ',', quotechar = '\"')\n",
    "            next(tables, None)\n",
    "            for row in tables:\n",
    "                if row[1] == artist_id:\n",
    "                    genre_median, genre_dev = genre_dist(row[12])\n",
    "                    total_plays = row[11]\n",
    "                    artist_scores[artist_id] = (total_plays - genre_median) / genre_dev\n",
    "                    return (total_plays - genre_median) / genre_dev"
   ]
  },
  {
   "cell_type": "code",
   "execution_count": 8,
   "metadata": {
    "collapsed": true
   },
   "outputs": [],
   "source": [
    "# create mapping of artists to genres\n",
    "\n",
    "artist_genre_map = {}\n",
    "with open(artist_genre_file, 'r') as artist_genre_fh:\n",
    "    artist_genre_csv = csv.reader(artist_genre_fh, delimiter=',', quotechar='\"')\n",
    "    next(artist_genre_csv, None)\n",
    "    for row in artist_genre_csv:\n",
    "        # id,artist,group,person,US,begin,median,mean,min_plays,max_plays,std_dev_of_plays,total_plays,genre\n",
    "        artist = row[1]\n",
    "        genre  = row[-1]\n",
    "        if not artist in artist_genre_map:\n",
    "            artist_genre_map[artist] = genre"
   ]
  },
  {
   "cell_type": "code",
   "execution_count": 9,
   "metadata": {
    "collapsed": true
   },
   "outputs": [],
   "source": [
    "# read training data, aggregating play count by genre\n",
    "\n",
    "train_data = {}\n",
    "with open(train_file, 'r') as train_fh:\n",
    "    train_csv = csv.reader(train_fh, delimiter=',', quotechar='\"')\n",
    "    next(train_csv, None)\n",
    "    for row in train_csv:\n",
    "        user   = row[0]\n",
    "        artist = row[1]\n",
    "        plays  = row[2]\n",
    "        \n",
    "        genre = artist_genre_map[artist]\n",
    "    \n",
    "        if not user in train_data:\n",
    "            train_data[user] = {}\n",
    "        \n",
    "        if not genre in train_data[user]:\n",
    "            train_data[user][genre] = {}\n",
    "            \n",
    "        if not \"list\" in train_data[user][genre]:\n",
    "            train_data[user][genre][\"list\"] = []\n",
    "            \n",
    "        train_data[user][genre][\"list\"].append(int(plays))"
   ]
  },
  {
   "cell_type": "code",
   "execution_count": 12,
   "metadata": {
    "collapsed": false
   },
   "outputs": [],
   "source": [
    "# for each user and genre, find median and std dev\n",
    "\n",
    "for user in train_data:\n",
    "    for genre in train_data[user]:\n",
    "        train_data[user][genre][\"med\"] = np.median(np.array(train_data[user][genre][\"list\"]))\n",
    "        train_data[user][genre][\"std_dev\"] = np.std(np.array(train_data[user][genre][\"list\"]))"
   ]
  },
  {
   "cell_type": "code",
   "execution_count": null,
   "metadata": {
    "collapsed": true
   },
   "outputs": [],
   "source": [
    "# determine users' median, to be used if user-genre pair hasn't been encountered\n",
    "\n",
    "plays_array  = []\n",
    "user_medians = {}\n",
    "user_stds = {}\n",
    "for user, user_data in train_data.items():\n",
    "    train_data[user][\"total\"] = sum(train_data[user].values())\n",
    "    user_plays = []\n",
    "    for artist, plays in user_data.items():\n",
    "        plays_array.append(plays)\n",
    "        user_plays.append(plays)\n",
    "\n",
    "    user_medians[user] = np.median(np.array(user_plays))\n",
    "    user_stds[user] = np.std(np.array(user_plays))\n",
    "global_median = np.median(np.array(plays_array))"
   ]
  },
  {
   "cell_type": "code",
   "execution_count": null,
   "metadata": {
    "collapsed": true
   },
   "outputs": [],
   "source": [
    "# given a z score, user, and artist, output an appropriate prediction\n",
    "\n",
    "def predict_from_z(z, user, artist):\n",
    "    genre = artist_genre_map[artist]\n",
    "    \n",
    "    # known user-genre association\n",
    "    if genre in train_data[user]:\n",
    "        med = train_data[user][genre][\"med\"]\n",
    "        std_dev = train_data[user][genre][\"std_dev\"]\n",
    "        pred = int((std_dev * z) + med)\n",
    "    else:\n",
    "        pred = int((user_stds[user] * z) + user_medians[user])\n",
    "    return pred"
   ]
  },
  {
   "cell_type": "code",
   "execution_count": null,
   "metadata": {
    "collapsed": true
   },
   "outputs": [],
   "source": [
    "def predict(user, artist):\n",
    "    z = artist_dist(artist)\n",
    "    return predict_from_z(z, user, artist)"
   ]
  },
  {
   "cell_type": "code",
   "execution_count": null,
   "metadata": {
    "collapsed": true
   },
   "outputs": [],
   "source": [
    "soln_file = \"distributions_1.csv\"\n",
    "with open(\"test.csv\", 'r') as test_fh:\n",
    "\ttest_csv = csv.reader(test_fh, delimiter=',', quotechar='\"')\n",
    "\tnext(test_csv, None)\n",
    "\n",
    "\twith open(soln_file, 'w') as soln_fh:\n",
    "\t\tsoln_csv = csv.writer(soln_fh,\n",
    "\t\t\t\t\t\t\t  delimiter=',',\n",
    "\t\t\t\t\t\t\t  quotechar='\"',\n",
    "                              newline='')\n",
    "\t\tsoln_csv.writerow(['Id', 'plays'])\n",
    "\n",
    "\t\tfor row in test_csv:\n",
    "\t\t\tid     = row[0]\n",
    "\t\t\tuser   = row[1]\n",
    "\t\t\tartist = row[2]\n",
    "\n",
    "\t\t\t#data = np.asarray(users[user]).reshape(1,-1)\n",
    "\t\t\t#predicted_plays = round(model.predict(data)[0],4)\n",
    "\t\t\t#if predicted_plays < 0:\n",
    "\t\t\t\t#predicted_plays = users[user][3]\n",
    "\t\t\tsoln_csv.writerow([id, predict(user, artist)])"
   ]
  }
 ],
 "metadata": {
  "kernelspec": {
   "display_name": "Python 2",
   "language": "python",
   "name": "python2"
  },
  "language_info": {
   "codemirror_mode": {
    "name": "ipython",
    "version": 2
   },
   "file_extension": ".py",
   "mimetype": "text/x-python",
   "name": "python",
   "nbconvert_exporter": "python",
   "pygments_lexer": "ipython2",
   "version": "2.7.13"
  }
 },
 "nbformat": 4,
 "nbformat_minor": 2
}
