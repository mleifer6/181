{
 "cells": [
  {
   "cell_type": "code",
   "execution_count": 7,
   "metadata": {
    "ExecuteTime": {
     "end_time": "2017-03-04T10:44:24.761333",
     "start_time": "2017-03-04T10:43:37.392981"
    },
    "collapsed": false,
    "deletable": true,
    "editable": true,
    "hide_input": true,
    "run_control": {
     "frozen": false,
     "read_only": false
    }
   },
   "outputs": [],
   "source": [
    "import numpy as np\n",
    "import pandas as pd\n",
    "import matplotlib.pyplot as plt\n",
    "import csv\n",
    "from os import system\n",
    "import os\n",
    "import keras\n",
    "import util"
   ]
  },
  {
   "cell_type": "code",
   "execution_count": 17,
   "metadata": {
    "ExecuteTime": {
     "end_time": "2017-03-04T10:22:00.645939",
     "start_time": "2017-03-04T10:22:00.639228"
    },
    "collapsed": false,
    "deletable": true,
    "editable": true,
    "hide_input": true,
    "run_control": {
     "marked": true
    }
   },
   "outputs": [],
   "source": [
    "import xml.etree.ElementTree as ET\n",
    "import classification_starter as start\n",
    "import os\n",
    "from collections import Counter\n",
    "try:\n",
    "    import xml.etree.cElementTree as ET\n",
    "except ImportError:\n",
    "    import xml.etree.ElementTree as ET\n",
    "import numpy as np\n",
    "from scipy import sparse\n",
    "\n",
    "import util"
   ]
  },
  {
   "cell_type": "code",
   "execution_count": 56,
   "metadata": {
    "code_folding": [],
    "collapsed": false
   },
   "outputs": [],
   "source": [
    "direc=\"train\"\n",
    "ids = []\n",
    "classes = []\n",
    "\n",
    "counters = []\n",
    "\n",
    "for datafile in os.listdir(direc):\n",
    "    # extract id and true class (if available) from filename\n",
    "    id_str,clazz = datafile.split('.')[:2]\n",
    "    ids.append(id_str)\n",
    "    \n",
    "    # add target class if this is training data\n",
    "    try:\n",
    "        classes.append(util.malware_classes.index(clazz))\n",
    "        \n",
    "    except ValueError:\n",
    "        # we should only fail to find the label in our list of malware classes\n",
    "        # if this is test data, which always has an \"X\" label\n",
    "        assert clazz == \"X\"\n",
    "        classes.append(-1)\n",
    "    \n",
    "    c = Counter()\n",
    "    #rowfd = {}\n",
    "    # parse file as an xml document\n",
    "    tree = ET.parse(os.path.join(direc,datafile))\n",
    "    root = tree.getroot()\n",
    "    for all_sect in root.findall(\".//all_section\"):\n",
    "        for sub in all_sect:\n",
    "            #print sub.tag\n",
    "            c[sub.tag] +=1\n",
    "    \n",
    "    counters.append(c)\n",
    "#     for child in root:\n",
    "#         for all_section in child.iter('all_section'):\n",
    "#             print all_section"
   ]
  },
  {
   "cell_type": "code",
   "execution_count": 112,
   "metadata": {
    "collapsed": false
   },
   "outputs": [],
   "source": [
    "sentences = []\n",
    "#for i in range(len(os.listdir(direc))):\n",
    "for i in range(200):\n",
    "    tree = ET.parse(os.path.join(direc,os.listdir(direc)[i]))\n",
    "    tree_string = ET.tostring(tree.getroot(), method='xml')\n",
    "    tree_string = tree_string.replace('=', \" \")\n",
    "    sentences.append(tree_string.split(' '))"
   ]
  },
  {
   "cell_type": "code",
   "execution_count": 113,
   "metadata": {
    "collapsed": true
   },
   "outputs": [],
   "source": [
    "sentences_valid = []\n",
    "#for i in range(len(os.listdir(direc))):\n",
    "for i in range(200,300):\n",
    "    tree = ET.parse(os.path.join(direc,os.listdir(direc)[i]))\n",
    "    tree_string = ET.tostring(tree.getroot(), method='xml')\n",
    "    tree_string = tree_string.replace('=', \" \")\n",
    "    sentences_valid.append(tree_string.split(' '))"
   ]
  },
  {
   "cell_type": "code",
   "execution_count": 118,
   "metadata": {
    "ExecuteTime": {
     "end_time": "2017-03-05T19:53:06.536971",
     "start_time": "2017-03-05T19:53:06.189892"
    },
    "collapsed": false
   },
   "outputs": [
    {
     "ename": "SyntaxError",
     "evalue": "cannot use absolute path on element",
     "output_type": "error",
     "traceback": [
      "\u001b[0;36m  File \u001b[0;32m\"<string>\"\u001b[0;36m, line \u001b[0;32munknown\u001b[0m\n\u001b[0;31mSyntaxError\u001b[0m\u001b[0;31m:\u001b[0m cannot use absolute path on element\n"
     ]
    }
   ],
   "source": [
    "tree = ET.parse(os.path.join(direc,os.listdir(direc)[4]))\n",
    "root = tree.getroot()\n",
    "print root.findall('//<')\n"
   ]
  },
  {
   "cell_type": "code",
   "execution_count": 114,
   "metadata": {
    "collapsed": true
   },
   "outputs": [],
   "source": [
    "with open(\"sentences_valid.csv\",'wb') as filename:\n",
    "    wr = csv.writer(filename,delimiter=',')\n",
    "    wr.writerows(sentences_valid)"
   ]
  },
  {
   "cell_type": "code",
   "execution_count": 115,
   "metadata": {
    "collapsed": false
   },
   "outputs": [],
   "source": [
    "with open(\"sentences.csv\",'wb') as filename:\n",
    "    wr = csv.writer(filename,delimiter=',')\n",
    "    wr.writerows(sentences)"
   ]
  },
  {
   "cell_type": "code",
   "execution_count": 132,
   "metadata": {
    "ExecuteTime": {
     "end_time": "2017-03-05T19:56:07.931625",
     "start_time": "2017-03-05T19:56:07.866018"
    },
    "collapsed": false
   },
   "outputs": [],
   "source": [
    "l = []\n",
    "for i in sentences[1]:\n",
    "    try:\n",
    "        if \"<\" in i:\n",
    "            l.append(i)\n",
    "    except:\n",
    "        pass"
   ]
  },
  {
   "cell_type": "code",
   "execution_count": 138,
   "metadata": {
    "ExecuteTime": {
     "end_time": "2017-03-05T19:58:55.354491",
     "start_time": "2017-03-05T19:58:55.258965"
    },
    "collapsed": false,
    "run_control": {
     "marked": true
    }
   },
   "outputs": [
    {
     "name": "stdout",
     "output_type": "stream",
     "text": [
      "\n",
      "<dump_line\n",
      "/all_section>\n",
      "</thread>\n",
      "</process>\n",
      "</processes>\n",
      "/all_section>\n",
      "</thread>\n",
      "</process>\n",
      "<process\n",
      "/all_section>\n",
      "</thread>\n",
      "<thread\n",
      "/recv_socket>\n",
      "<com_create_instance\n",
      "/recv_socket>\n",
      "<create_file\n",
      "/recv_socket>\n",
      "<delete_file\n",
      "/recv_socket>\n",
      "<get_host_by_name\n",
      "/recv_socket>\n",
      "<open_file\n",
      "/recv_socket>\n",
      "<open_url\n",
      "/recv_socket>\n",
      "<recv_socket\n",
      "/recv_socket>\n",
      "<sleep\n",
      "/send_socket>\n",
      "<load_dll\n",
      "/send_socket>\n",
      "<recv_socket\n",
      "/send_socket>\n",
      "<send_socket\n",
      "/send_socket>\n",
      "<sleep\n",
      "0\">\n",
      "<all_section>\n",
      "<com_create_instance\n",
      "0\">\n",
      "<all_section>\n",
      "<connect\n",
      "0\">\n",
      "<all_section>\n",
      "<create_open_file\n",
      "0\">\n",
      "<all_section>\n",
      "<load_dll\n",
      "0\">\n",
      "<all_section>\n",
      "<load_image\n",
      "0\">\n",
      "<all_section>\n",
      "<open_key\n",
      "0\">\n",
      "<dump_line\n",
      "2\">\n",
      "<all_section>\n",
      "<com_create_instance\n",
      "2\">\n",
      "<all_section>\n",
      "<create_open_file\n",
      "2\">\n",
      "<all_section>\n",
      "<load_dll\n",
      "2\">\n",
      "<all_section>\n",
      "<set_windows_hook\n",
      "2\">\n",
      "<all_section>\n",
      "<sleep\n",
      "2\">\n",
      "<dump_line\n",
      "4\">\n",
      "<all_section>\n",
      "<com_create_instance\n",
      "4\">\n",
      "<all_section>\n",
      "<create_open_file\n",
      "4\">\n",
      "<all_section>\n",
      "<get_system_directory\n",
      "4\">\n",
      "<all_section>\n",
      "<load_dll\n",
      "4\">\n",
      "<all_section>\n",
      "<load_image\n",
      "4\">\n",
      "<all_section>\n",
      "<open_file\n",
      "4\">\n",
      "<dump_line\n",
      "6\">\n",
      "<all_section>\n",
      "<com_create_instance\n",
      "6\">\n",
      "<all_section>\n",
      "<get_host_by_name\n",
      "6\">\n",
      "<all_section>\n",
      "<load_dll\n",
      "6\">\n",
      "<all_section>\n",
      "<load_image\n",
      "6\">\n",
      "<all_section>\n",
      "<open_key\n",
      "6\">\n",
      "<all_section>\n",
      "<sleep\n",
      "8\">\n",
      "<all_section>\n",
      "<com_create_instance\n",
      "8\">\n",
      "<all_section>\n",
      "<create_file\n",
      "8\">\n",
      "<all_section>\n",
      "<create_open_file\n",
      "8\">\n",
      "<all_section>\n",
      "<create_thread\n",
      "8\">\n",
      "<all_section>\n",
      "<load_dll\n",
      "8\">\n",
      "<all_section>\n",
      "<set_windows_hook\n",
      "8\">\n",
      "<all_section>\n",
      "<sleep\n",
      "8\">\n",
      "<dump_line\n",
      "TEM\">\n",
      "</process>\n",
      "<process\n",
      "TEM\">\n",
      "<thread\n",
      "bind_socket\n",
      "cesses>\n",
      "<process\n",
      "check_for_debugger\n",
      "com_create_instance\n",
      "com_get_class_object\n",
      "connect\n",
      "connect_socket\n",
      "copy_file\n",
      "create_directory\n",
      "create_file\n",
      "create_key\n",
      "create_mutex\n",
      "create_open_file\n",
      "create_process\n",
      "create_socket\n",
      "create_thread\n",
      "create_window\n",
      "delete_file\n",
      "delete_key\n",
      "delete_value\n",
      "destroy_window\n",
      "dump_line\n",
      "enum_keys\n",
      "enum_processes\n",
      "enum_values\n",
      "enum_window\n",
      "find_file\n",
      "find_window\n",
      "get_computer_name\n",
      "get_file_attributes\n",
      "get_host_by_name\n",
      "get_system_directory\n",
      "get_system_time\n",
      "get_username\n",
      "get_windows_directory\n",
      "impersonate_user\n",
      "inistrator\">\n",
      "<thread\n",
      "kill_process\n",
      "load_dll\n",
      "open_file\n",
      "open_key\n",
      "open_mutex\n",
      "open_process\n",
      "open_scmanager\n",
      "open_service\n",
      "open_url\n",
      "query_value\n",
      "read_section\n",
      "read_value\n",
      "recv_socket\n",
      "remove_directory\n",
      "send_socket\n",
      "set_file_attributes\n",
      "set_file_time\n",
      "set_value\n",
      "set_windows_hook\n",
      "show_window\n",
      "sleep\n",
      "trimmed_bytes\n",
      "vm_protect\n",
      "write_value\n"
     ]
    }
   ],
   "source": [
    "no = [i[4:] for i in l]\n",
    "\n",
    "for i in np.unique(np.array(no)):\n",
    "    print i"
   ]
  },
  {
   "cell_type": "code",
   "execution_count": 103,
   "metadata": {
    "collapsed": false,
    "scrolled": true
   },
   "outputs": [
    {
     "name": "stdout",
     "output_type": "stream",
     "text": [
      "5863\n",
      "137987\n",
      "789\n",
      "5516\n",
      "18921\n"
     ]
    }
   ],
   "source": [
    "for i in range(5):\n",
    "    print len(sentences[i])"
   ]
  },
  {
   "cell_type": "code",
   "execution_count": 78,
   "metadata": {
    "collapsed": false,
    "hide_input": true,
    "run_control": {
     "marked": true
    }
   },
   "outputs": [],
   "source": [
    "tree_0 = ET.parse(os.path.join(direc,os.listdir(direc)[0]))\n",
    "root_0 = tree_0.getroot()\n",
    "tree_string = ET.tostring(root_0, method='xml')"
   ]
  },
  {
   "cell_type": "code",
   "execution_count": 79,
   "metadata": {
    "collapsed": false,
    "hide_input": true
   },
   "outputs": [],
   "source": [
    "tree_string\n",
    "tree_string = tree_string.replace('=', \" \")"
   ]
  },
  {
   "cell_type": "code",
   "execution_count": 85,
   "metadata": {
    "collapsed": false
   },
   "outputs": [
    {
     "ename": "NameError",
     "evalue": "name 'gensim' is not defined",
     "output_type": "error",
     "traceback": [
      "\u001b[0;31m---------------------------------------------------------------------------\u001b[0m",
      "\u001b[0;31mNameError\u001b[0m                                 Traceback (most recent call last)",
      "\u001b[0;32m<ipython-input-85-15595ae006ad>\u001b[0m in \u001b[0;36m<module>\u001b[0;34m()\u001b[0m\n\u001b[0;32m----> 1\u001b[0;31m \u001b[0mmodel\u001b[0m \u001b[0;34m=\u001b[0m \u001b[0mgensim\u001b[0m\u001b[0;34m.\u001b[0m\u001b[0mmodels\u001b[0m\u001b[0;34m.\u001b[0m\u001b[0mWord2Vec\u001b[0m\u001b[0;34m(\u001b[0m\u001b[0msentences\u001b[0m\u001b[0;34m,\u001b[0m \u001b[0mmin_count\u001b[0m\u001b[0;34m=\u001b[0m\u001b[0;36m1\u001b[0m\u001b[0;34m)\u001b[0m\u001b[0;34m\u001b[0m\u001b[0m\n\u001b[0m",
      "\u001b[0;31mNameError\u001b[0m: name 'gensim' is not defined"
     ]
    }
   ],
   "source": [
    "model = gensim.models.Word2Vec(sentences, min_count=1)"
   ]
  },
  {
   "cell_type": "code",
   "execution_count": 80,
   "metadata": {
    "collapsed": true,
    "hide_input": true
   },
   "outputs": [
    {
     "data": {
      "text/plain": [
       "'<processes>\\n<process applicationtype \"Win32Application\" executionstatus \"OK\" filename \"c:\\\\1025be1934a50c3355adb359507f2862.EX\" filename_hash \"hash_error\" filesize \"149270\" index \"1\" md5 \"1025be1934a50c3355adb359507f2862\" parentindex \"0\" pid \"1952\" sha1 \"0069ea50001a6c699d0222032d45b74b2e7e8be9\" startreason \"AnalysisTarget\" starttime \"00:01.704\" terminationreason \"NormalTermination\" terminationtime \"00:10.547\" username \"Administrator\">\\n<thread tid \"1960\">\\n<all_section>\\n<load_image address \"$400000\" end_address \"$415000\" filename \"c:\\\\1025be1934a50c3355adb359507f2862.EX\" filename_hash \"hash_error\" size \"86016\" successful \"1\" />\\n<load_dll address \"$7C910000\" end_address \"$7C9C9000\" filename \"C:\\\\WINDOWS\\\\system32\\\\ntdll.dll\" filename_hash \"e753d19a2e3b98b2b3b8f02f276092096d10f22d\" size \"757760\" successful \"1\" />\\n<load_dll address \"$7C800000\" end_address \"$7C908000\" filename \"C:\\\\WINDOWS\\\\system32\\\\kernel32.dll\" filename_hash \"c88d57cc99f75cd928b47b6e444231f26670138f\" size \"1081344\" successful \"1\" />\\n<load_dll address \"$77DA0000\" end_address \"$77E4A000\" filename \"C:\\\\WINDOWS\\\\system32\\\\ADVAPI32.dll\" filename_hash \"ea2e9bac1789b53d7efcd675a63f4a2b44898439\" size \"696320\" successful \"1\" />\\n<load_dll address \"$77E50000\" end_address \"$77EE2000\" filename \"C:\\\\WINDOWS\\\\system32\\\\RPCRT4.dll\" filename_hash \"f3bb6474ec18ee9cccc02ef44510a78b42058a41\" size \"598016\" successful \"1\" />\\n<load_dll address \"$77FC0000\" end_address \"$77FD1000\" filename \"C:\\\\WINDOWS\\\\system32\\\\Secur32.dll\" filename_hash \"31166d1e35a911a082149f5efac2dac228109615\" size \"69632\" successful \"1\" />\\n<load_dll address \"$773A0000\" end_address \"$774A3000\" filename \"C:\\\\WINDOWS\\\\WinSxS\\\\X86_Microsoft.Windows.Common-Controls_6595b64144ccf1df_6.0.2600.5512_x-ww_35d4ce83\\\\\" filename_hash \"hash_error\" size \"1060864\" successful \"1\" />\\n<load_dll address \"$77BE0000\" end_address \"$77C38000\" filename \"C:\\\\WINDOWS\\\\system32\\\\msvcrt.dll\" filename_hash \"70d5f97088cc9348bb9d10098af0738a696b96de\" size \"360448\" successful \"1\" />\\n<load_dll address \"$77EF0000\" end_address \"$77F39000\" filename \"C:\\\\WINDOWS\\\\system32\\\\GDI32.dll\" filename_hash \"0f37018f672c7635691f7317ade3c5a63904ec96\" size \"299008\" successful \"1\" />\\n<load_dll address \"$7E360000\" end_address \"$7E3F1000\" filename \"C:\\\\WINDOWS\\\\system32\\\\USER32.dll\" filename_hash \"08fe9ff1fe9b8fd237adedb10d65fb0447b91fe5\" size \"593920\" successful \"1\" />\\n<load_dll address \"$77F40000\" end_address \"$77FB6000\" filename \"C:\\\\WINDOWS\\\\system32\\\\SHLWAPI.dll\" filename_hash \"a9245beec2e139b31cd3b65e0f0e4804c030e639\" size \"483328\" successful \"1\" />\\n<load_dll address \"$73D00000\" end_address \"$73D27000\" filename \"C:\\\\WINDOWS\\\\system32\\\\CRTDLL.dll\" filename_hash \"c432bd1921cbbe0eb91663fe4a80d17378230a1a\" size \"159744\" successful \"1\" />\\n<load_dll address \"$774B0000\" end_address \"$775ED000\" filename \"C:\\\\WINDOWS\\\\system32\\\\ole32.dll\" filename_hash \"c7753525d5276ab92a01a8a3c39cfb5269da7f98\" size \"1298432\" successful \"1\" />\\n<load_dll address \"$7E670000\" end_address \"$7EE91000\" filename \"C:\\\\WINDOWS\\\\system32\\\\SHELL32.dll\" filename_hash \"bbe9d57955e5d348e664b72faf331a7b9d722d0c\" size \"8523776\" successful \"1\" />\\n<load_dll address \"$76330000\" end_address \"$7634D000\" filename \"C:\\\\WINDOWS\\\\system32\\\\IMM32.DLL\" filename_hash \"f9be7678080084bc3cb48d0cb64bba9ba98800f1\" size \"118784\" successful \"1\" />\\n<load_dll address \"$770F0000\" end_address \"$7717B000\" filename \"C:\\\\WINDOWS\\\\system32\\\\oleaut32.dll\" filename_hash \"3168a173d177f470928b468db777640861dcb32e\" size \"569344\" successful \"1\" />\\n<load_dll address \"$5E490000\" end_address \"$5E49D000\" filename \"C:\\\\WINDOWS\\\\system32\\\\pstorec.dll\" filename_hash \"8ae378a352c4a13516bf1fe5a8615d8893d2ff2d\" size \"53248\" successful \"1\" />\\n<load_dll address \"$76AD0000\" end_address \"$76AE1000\" filename \"C:\\\\WINDOWS\\\\system32\\\\ATL.DLL\" filename_hash \"59cb82f432d529da3e81b030b2365c22a95fd35a\" size \"69632\" successful \"1\" />\\n<load_dll address \"$7C800000\" end_address \"$7C908000\" filename \"C:\\\\WINDOWS\\\\system32\\\\kernel32.dll\" filename_hash \"c88d57cc99f75cd928b47b6e444231f26670138f\" size \"1081344\" successful \"1\" />\\n<load_dll address \"$77DA0000\" end_address \"$77E4A000\" filename \"C:\\\\WINDOWS\\\\system32\\\\ADVAPI32.dll\" filename_hash \"ea2e9bac1789b53d7efcd675a63f4a2b44898439\" size \"696320\" successful \"1\" />\\n<load_dll address \"$773A0000\" end_address \"$774A3000\" filename \"C:\\\\WINDOWS\\\\WinSxS\\\\X86_Microsoft.Windows.Common-Controls_6595b64144ccf1df_6.0.2600.5512_x-ww_35d4ce83\\\\\" filename_hash \"hash_error\" size \"1060864\" successful \"1\" />\\n<load_dll address \"$73D00000\" end_address \"$73D27000\" filename \"C:\\\\WINDOWS\\\\system32\\\\CRTDLL.dll\" filename_hash \"c432bd1921cbbe0eb91663fe4a80d17378230a1a\" size \"159744\" successful \"1\" />\\n<load_dll address \"$774B0000\" end_address \"$775ED000\" filename \"C:\\\\WINDOWS\\\\system32\\\\ole32.dll\" filename_hash \"c7753525d5276ab92a01a8a3c39cfb5269da7f98\" size \"1298432\" successful \"1\" />\\n<load_dll address \"$7E670000\" end_address \"$7EE91000\" filename \"C:\\\\WINDOWS\\\\system32\\\\SHELL32.dll\" filename_hash \"bbe9d57955e5d348e664b72faf331a7b9d722d0c\" size \"8523776\" successful \"1\" />\\n<load_dll address \"$7E360000\" end_address \"$7E3F1000\" filename \"C:\\\\WINDOWS\\\\system32\\\\USER32.dll\" filename_hash \"08fe9ff1fe9b8fd237adedb10d65fb0447b91fe5\" size \"593920\" successful \"1\" />\\n<open_file creationdistribution \"OPEN_EXISTING\" desiredaccess \"FILE_ANY_ACCESS\" filetype \"file\" flags \"FILE_ATTRIBUTE_NORMAL SECURITY_ANONYMOUS\" shareaccess \"FILE_SHARE_READ FILE_SHARE_WRITE\" srcfile \"c:\\\\1025be1934a50c3355adb359507f2862.EX\" srcfile_hash \"hash_error\" />\\n<get_windows_directory />\\n<check_for_debugger apifunction \"IsDebuggerPresent\" />\\n<load_dll address \"$5B0F0000\" end_address \"$5B128000\" filename \"C:\\\\WINDOWS\\\\system32\\\\uxtheme.dll\" filename_hash \"16c4d24a172bfbc67f488d6b4086b9e10f8eaf4b\" size \"229376\" successful \"1\" />\\n<get_system_directory />\\n<open_key key \"HKEY_LOCAL_MACHINE\\\\SOFTWARE\\\\Microsoft\\\\CTF\\\\Compatibility\\\\1025be1934a50c3355adb359507f2862.EX\" />\\n<open_key key \"HKEY_LOCAL_MACHINE\\\\SOFTWARE\\\\Microsoft\\\\CTF\\\\SystemShared\" />\\n<query_value key \"HKEY_LOCAL_MACHINE\\\\SOFTWARE\\\\Microsoft\\\\CTF\\\\SystemShared\" value \"CUAS\" />\\n<create_mutex name \"CTF.LBES.MutexDefaultS-1-5-21-583907252-1708537768-842925246-500\" owned \"0\" />\\n<create_mutex name \"CTF.Compart.MutexDefaultS-1-5-21-583907252-1708537768-842925246-500\" owned \"0\" />\\n<create_mutex name \"CTF.Asm.MutexDefaultS-1-5-21-583907252-1708537768-842925246-500\" owned \"0\" />\\n<create_mutex name \"CTF.Layouts.MutexDefaultS-1-5-21-583907252-1708537768-842925246-500\" owned \"0\" />\\n<create_mutex name \"CTF.TMD.MutexDefaultS-1-5-21-583907252-1708537768-842925246-500\" owned \"0\" />\\n<open_key key \"HKEY_CURRENT_USER\\\\Keyboard Layout\\\\Toggle\" />\\n<query_value key \"HKEY_CURRENT_USER\\\\Keyboard Layout\\\\Toggle\" value \"Language Hotkey\" />\\n<query_value key \"HKEY_CURRENT_USER\\\\Keyboard Layout\\\\Toggle\" value \"Layout Hotkey\" />\\n<get_system_directory />\\n<open_key key \"HKEY_LOCAL_MACHINE\\\\SOFTWARE\\\\Microsoft\\\\CTF\" />\\n<query_value key \"HKEY_LOCAL_MACHINE\\\\SOFTWARE\\\\Microsoft\\\\CTF\" value \"EnableAnchorContext\" />\\n<create_mutex name \"CTF.TimListCache.FMPDefaultS-1-5-21-583907252-1708537768-842925246-500MUTEX.DefaultS-1-5-21-583907252\" owned \"0\" />\\n<set_windows_hook hook_address \"$746B07C3\" hook_module \"$746A0000\" hookid \"WH_KEYBOARD\" threadid \"1960\" />\\n<set_windows_hook hook_address \"$746B04CD\" hook_module \"$746A0000\" hookid \"WH_MOUSE\" threadid \"1960\" />\\n<open_key key \"HKEY_LOCAL_MACHINE\\\\Software\\\\Microsoft\\\\Windows NT\\\\CurrentVersion\\\\IMM\" />\\n<query_value key \"HKEY_LOCAL_MACHINE\\\\SOFTWARE\\\\Microsoft\\\\Windows NT\\\\CurrentVersion\\\\IMM\" value \"Ime File\" />\\n<load_dll address \"$77BD0000\" end_address \"$77BD8000\" filename \"C:\\\\WINDOWS\\\\system32\\\\version.dll\" filename_hash \"adf263b658136ccb3cde72d0e6dd634c5a5e5143\" size \"32768\" successful \"1\" />\\n<get_system_directory />\\n<load_dll address \"$3D0001\" end_address \"$3D0001\" filename \"C:\\\\WINDOWS\\\\system32\\\\msctfime.ime\" filename_hash \"434c43fc87679a37aa054c0c18e190ccb39a4439\" size \"0\" successful \"1\" />\\n<get_system_directory />\\n<load_dll address \"$774B0000\" end_address \"$775ED000\" filename \"C:\\\\WINDOWS\\\\system32\\\\ole32.dll\" filename_hash \"c7753525d5276ab92a01a8a3c39cfb5269da7f98\" size \"1298432\" successful \"1\" />\\n<load_dll address \"$75250000\" end_address \"$7527E000\" filename \"C:\\\\WINDOWS\\\\system32\\\\msctfime.ime\" filename_hash \"434c43fc87679a37aa054c0c18e190ccb39a4439\" size \"188416\" successful \"1\" />\\n<get_system_directory />\\n<create_window classname \"IME\" exstyle \"WS_EX_LEFT WS_EX_LTRREADING WS_EX_RIGHTSCROLLBAR\" height \"0\" hwnd \"$00010162\" left \"0\" style \"WS_DISABLED WS_OVERLAPPED WS_POPUP WS_TILED\" top \"0\" width \"0\" windowname \"Default IME\" />\\n<open_key key \"HKEY_CURRENT_USER\\\\SOFTWARE\\\\Microsoft\\\\CTF\" />\\n<query_value key \"HKEY_CURRENT_USER\\\\Software\\\\Microsoft\\\\CTF\" value \"Disable Thread Input Manager\" />\\n<open_key key \"HKEY_LOCAL_MACHINE\\\\Software\\\\Microsoft\\\\CTF\\\\SystemShared\" />\\n<query_value key \"HKEY_LOCAL_MACHINE\\\\SOFTWARE\\\\Microsoft\\\\CTF\\\\SystemShared\" value \"CUAS\" />\\n<get_system_directory />\\n<load_dll address \"$75250000\" end_address \"$7527E000\" filename \"C:\\\\WINDOWS\\\\system32\\\\msctfime.ime\" filename_hash \"434c43fc87679a37aa054c0c18e190ccb39a4439\" size \"188416\" successful \"1\" />\\n<create_window classname \"#32770\" exstyle \"WS_EX_CONTROLPARENT WS_EX_DLGMODALFRAME WS_EX_LEFT WS_EX_LTRREADING WS_EX_RIGHTSCROLLBAR WS_EX_WINDOWEDGE\" height \"159\" hwnd \"$00010160\" left \"448\" style \"WS_BORDER WS_CAPTION WS_DLGFRAME WS_GROUP WS_MINIMIZEBOX WS_OVERLAPPED WS_POPUP WS_POPUPWINDOW WS_SYSMENU WS_TILED\" top \"432\" width \"383\" windowname \"Confirm Extracting\" />\\n<load_dll address \"$5B0F0000\" end_address \"$5B128000\" filename \"C:\\\\WINDOWS\\\\system32\\\\uxtheme.dll\" filename_hash \"16c4d24a172bfbc67f488d6b4086b9e10f8eaf4b\" size \"229376\" successful \"1\" />\\n<load_dll address \"$76330000\" end_address \"$7634D000\" filename \"C:\\\\WINDOWS\\\\system32\\\\IMM32.DLL\" filename_hash \"f9be7678080084bc3cb48d0cb64bba9ba98800f1\" size \"118784\" successful \"1\" />\\n<create_window classname \"MSCTFIME UI\" exstyle \"WS_EX_LEFT WS_EX_LTRREADING WS_EX_RIGHTSCROLLBAR\" height \"0\" hwnd \"$00010170\" left \"0\" style \"WS_DISABLED WS_OVERLAPPED WS_POPUP WS_TILED\" top \"0\" width \"0\" windowname \"M\" />\\n<get_system_directory />\\n<find_window classname \"Shell_TrayWnd\" />\\n<enum_window />\\n<create_window classname \"CicMarshalWndClass\" exstyle \"WS_EX_LEFT WS_EX_LTRREADING WS_EX_RIGHTSCROLLBAR\" height \"0\" hwnd \"$00010172\" left \"0\" style \"WS_DISABLED WS_OVERLAPPED WS_POPUP WS_TILED\" top \"0\" width \"0\" windowname \"CicMarshalWndIKH\" />\\n<show_window hwnd \"$00010160\" snapshotfile \"proc_1\\\\hwnd_10160.jpg\" />\\n<enum_window />\\n<show_window hwnd \"$00010160\" snapshotfile \"proc_1\\\\hwnd_10160.jpg\" />\\n<open_key key \"HKEY_CURRENT_USER\\\\Keyboard Layout\\\\Toggle\" />\\n<query_value key \"HKEY_CURRENT_USER\\\\Keyboard Layout\\\\Toggle\" value \"Language Hotkey\" />\\n<query_value key \"HKEY_CURRENT_USER\\\\Keyboard Layout\\\\Toggle\" value \"Layout Hotkey\" />\\n<open_key key \"HKEY_CURRENT_USER\\\\SOFTWARE\\\\Microsoft\\\\CTF\\\\LangBarAddIn\" />\\n<open_key key \"HKEY_LOCAL_MACHINE\\\\SOFTWARE\\\\Microsoft\\\\CTF\\\\LangBarAddIn\" />\\n<create_mutex name \"MSCTF.Shared.MUTEX.IPG\" owned \"0\" />\\n<get_system_directory />\\n<enum_window />\\n<get_file_attributes desiredaccess \"FILE_ANY_ACCESS\" filetype \"file\" flags \"SECURITY_ANONYMOUS\" srcfile \"C:\\\\Program Files\\\\Photron\\\\StoneMeister V4.0\\\\&#149;&#230;&#144;&#206;&#149;&#148;&#149;i\\\\\" srcfile_hash \"hash_error\" />\\n<create_window classname \"IME\" exstyle \"WS_EX_LEFT WS_EX_LTRREADING WS_EX_RIGHTSCROLLBAR\" height \"0\" hwnd \"$00020160\" left \"0\" style \"WS_DISABLED WS_OVERLAPPED WS_POPUP WS_TILED\" top \"0\" width \"0\" windowname \"Default IME\" />\\n<create_window classname \"#32770\" exstyle \"WS_EX_CONTROLPARENT WS_EX_DLGMODALFRAME WS_EX_LEFT WS_EX_LTRREADING WS_EX_RIGHTSCROLLBAR WS_EX_WINDOWEDGE\" height \"126\" hwnd \"$000300CE\" left \"405\" style \"WS_BORDER WS_CAPTION WS_DLGFRAME WS_OVERLAPPED WS_POPUP WS_POPUPWINDOW WS_SYSMENU WS_TILED\" top \"478\" width \"476\" windowname \"LHA-SFX\" />\\n<create_window classname \"MSCTFIME UI\" exstyle \"WS_EX_LEFT WS_EX_LTRREADING WS_EX_RIGHTSCROLLBAR\" height \"0\" hwnd \"$00020166\" left \"0\" style \"WS_DISABLED WS_OVERLAPPED WS_POPUP WS_TILED\" top \"0\" width \"0\" windowname \"M\" />\\n<show_window hwnd \"$000300CE\" snapshotfile \"proc_1\\\\hwnd_300CE.jpg\" />\\n<enum_window />\\n<show_window hwnd \"$000300CE\" snapshotfile \"proc_1\\\\hwnd_300CE.jpg\" />\\n<enum_window />\\n<get_system_directory />\\n<enum_window />\\n<get_file_attributes desiredaccess \"FILE_ANY_ACCESS\" filetype \"file\" flags \"SECURITY_ANONYMOUS\" srcfile \"C:\\\\\" srcfile_hash \"hash_error\" />\\n<get_file_attributes desiredaccess \"FILE_ANY_ACCESS\" filetype \"file\" flags \"SECURITY_ANONYMOUS\" srcfile \"C:\\\\Program Files\\\\\" srcfile_hash \"hash_error\" />\\n<create_directory filetype \"file\" srcfile \"C:\\\\Program Files\\\\\" srcfile_hash \"hash_error\" />\\n<get_file_attributes desiredaccess \"FILE_ANY_ACCESS\" filetype \"file\" flags \"SECURITY_ANONYMOUS\" srcfile \"C:\\\\Program Files\\\\Photron\\\\\" srcfile_hash \"hash_error\" />\\n<create_directory filetype \"file\" srcfile \"C:\\\\Program Files\\\\Photron\\\\\" srcfile_hash \"hash_error\" />\\n<get_file_attributes desiredaccess \"FILE_ANY_ACCESS\" filetype \"file\" flags \"SECURITY_ANONYMOUS\" srcfile \"C:\\\\Program Files\\\\Photron\\\\StoneMeister V4.0\\\\\" srcfile_hash \"hash_error\" />\\n<create_directory filetype \"file\" srcfile \"C:\\\\Program Files\\\\Photron\\\\StoneMeister V4.0\\\\\" srcfile_hash \"hash_error\" />\\n<get_file_attributes desiredaccess \"FILE_ANY_ACCESS\" filetype \"file\" flags \"SECURITY_ANONYMOUS\" srcfile \"C:\\\\Program Files\\\\Photron\\\\StoneMeister V4.0\\\\&#149;&#230;&#144;&#206;&#149;&#148;&#149;i\\\\\" srcfile_hash \"hash_error\" />\\n<create_directory filetype \"file\" srcfile \"C:\\\\Program Files\\\\Photron\\\\StoneMeister V4.0\\\\&#149;&#230;&#144;&#206;&#149;&#148;&#149;i\\\\\" srcfile_hash \"hash_error\" />\\n<create_window classname \"IME\" exstyle \"WS_EX_LEFT WS_EX_LTRREADING WS_EX_RIGHTSCROLLBAR\" height \"0\" hwnd \"$00030168\" left \"0\" style \"WS_DISABLED WS_OVERLAPPED WS_POPUP WS_TILED\" top \"0\" width \"0\" windowname \"Default IME\" />\\n<create_window classname \"#32770\" exstyle \"WS_EX_CONTROLPARENT WS_EX_DLGMODALFRAME WS_EX_LEFT WS_EX_LTRREADING WS_EX_RIGHTSCROLLBAR WS_EX_WINDOWEDGE\" height \"178\" hwnd \"$000400CE\" left \"448\" style \"WS_BORDER WS_CAPTION WS_DLGFRAME WS_OVERLAPPED WS_POPUP WS_POPUPWINDOW WS_SYSMENU WS_TILED\" top \"423\" width \"383\" windowname \"Decompressing...\" />\\n<load_dll address \"$7E670000\" end_address \"$7EE91000\" filename \"C:\\\\WINDOWS\\\\system32\\\\SHELL32.dll\" filename_hash \"bbe9d57955e5d348e664b72faf331a7b9d722d0c\" size \"8523776\" successful \"1\" />\\n<create_window classname \"MSCTFIME UI\" exstyle \"WS_EX_LEFT WS_EX_LTRREADING WS_EX_RIGHTSCROLLBAR\" height \"0\" hwnd \"$00020174\" left \"0\" style \"WS_DISABLED WS_OVERLAPPED WS_POPUP WS_TILED\" top \"0\" width \"0\" windowname \"M\" />\\n<enum_window />\\n<show_window hwnd \"$000400CE\" />\\n<enum_window />\\n<show_window hwnd \"$000400CE\" />\\n<create_thread address \"$004033F6\" parameteraddress \"$0012FE34\" targetpid \"1952\" threadid \"2168\" />\\n<sleep milliseconds \"1\" />\\n<destroy_window classname \"SysAnimate32\" hwnd \"$00030166\" />\\n<enum_window />\\n<destroy_window classname \"#32770\" hwnd \"$000400CE\" windowname \"Decompressing...\" />\\n<enum_window />\\n<sleep milliseconds \"1\" />\\n<create_window classname \"OleMainThreadWndClass\" exstyle \"WS_EX_LEFT WS_EX_LTRREADING WS_EX_RIGHTSCROLLBAR\" height \"0\" hwnd \"$000500CE\" left \"0\" style \"WS_DISABLED WS_OVERLAPPED WS_POPUP WS_TILED\" top \"0\" width \"0\" windowname \"OleMainThreadWndName\" />\\n<load_dll address \"$597D0000\" end_address \"$59825000\" filename \"C:\\\\WINDOWS\\\\system32\\\\netapi32.dll\" filename_hash \"5e935f90226ff224936edf449f925b647b535917\" size \"348160\" successful \"1\" />\\n<open_file creationdistribution \"OPEN_EXISTING\" desiredaccess \"FILE_ANY_ACCESS\" filetype \"namedpipe\" flags \"SECURITY_ANONYMOUS\" shareaccess \"FILE_SHARE_READ FILE_SHARE_WRITE\" srcfile \"\\\\\\\\.\\\\PIPE\\\\wkssvc\" />\\n<get_file_attributes desiredaccess \"FILE_ANY_ACCESS\" filetype \"file\" flags \"SECURITY_ANONYMOUS\" srcfile \"c:\\\\\" srcfile_hash \"hash_error\" />\\n<find_file desiredaccess \"FILE_ANY_ACCESS\" filetype \"file\" flags \"SECURITY_ANONYMOUS\" srcfile \"explorer.*\" srcfile_hash \"hash_error\" />\\n<load_dll address \"$77B10000\" end_address \"$77B32000\" filename \"C:\\\\WINDOWS\\\\system32\\\\appHelp.dll\" filename_hash \"016ea16586e3c27f4bd43341ba906187a416afe0\" size \"139264\" successful \"1\" />\\n<open_key key \"HKEY_LOCAL_MACHINE\\\\System\\\\CurrentControlSet\\\\Control\\\\Session Manager\\\\AppCompatibility\" />\\n<query_value key \"HKEY_LOCAL_MACHINE\\\\SYSTEM\\\\ControlSet001\\\\Control\\\\Session Manager\\\\AppCompatibility\" value \"DisableAppCompat\" />\\n<open_key key \"HKEY_LOCAL_MACHINE\\\\Software\\\\Classes\\\\CLSID\\\\{871c5380-42a0-1069-a2ea-08002b30309d}\\\\InProcServer32\" />\\n<query_value key \"HKEY_LOCAL_MACHINE\\\\SOFTWARE\\\\Classes\\\\CLSID\\\\{871C5380-42A0-1069-A2EA-08002B30309D}\\\\InProcServer32\" />\\n<open_file creationdistribution \"OPEN_EXISTING\" desiredaccess \"FILE_ANY_ACCESS FILE_READ_ATTRIBUTES\" filetype \"file\" flags \"FILE_ATTRIBUTE_NORMAL SECURITY_ANONYMOUS\" shareaccess \"FILE_SHARE_READ\" srcfile \"C:\\\\WINDOWS\\\\system32\\\\ieframe.dll\" srcfile_hash \"4425a987f6efbdd7ba266d0b1475924d6dc08d0b\" />\\n<load_dll address \"$774B0000\" end_address \"$775ED000\" filename \"C:\\\\WINDOWS\\\\system32\\\\ole32.dll\" filename_hash \"c7753525d5276ab92a01a8a3c39cfb5269da7f98\" size \"1298432\" successful \"1\" />\\n<com_create_instance clsid \"{871C5380-42A0-1069-A2EA-08002B30309D}\" inprocserver32 \"C:\\\\WINDOWS\\\\system32\\\\ieframe.dll\" interfaceid \"{000214E6-0000-0000-C000-000000000046}\" />\\n<get_system_directory />\\n<get_file_attributes desiredaccess \"FILE_ANY_ACCESS\" filetype \"file\" flags \"SECURITY_ANONYMOUS\" srcfile \"C:\\\\WINDOWS\\\\Registration\" srcfile_hash \"hash_error\" />\\n<open_file creationdistribution \"OPEN_EXISTING\" desiredaccess \"FILE_ANY_ACCESS\" filetype \"file\" flags \"SECURITY_ANONYMOUS\" shareaccess \"FILE_SHARE_READ\" srcfile \"C:\\\\WINDOWS\\\\Registration\\\\R000000000007.clb\" srcfile_hash \"99fde804817f1de99c87653fda604fc37510f3da\" />\\n<load_dll address \"$7C800000\" end_address \"$7C908000\" filename \"C:\\\\WINDOWS\\\\system32\\\\kernel32.dll\" filename_hash \"c88d57cc99f75cd928b47b6e444231f26670138f\" size \"1081344\" successful \"1\" />\\n<open_key key \"HKEY_LOCAL_MACHINE\\\\SOFTWARE\\\\Microsoft\\\\Windows\\\\CurrentVersion\\\\App Paths\\\\IEXPLORE.EXE\" />\\n<query_value key \"HKEY_LOCAL_MACHINE\\\\SOFTWARE\\\\Microsoft\\\\Windows\\\\CurrentVersion\\\\App Paths\\\\IEXPLORE.EXE\" />\\n<open_file creationdistribution \"OPEN_EXISTING\" desiredaccess \"FILE_ANY_ACCESS FILE_READ_ATTRIBUTES\" filetype \"file\" flags \"FILE_ATTRIBUTE_NORMAL SECURITY_ANONYMOUS\" shareaccess \"FILE_SHARE_READ\" srcfile \"C:\\\\Programme\\\\Internet Explorer\\\\IEXPLORE.EXE\" srcfile_hash \"hash_error\" />\\n<open_key key \"HKEY_LOCAL_MACHINE\\\\SOFTWARE\\\\Microsoft\\\\Internet Explorer\\\\Setup\" />\\n<query_value key \"HKEY_LOCAL_MACHINE\\\\SOFTWARE\\\\Microsoft\\\\Internet Explorer\\\\Setup\" value \"IExploreLastModifiedLow\" />\\n<open_key key \"HKEY_LOCAL_MACHINE\\\\SOFTWARE\\\\Microsoft\\\\Internet Explorer\\\\Setup\" />\\n<query_value key \"HKEY_LOCAL_MACHINE\\\\SOFTWARE\\\\Microsoft\\\\Internet Explorer\\\\Setup\" value \"IExploreLastModifiedHigh\" />\\n<create_thread address \"$77DC848A\" parameteraddress \"$00000000\" targetpid \"1952\" threadid \"2192\" />\\n<load_dll address \"$773A0000\" end_address \"$774A3000\" filename \"C:\\\\WINDOWS\\\\WinSxS\\\\X86_Microsoft.Windows.Common-Controls_6595b64144ccf1df_6.0.2600.5512_x-ww_35d4ce83\\\\\" filename_hash \"hash_error\" size \"1060864\" successful \"1\" />\\n<open_key key \"HKEY_CLASSES_ROOT\\\\Interface\\\\{EAB22AC1-30C1-11CF-A7EB-0000C05BAE0B}\\\\Typelib\" />\\n<query_value key \"HKEY_LOCAL_MACHINE\\\\SOFTWARE\\\\Classes\\\\Interface\\\\{EAB22AC1-30C1-11CF-A7EB-0000C05BAE0B}\\\\TypeLib\" />\\n<open_key key \"HKEY_CLASSES_ROOT\\\\CLSID\\\\{c90250f3-4d7d-4991-9b69-a5c5bc1c2ae6}\" />\\n<open_key key \"HKEY_LOCAL_MACHINE\\\\Software\\\\Microsoft\\\\Internet Explorer\\\\Setup\\\\7.0\" />\\n<open_key key \"HKEY_CLASSES_ROOT\\\\Interface\\\\{b722bccb-4e68-101b-a2bc-00aa00404770}\\\\ProxyStubClsid32\" />\\n<query_value key \"HKEY_LOCAL_MACHINE\\\\SOFTWARE\\\\Classes\\\\Interface\\\\{B722BCCB-4E68-101B-A2BC-00AA00404770}\\\\ProxyStubClsid32\" />\\n<open_key key \"HKEY_CLASSES_ROOT\\\\Interface\\\\{79eac9c4-baf9-11ce-8c82-00aa004ba90b}\\\\ProxyStubClsid32\" />\\n<query_value key \"HKEY_LOCAL_MACHINE\\\\SOFTWARE\\\\Classes\\\\Interface\\\\{79EAC9C4-BAF9-11CE-8C82-00AA004BA90B}\\\\ProxyStubClsid32\" />\\n<open_key key \"HKEY_CLASSES_ROOT\\\\Interface\\\\{000214E6-0000-0000-C000-000000000046}\\\\ProxyStubClsid32\" />\\n<query_value key \"HKEY_LOCAL_MACHINE\\\\SOFTWARE\\\\Classes\\\\Interface\\\\{000214E6-0000-0000-C000-000000000046}\\\\ProxyStubClsid32\" />\\n<open_key key \"HKEY_CLASSES_ROOT\\\\Interface\\\\{93F2F68C-1D1B-11D3-A30E-00C04F79ABD1}\\\\ProxyStubClsid32\" />\\n<query_value key \"HKEY_LOCAL_MACHINE\\\\SOFTWARE\\\\Classes\\\\Interface\\\\{93F2F68C-1D1B-11D3-A30E-00C04F79ABD1}\\\\ProxyStubClsid32\" />\\n<vm_protect address \"$76BB3000\" behavior \"Normal\" protect \"PAGE_EXECUTE_READWRITE\" size \"4096\" targetpid \"1952\" wantedaddress \"$76BB3A76\" wantedsize \"8\" />\\n<vm_protect address \"$76BB3000\" behavior \"Normal\" protect \"PAGE_EXECUTE_READ\" size \"4096\" targetpid \"1952\" wantedaddress \"$76BB3A76\" wantedsize \"8\" />\\n<vm_protect address \"$76BB1000\" behavior \"Normal\" protect \"PAGE_EXECUTE_READWRITE\" size \"4096\" targetpid \"1952\" wantedaddress \"$76BB1EF4\" wantedsize \"8\" />\\n<vm_protect address \"$76BB1000\" behavior \"Normal\" protect \"PAGE_EXECUTE_READ\" size \"4096\" targetpid \"1952\" wantedaddress \"$76BB1EF4\" wantedsize \"8\" />\\n<load_dll address \"$774B0000\" end_address \"$775ED000\" filename \"C:\\\\WINDOWS\\\\system32\\\\ole32.dll\" filename_hash \"c7753525d5276ab92a01a8a3c39cfb5269da7f98\" size \"1298432\" successful \"1\" />\\n<open_key key \"HKEY_LOCAL_MACHINE\\\\Software\\\\Classes\\\\CLSID\\\\{56f9679e-7826-4c84-81f3-532071a8bcc5}\\\\InProcServer32\" />\\n<query_value key \"HKEY_LOCAL_MACHINE\\\\SOFTWARE\\\\Classes\\\\CLSID\\\\{56F9679E-7826-4C84-81F3-532071A8BCC5}\\\\InprocServer32\" />\\n<open_file creationdistribution \"OPEN_EXISTING\" desiredaccess \"FILE_ANY_ACCESS FILE_READ_ATTRIBUTES\" filetype \"file\" flags \"FILE_ATTRIBUTE_NORMAL SECURITY_ANONYMOUS\" shareaccess \"FILE_SHARE_READ\" srcfile \"C:\\\\Programme\\\\Windows Desktop Search\\\\MSNLNamespaceMgr.dll\" srcfile_hash \"hash_error\" />\\n<com_create_instance clsid \"{56F9679E-7826-4C84-81F3-532071A8BCC5}\" interfaceid \"{00000000-0000-0000-C000-000000000046}\" />\\n<vm_protect address \"$44200000\" behavior \"Normal\" protect \"PAGE_EXECUTE_READWRITE\" size \"4096\" targetpid \"1952\" wantedaddress \"$44200BCA\" wantedsize \"8\" />\\n<vm_protect address \"$44200000\" behavior \"Normal\" protect \"PAGE_EXECUTE_READ\" size \"4096\" targetpid \"1952\" wantedaddress \"$44200BCA\" wantedsize \"8\" />\\n<vm_protect address \"$4424A000\" behavior \"Normal\" protect \"PAGE_EXECUTE_READWRITE\" size \"4096\" targetpid \"1952\" wantedaddress \"$4424AF69\" wantedsize \"8\" />\\n<vm_protect address \"$4424A000\" behavior \"Normal\" protect \"PAGE_EXECUTE_READ\" size \"4096\" targetpid \"1952\" wantedaddress \"$4424AF69\" wantedsize \"8\" />\\n<vm_protect address \"$441F4000\" behavior \"Normal\" protect \"PAGE_EXECUTE_READWRITE\" size \"4096\" targetpid \"1952\" wantedaddress \"$441F4321\" wantedsize \"8\" />\\n<vm_protect address \"$441F4000\" behavior \"Normal\" protect \"PAGE_EXECUTE_READ\" size \"4096\" targetpid \"1952\" wantedaddress \"$441F4321\" wantedsize \"8\" />\\n<vm_protect address \"$441F5000\" behavior \"Normal\" protect \"PAGE_EXECUTE_READWRITE\" size \"4096\" targetpid \"1952\" wantedaddress \"$441F5D42\" wantedsize \"8\" />\\n<vm_protect address \"$441F5000\" behavior \"Normal\" protect \"PAGE_EXECUTE_READ\" size \"4096\" targetpid \"1952\" wantedaddress \"$441F5D42\" wantedsize \"8\" />\\n<vm_protect address \"$441F4000\" behavior \"Normal\" protect \"PAGE_EXECUTE_READWRITE\" size \"4096\" targetpid \"1952\" wantedaddress \"$441F497A\" wantedsize \"8\" />\\n<vm_protect address \"$441F4000\" behavior \"Normal\" protect \"PAGE_EXECUTE_READ\" size \"4096\" targetpid \"1952\" wantedaddress \"$441F497A\" wantedsize \"8\" />\\n<vm_protect address \"$441F5000\" behavior \"Normal\" protect \"PAGE_EXECUTE_READWRITE\" size \"4096\" targetpid \"1952\" wantedaddress \"$441F5B68\" wantedsize \"8\" />\\n<vm_protect address \"$441F5000\" behavior \"Normal\" protect \"PAGE_EXECUTE_READ\" size \"4096\" targetpid \"1952\" wantedaddress \"$441F5B68\" wantedsize \"8\" />\\n<vm_protect address \"$45367000\" behavior \"Normal\" protect \"PAGE_EXECUTE_READWRITE\" size \"4096\" target \"urlmon.dll.URLOpenStreamA\" targetpid \"1952\" wantedaddress \"$45367BF5\" wantedsize \"8\" />\\n<vm_protect address \"$45367000\" behavior \"Normal\" protect \"PAGE_EXECUTE_READ\" size \"4096\" target \"urlmon.dll.URLOpenStreamA\" targetpid \"1952\" wantedaddress \"$45367BF5\" wantedsize \"8\" />\\n<vm_protect address \"$45367000\" behavior \"Normal\" protect \"PAGE_EXECUTE_READWRITE\" size \"4096\" target \"urlmon.dll.URLOpenStreamW\" targetpid \"1952\" wantedaddress \"$45367810\" wantedsize \"8\" />\\n<vm_protect address \"$45367000\" behavior \"Normal\" protect \"PAGE_EXECUTE_READ\" size \"4096\" target \"urlmon.dll.URLOpenStreamW\" targetpid \"1952\" wantedaddress \"$45367810\" wantedsize \"8\" />\\n<vm_protect address \"$45367000\" behavior \"Normal\" protect \"PAGE_EXECUTE_READWRITE\" size \"4096\" target \"urlmon.dll.URLOpenPullStreamA\" targetpid \"1952\" wantedaddress \"$4536785A\" wantedsize \"8\" />\\n<vm_protect address \"$45367000\" behavior \"Normal\" protect \"PAGE_EXECUTE_READ\" size \"4096\" target \"urlmon.dll.URLOpenPullStreamA\" targetpid \"1952\" wantedaddress \"$4536785A\" wantedsize \"8\" />\\n<vm_protect address \"$45367000\" behavior \"Normal\" protect \"PAGE_EXECUTE_READWRITE\" size \"4096\" target \"urlmon.dll.URLOpenPullStreamW\" targetpid \"1952\" wantedaddress \"$45367760\" wantedsize \"8\" />\\n<vm_protect address \"$45367000\" behavior \"Normal\" protect \"PAGE_EXECUTE_READ\" size \"4096\" target \"urlmon.dll.URLOpenPullStreamW\" targetpid \"1952\" wantedaddress \"$45367760\" wantedsize \"8\" />\\n<vm_protect address \"$45367000\" behavior \"Normal\" protect \"PAGE_EXECUTE_READWRITE\" size \"4096\" target \"urlmon.dll.URLDownloadToFileA\" targetpid \"1952\" wantedaddress \"$453678F5\" wantedsize \"8\" />\\n<vm_protect address \"$45367000\" behavior \"Normal\" protect \"PAGE_EXECUTE_READ\" size \"4096\" target \"urlmon.dll.URLDownloadToFileA\" targetpid \"1952\" wantedaddress \"$453678F5\" wantedsize \"8\" />\\n<vm_protect address \"$45367000\" behavior \"Normal\" protect \"PAGE_EXECUTE_READWRITE\" size \"4096\" target \"urlmon.dll.URLDownloadToFileW\" targetpid \"1952\" wantedaddress \"$453677AA\" wantedsize \"8\" />\\n<vm_protect address \"$45367000\" behavior \"Normal\" protect \"PAGE_EXECUTE_READ\" size \"4096\" target \"urlmon.dll.URLDownloadToFileW\" targetpid \"1952\" wantedaddress \"$453677AA\" wantedsize \"8\" />\\n<vm_protect address \"$45367000\" behavior \"Normal\" protect \"PAGE_EXECUTE_READWRITE\" size \"4096\" target \"urlmon.dll.URLDownloadToCacheFileA\" targetpid \"1952\" wantedaddress \"$45367A07\" wantedsize \"8\" />\\n<vm_protect address \"$45367000\" behavior \"Normal\" protect \"PAGE_EXECUTE_READ\" size \"4096\" target \"urlmon.dll.URLDownloadToCacheFileA\" targetpid \"1952\" wantedaddress \"$45367A07\" wantedsize \"8\" />\\n<vm_protect address \"$45314000\" behavior \"Normal\" protect \"PAGE_EXECUTE_READWRITE\" size \"4096\" target \"urlmon.dll.URLDownloadToCacheFileW\" targetpid \"1952\" wantedaddress \"$453149DD\" wantedsize \"8\" />\\n<vm_protect address \"$45314000\" behavior \"Normal\" protect \"PAGE_EXECUTE_READ\" size \"4096\" target \"urlmon.dll.URLDownloadToCacheFileW\" targetpid \"1952\" wantedaddress \"$453149DD\" wantedsize \"8\" />\\n<vm_protect address \"$45367000\" behavior \"Normal\" protect \"PAGE_EXECUTE_READWRITE\" size \"4096\" target \"urlmon.dll.URLOpenBlockingStreamA\" targetpid \"1952\" wantedaddress \"$45367B4B\" wantedsize \"8\" />\\n<vm_protect address \"$45367000\" behavior \"Normal\" protect \"PAGE_EXECUTE_READ\" size \"4096\" target \"urlmon.dll.URLOpenBlockingStreamA\" targetpid \"1952\" wantedaddress \"$45367B4B\" wantedsize \"8\" />\\n<vm_protect address \"$45307000\" behavior \"Normal\" protect \"PAGE_EXECUTE_READWRITE\" size \"4096\" target \"urlmon.dll.URLOpenBlockingStreamW\" targetpid \"1952\" wantedaddress \"$4530776D\" wantedsize \"8\" />\\n<vm_protect address \"$45307000\" behavior \"Normal\" protect \"PAGE_EXECUTE_READ\" size \"4096\" target \"urlmon.dll.URLOpenBlockingStreamW\" targetpid \"1952\" wantedaddress \"$4530776D\" wantedsize \"8\" />\\n<open_key key \"HKEY_LOCAL_MACHINE\\\\Software\\\\Microsoft\\\\Windows Search\\\\ProtocolHandlers\" />\\n<enum_keys key \"HKEY_LOCAL_MACHINE\\\\SOFTWARE\\\\Microsoft\\\\Windows Search\\\\ProtocolHandlers\" />\\n<open_key key \"HKEY_LOCAL_MACHINE\\\\SOFTWARE\\\\Microsoft\\\\Windows Search\\\\ProtocolHandlers\\\\File\" />\\n<enum_keys key \"HKEY_LOCAL_MACHINE\\\\SOFTWARE\\\\Microsoft\\\\Windows Search\\\\ProtocolHandlers\\\\File\" />\\n<open_key key \"HKEY_LOCAL_MACHINE\\\\SOFTWARE\\\\Microsoft\\\\Windows Search\\\\ProtocolHandlers\\\\File\\\\0\" />\\n<query_value key \"HKEY_LOCAL_MACHINE\\\\SOFTWARE\\\\Microsoft\\\\Windows Search\\\\ProtocolHandlers\\\\File\\\\0\" value \"ProgID\" />\\n<open_key key \"HKEY_CLASSES_ROOT\\\\File\" />\\n<query_value key \"HKEY_LOCAL_MACHINE\\\\SOFTWARE\\\\Classes\\\\file\" value \"ShellFolder\" />\\n<enum_values key \"HKEY_LOCAL_MACHINE\\\\SOFTWARE\\\\Microsoft\\\\Windows Search\\\\ProtocolHandlers\" />\\n<open_key key \"HKEY_CLASSES_ROOT\\\\Mapi\" />\\n<query_value key \"HKEY_LOCAL_MACHINE\\\\SOFTWARE\\\\Classes\\\\Mapi\" value \"ShellFolder\" />\\n<open_key key \"HKEY_CLASSES_ROOT\\\\OutlookExpress\" />\\n<query_value key \"HKEY_LOCAL_MACHINE\\\\SOFTWARE\\\\Classes\\\\Outlookexpress\" value \"ShellFolder\" />\\n<open_key key \"HKEY_CLASSES_ROOT\\\\OTFS\" />\\n<query_value key \"HKEY_LOCAL_MACHINE\\\\SOFTWARE\\\\Classes\\\\OTFS\" value \"ShellFolder\" />\\n<open_key key \"HKEY_LOCAL_MACHINE\\\\Software\\\\Microsoft\\\\Windows Desktop Search\\\\Previewers\\\\Default\" />\\n<query_value key \"HKEY_LOCAL_MACHINE\\\\SOFTWARE\\\\Microsoft\\\\Windows Desktop Search\\\\Previewers\\\\Default\" />\\n<query_value key \"HKEY_LOCAL_MACHINE\\\\SOFTWARE\\\\Microsoft\\\\Windows Desktop Search\\\\Previewers\\\\Default\" value \"ContentType\" />\\n<query_value key \"HKEY_LOCAL_MACHINE\\\\SOFTWARE\\\\Microsoft\\\\Windows Desktop Search\\\\Previewers\\\\Default\" value \"TemplateUrl\" />\\n<query_value key \"HKEY_LOCAL_MACHINE\\\\SOFTWARE\\\\Microsoft\\\\Windows Desktop Search\\\\Previewers\\\\Default\" value \"ScriptOk\" />\\n<open_key key \"HKEY_LOCAL_MACHINE\\\\Software\\\\Microsoft\\\\Windows Desktop Search\\\\Previewers\\\\Extension\" />\\n<enum_keys key \"HKEY_LOCAL_MACHINE\\\\SOFTWARE\\\\Microsoft\\\\Windows Desktop Search\\\\Previewers\\\\Extension\" />\\n<open_key key \"HKEY_LOCAL_MACHINE\\\\Software\\\\Microsoft\\\\Windows Desktop Search\\\\Previewers\\\\Extension\\\\.bmp\" />\\n<query_value key \"HKEY_LOCAL_MACHINE\\\\SOFTWARE\\\\Microsoft\\\\Windows Desktop Search\\\\Previewers\\\\Extension\\\\.bmp\" />\\n<query_value key \"HKEY_LOCAL_MACHINE\\\\SOFTWARE\\\\Microsoft\\\\Windows Desktop Search\\\\Previewers\\\\Extension\\\\.bmp\" value \"ContentType\" />\\n<query_value key \"HKEY_LOCAL_MACHINE\\\\SOFTWARE\\\\Microsoft\\\\Windows Desktop Search\\\\Previewers\\\\Extension\\\\.bmp\" value \"TemplateUrl\" />\\n<query_value key \"HKEY_LOCAL_MACHINE\\\\SOFTWARE\\\\Microsoft\\\\Windows Desktop Search\\\\Previewers\\\\Extension\\\\.bmp\" value \"ScriptOk\" />\\n<open_key key \"HKEY_LOCAL_MACHINE\\\\Software\\\\Microsoft\\\\Windows Desktop Search\\\\Previewers\\\\Extension\\\\.c\" />\\n<query_value key \"HKEY_LOCAL_MACHINE\\\\SOFTWARE\\\\Microsoft\\\\Windows Desktop Search\\\\Previewers\\\\Extension\\\\.c\" />\\n<query_value key \"HKEY_LOCAL_MACHINE\\\\SOFTWARE\\\\Microsoft\\\\Windows Desktop Search\\\\Previewers\\\\Extension\\\\.c\" value \"ContentType\" />\\n<query_value key \"HKEY_LOCAL_MACHINE\\\\SOFTWARE\\\\Microsoft\\\\Windows Desktop Search\\\\Previewers\\\\Extension\\\\.c\" value \"TemplateUrl\" />\\n<query_value key \"HKEY_LOCAL_MACHINE\\\\SOFTWARE\\\\Microsoft\\\\Windows Desktop Search\\\\Previewers\\\\Extension\\\\.c\" value \"ScriptOk\" />\\n<open_key key \"HKEY_LOCAL_MACHINE\\\\Software\\\\Microsoft\\\\Windows Desktop Search\\\\Previewers\\\\Extension\\\\.cpp\" />\\n<query_value key \"HKEY_LOCAL_MACHINE\\\\SOFTWARE\\\\Microsoft\\\\Windows Desktop Search\\\\Previewers\\\\Extension\\\\.cpp\" />\\n<query_value key \"HKEY_LOCAL_MACHINE\\\\SOFTWARE\\\\Microsoft\\\\Windows Desktop Search\\\\Previewers\\\\Extension\\\\.cpp\" value \"ContentType\" />\\n<query_value key \"HKEY_LOCAL_MACHINE\\\\SOFTWARE\\\\Microsoft\\\\Windows Desktop Search\\\\Previewers\\\\Extension\\\\.cpp\" value \"TemplateUrl\" />\\n<query_value key \"HKEY_LOCAL_MACHINE\\\\SOFTWARE\\\\Microsoft\\\\Windows Desktop Search\\\\Previewers\\\\Extension\\\\.cpp\" value \"ScriptOk\" />\\n<open_key key \"HKEY_LOCAL_MACHINE\\\\Software\\\\Microsoft\\\\Windows Desktop Search\\\\Previewers\\\\Extension\\\\.cs\" />\\n<query_value key \"HKEY_LOCAL_MACHINE\\\\SOFTWARE\\\\Microsoft\\\\Windows Desktop Search\\\\Previewers\\\\Extension\\\\.cs\" />\\n<query_value key \"HKEY_LOCAL_MACHINE\\\\SOFTWARE\\\\Microsoft\\\\Windows Desktop Search\\\\Previewers\\\\Extension\\\\.cs\" value \"ContentType\" />\\n<query_value key \"HKEY_LOCAL_MACHINE\\\\SOFTWARE\\\\Microsoft\\\\Windows Desktop Search\\\\Previewers\\\\Extension\\\\.cs\" value \"TemplateUrl\" />\\n<query_value key \"HKEY_LOCAL_MACHINE\\\\SOFTWARE\\\\Microsoft\\\\Windows Desktop Search\\\\Previewers\\\\Extension\\\\.cs\" value \"ScriptOk\" />\\n<open_key key \"HKEY_LOCAL_MACHINE\\\\Software\\\\Microsoft\\\\Windows Desktop Search\\\\Previewers\\\\Extension\\\\.cxx\" />\\n<query_value key \"HKEY_LOCAL_MACHINE\\\\SOFTWARE\\\\Microsoft\\\\Windows Desktop Search\\\\Previewers\\\\Extension\\\\.cxx\" />\\n<query_value key \"HKEY_LOCAL_MACHINE\\\\SOFTWARE\\\\Microsoft\\\\Windows Desktop Search\\\\Previewers\\\\Extension\\\\.cxx\" value \"ContentType\" />\\n<query_value key \"HKEY_LOCAL_MACHINE\\\\SOFTWARE\\\\Microsoft\\\\Windows Desktop Search\\\\Previewers\\\\Extension\\\\.cxx\" value \"TemplateUrl\" />\\n<query_value key \"HKEY_LOCAL_MACHINE\\\\SOFTWARE\\\\Microsoft\\\\Windows Desktop Search\\\\Previewers\\\\Extension\\\\.cxx\" value \"ScriptOk\" />\\n<open_key key \"HKEY_LOCAL_MACHINE\\\\Software\\\\Microsoft\\\\Windows Desktop Search\\\\Previewers\\\\Extension\\\\.doc\" />\\n<query_value key \"HKEY_LOCAL_MACHINE\\\\SOFTWARE\\\\Microsoft\\\\Windows Desktop Search\\\\Previewers\\\\Extension\\\\.doc\" />\\n<query_value key \"HKEY_LOCAL_MACHINE\\\\SOFTWARE\\\\Microsoft\\\\Windows Desktop Search\\\\Previewers\\\\Extension\\\\.doc\" value \"ContentType\" />\\n<query_value key \"HKEY_LOCAL_MACHINE\\\\SOFTWARE\\\\Microsoft\\\\Windows Desktop Search\\\\Previewers\\\\Extension\\\\.doc\" value \"TemplateUrl\" />\\n<query_value key \"HKEY_LOCAL_MACHINE\\\\SOFTWARE\\\\Microsoft\\\\Windows Desktop Search\\\\Previewers\\\\Extension\\\\.doc\" value \"ScriptOk\" />\\n<open_key key \"HKEY_LOCAL_MACHINE\\\\Software\\\\Microsoft\\\\Windows Desktop Search\\\\Previewers\\\\Extension\\\\.dot\" />\\n<query_value key \"HKEY_LOCAL_MACHINE\\\\SOFTWARE\\\\Microsoft\\\\Windows Desktop Search\\\\Previewers\\\\Extension\\\\.dot\" />\\n<query_value key \"HKEY_LOCAL_MACHINE\\\\SOFTWARE\\\\Microsoft\\\\Windows Desktop Search\\\\Previewers\\\\Extension\\\\.dot\" value \"ContentType\" />\\n<query_value key \"HKEY_LOCAL_MACHINE\\\\SOFTWARE\\\\Microsoft\\\\Windows Desktop Search\\\\Previewers\\\\Extension\\\\.dot\" value \"TemplateUrl\" />\\n<query_value key \"HKEY_LOCAL_MACHINE\\\\SOFTWARE\\\\Microsoft\\\\Windows Desktop Search\\\\Previewers\\\\Extension\\\\.dot\" value \"ScriptOk\" />\\n<open_key key \"HKEY_LOCAL_MACHINE\\\\Software\\\\Microsoft\\\\Windows Desktop Search\\\\Previewers\\\\Extension\\\\.emf\" />\\n<query_value key \"HKEY_LOCAL_MACHINE\\\\SOFTWARE\\\\Microsoft\\\\Windows Desktop Search\\\\Previewers\\\\Extension\\\\.emf\" />\\n<query_value key \"HKEY_LOCAL_MACHINE\\\\SOFTWARE\\\\Microsoft\\\\Windows Desktop Search\\\\Previewers\\\\Extension\\\\.emf\" value \"ContentType\" />\\n<query_value key \"HKEY_LOCAL_MACHINE\\\\SOFTWARE\\\\Microsoft\\\\Windows Desktop Search\\\\Previewers\\\\Extension\\\\.emf\" value \"TemplateUrl\" />\\n<query_value key \"HKEY_LOCAL_MACHINE\\\\SOFTWARE\\\\Microsoft\\\\Windows Desktop Search\\\\Previewers\\\\Extension\\\\.emf\" value \"ScriptOk\" />\\n<open_key key \"HKEY_LOCAL_MACHINE\\\\Software\\\\Microsoft\\\\Windows Desktop Search\\\\Previewers\\\\Extension\\\\.eml\" />\\n<query_value key \"HKEY_LOCAL_MACHINE\\\\SOFTWARE\\\\Microsoft\\\\Windows Desktop Search\\\\Previewers\\\\Extension\\\\.eml\" />\\n<query_value key \"HKEY_LOCAL_MACHINE\\\\SOFTWARE\\\\Microsoft\\\\Windows Desktop Search\\\\Previewers\\\\Extension\\\\.eml\" value \"ContentType\" />\\n<query_value key \"HKEY_LOCAL_MACHINE\\\\SOFTWARE\\\\Microsoft\\\\Windows Desktop Search\\\\Previewers\\\\Extension\\\\.eml\" value \"TemplateUrl\" />\\n<query_value key \"HKEY_LOCAL_MACHINE\\\\SOFTWARE\\\\Microsoft\\\\Windows Desktop Search\\\\Previewers\\\\Extension\\\\.eml\" value \"ScriptOk\" />\\n<open_key key \"HKEY_LOCAL_MACHINE\\\\Software\\\\Microsoft\\\\Windows Desktop Search\\\\Previewers\\\\Extension\\\\.err\" />\\n<query_value key \"HKEY_LOCAL_MACHINE\\\\SOFTWARE\\\\Microsoft\\\\Windows Desktop Search\\\\Previewers\\\\Extension\\\\.err\" />\\n<query_value key \"HKEY_LOCAL_MACHINE\\\\SOFTWARE\\\\Microsoft\\\\Windows Desktop Search\\\\Previewers\\\\Extension\\\\.err\" value \"ContentType\" />\\n<query_value key \"HKEY_LOCAL_MACHINE\\\\SOFTWARE\\\\Microsoft\\\\Windows Desktop Search\\\\Previewers\\\\Extension\\\\.err\" value \"TemplateUrl\" />\\n<query_value key \"HKEY_LOCAL_MACHINE\\\\SOFTWARE\\\\Microsoft\\\\Windows Desktop Search\\\\Previewers\\\\Extension\\\\.err\" value \"ScriptOk\" />\\n<open_key key \"HKEY_LOCAL_MACHINE\\\\Software\\\\Microsoft\\\\Windows Desktop Search\\\\Previewers\\\\Extension\\\\.gif\" />\\n<query_value key \"HKEY_LOCAL_MACHINE\\\\SOFTWARE\\\\Microsoft\\\\Windows Desktop Search\\\\Previewers\\\\Extension\\\\.gif\" />\\n<query_value key \"HKEY_LOCAL_MACHINE\\\\SOFTWARE\\\\Microsoft\\\\Windows Desktop Search\\\\Previewers\\\\Extension\\\\.gif\" value \"ContentType\" />\\n<query_value key \"HKEY_LOCAL_MACHINE\\\\SOFTWARE\\\\Microsoft\\\\Windows Desktop Search\\\\Previewers\\\\Extension\\\\.gif\" value \"TemplateUrl\" />\\n<query_value key \"HKEY_LOCAL_MACHINE\\\\SOFTWARE\\\\Microsoft\\\\Windows Desktop Search\\\\Previewers\\\\Extension\\\\.gif\" value \"ScriptOk\" />\\n<open_key key \"HKEY_LOCAL_MACHINE\\\\Software\\\\Microsoft\\\\Windows Desktop Search\\\\Previewers\\\\Extension\\\\.h\" />\\n<query_value key \"HKEY_LOCAL_MACHINE\\\\SOFTWARE\\\\Microsoft\\\\Windows Desktop Search\\\\Previewers\\\\Extension\\\\.h\" />\\n<query_value key \"HKEY_LOCAL_MACHINE\\\\SOFTWARE\\\\Microsoft\\\\Windows Desktop Search\\\\Previewers\\\\Extension\\\\.h\" value \"ContentType\" />\\n<query_value key \"HKEY_LOCAL_MACHINE\\\\SOFTWARE\\\\Microsoft\\\\Windows Desktop Search\\\\Previewers\\\\Extension\\\\.h\" value \"TemplateUrl\" />\\n<query_value key \"HKEY_LOCAL_MACHINE\\\\SOFTWARE\\\\Microsoft\\\\Windows Desktop Search\\\\Previewers\\\\Extension\\\\.h\" value \"ScriptOk\" />\\n<open_key key \"HKEY_LOCAL_MACHINE\\\\Software\\\\Microsoft\\\\Windows Desktop Search\\\\Previewers\\\\Extension\\\\.htm\" />\\n<query_value key \"HKEY_LOCAL_MACHINE\\\\SOFTWARE\\\\Microsoft\\\\Windows Desktop Search\\\\Previewers\\\\Extension\\\\.htm\" />\\n<query_value key \"HKEY_LOCAL_MACHINE\\\\SOFTWARE\\\\Microsoft\\\\Windows Desktop Search\\\\Previewers\\\\Extension\\\\.htm\" value \"ContentType\" />\\n<query_value key \"HKEY_LOCAL_MACHINE\\\\SOFTWARE\\\\Microsoft\\\\Windows Desktop Search\\\\Previewers\\\\Extension\\\\.htm\" value \"TemplateUrl\" />\\n<query_value key \"HKEY_LOCAL_MACHINE\\\\SOFTWARE\\\\Microsoft\\\\Windows Desktop Search\\\\Previewers\\\\Extension\\\\.htm\" value \"ScriptOk\" />\\n<open_key key \"HKEY_LOCAL_MACHINE\\\\Software\\\\Microsoft\\\\Windows Desktop Search\\\\Previewers\\\\Extension\\\\.html\" />\\n<query_value key \"HKEY_LOCAL_MACHINE\\\\SOFTWARE\\\\Microsoft\\\\Windows Desktop Search\\\\Previewers\\\\Extension\\\\.html\" />\\n<query_value key \"HKEY_LOCAL_MACHINE\\\\SOFTWARE\\\\Microsoft\\\\Windows Desktop Search\\\\Previewers\\\\Extension\\\\.html\" value \"ContentType\" />\\n<query_value key \"HKEY_LOCAL_MACHINE\\\\SOFTWARE\\\\Microsoft\\\\Windows Desktop Search\\\\Previewers\\\\Extension\\\\.html\" value \"TemplateUrl\" />\\n<query_value key \"HKEY_LOCAL_MACHINE\\\\SOFTWARE\\\\Microsoft\\\\Windows Desktop Search\\\\Previewers\\\\Extension\\\\.html\" value \"ScriptOk\" />\\n<open_key key \"HKEY_LOCAL_MACHINE\\\\Software\\\\Microsoft\\\\Windows Desktop Search\\\\Previewers\\\\Extension\\\\.hxx\" />\\n<query_value key \"HKEY_LOCAL_MACHINE\\\\SOFTWARE\\\\Microsoft\\\\Windows Desktop Search\\\\Previewers\\\\Extension\\\\.hxx\" />\\n<query_value key \"HKEY_LOCAL_MACHINE\\\\SOFTWARE\\\\Microsoft\\\\Windows Desktop Search\\\\Previewers\\\\Extension\\\\.hxx\" value \"ContentType\" />\\n<query_value key \"HKEY_LOCAL_MACHINE\\\\SOFTWARE\\\\Microsoft\\\\Windows Desktop Search\\\\Previewers\\\\Extension\\\\.hxx\" value \"TemplateUrl\" />\\n<query_value key \"HKEY_LOCAL_MACHINE\\\\SOFTWARE\\\\Microsoft\\\\Windows Desktop Search\\\\Previewers\\\\Extension\\\\.hxx\" value \"ScriptOk\" />\\n<open_key key \"HKEY_LOCAL_MACHINE\\\\Software\\\\Microsoft\\\\Windows Desktop Search\\\\Previewers\\\\Extension\\\\.idl\" />\\n<query_value key \"HKEY_LOCAL_MACHINE\\\\SOFTWARE\\\\Microsoft\\\\Windows Desktop Search\\\\Previewers\\\\Extension\\\\.idl\" />\\n<query_value key \"HKEY_LOCAL_MACHINE\\\\SOFTWARE\\\\Microsoft\\\\Windows Desktop Search\\\\Previewers\\\\Extension\\\\.idl\" value \"ContentType\" />\\n<query_value key \"HKEY_LOCAL_MACHINE\\\\SOFTWARE\\\\Microsoft\\\\Windows Desktop Search\\\\Previewers\\\\Extension\\\\.idl\" value \"TemplateUrl\" />\\n<query_value key \"HKEY_LOCAL_MACHINE\\\\SOFTWARE\\\\Microsoft\\\\Windows Desktop Search\\\\Previewers\\\\Extension\\\\.idl\" value \"ScriptOk\" />\\n<open_key key \"HKEY_LOCAL_MACHINE\\\\Software\\\\Microsoft\\\\Windows Desktop Search\\\\Previewers\\\\Extension\\\\.jpeg\" />\\n<query_value key \"HKEY_LOCAL_MACHINE\\\\SOFTWARE\\\\Microsoft\\\\Windows Desktop Search\\\\Previewers\\\\Extension\\\\.jpeg\" />\\n<query_value key \"HKEY_LOCAL_MACHINE\\\\SOFTWARE\\\\Microsoft\\\\Windows Desktop Search\\\\Previewers\\\\Extension\\\\.jpeg\" value \"ContentType\" />\\n<query_value key \"HKEY_LOCAL_MACHINE\\\\SOFTWARE\\\\Microsoft\\\\Windows Desktop Search\\\\Previewers\\\\Extension\\\\.jpeg\" value \"TemplateUrl\" />\\n<query_value key \"HKEY_LOCAL_MACHINE\\\\SOFTWARE\\\\Microsoft\\\\Windows Desktop Search\\\\Previewers\\\\Extension\\\\.jpeg\" value \"ScriptOk\" />\\n<open_key key \"HKEY_LOCAL_MACHINE\\\\Software\\\\Microsoft\\\\Windows Desktop Search\\\\Previewers\\\\Extension\\\\.jpg\" />\\n<query_value key \"HKEY_LOCAL_MACHINE\\\\SOFTWARE\\\\Microsoft\\\\Windows Desktop Search\\\\Previewers\\\\Extension\\\\.jpg\" />\\n<query_value key \"HKEY_LOCAL_MACHINE\\\\SOFTWARE\\\\Microsoft\\\\Windows Desktop Search\\\\Previewers\\\\Extension\\\\.jpg\" value \"ContentType\" />\\n<query_value key \"HKEY_LOCAL_MACHINE\\\\SOFTWARE\\\\Microsoft\\\\Windows Desktop Search\\\\Previewers\\\\Extension\\\\.jpg\" value \"TemplateUrl\" />\\n<query_value key \"HKEY_LOCAL_MACHINE\\\\SOFTWARE\\\\Microsoft\\\\Windows Desktop Search\\\\Previewers\\\\Extension\\\\.jpg\" value \"ScriptOk\" />\\n<open_key key \"HKEY_LOCAL_MACHINE\\\\Software\\\\Microsoft\\\\Windows Desktop Search\\\\Previewers\\\\Extension\\\\.jsl\" />\\n<query_value key \"HKEY_LOCAL_MACHINE\\\\SOFTWARE\\\\Microsoft\\\\Windows Desktop Search\\\\Previewers\\\\Extension\\\\.jsl\" />\\n<query_value key \"HKEY_LOCAL_MACHINE\\\\SOFTWARE\\\\Microsoft\\\\Windows Desktop Search\\\\Previewers\\\\Extension\\\\.jsl\" value \"ContentType\" />\\n<query_value key \"HKEY_LOCAL_MACHINE\\\\SOFTWARE\\\\Microsoft\\\\Windows Desktop Search\\\\Previewers\\\\Extension\\\\.jsl\" value \"TemplateUrl\" />\\n<query_value key \"HKEY_LOCAL_MACHINE\\\\SOFTWARE\\\\Microsoft\\\\Windows Desktop Search\\\\Previewers\\\\Extension\\\\.jsl\" value \"ScriptOk\" />\\n<open_key key \"HKEY_LOCAL_MACHINE\\\\Software\\\\Microsoft\\\\Windows Desktop Search\\\\Previewers\\\\Extension\\\\.mht\" />\\n<query_value key \"HKEY_LOCAL_MACHINE\\\\SOFTWARE\\\\Microsoft\\\\Windows Desktop Search\\\\Previewers\\\\Extension\\\\.mht\" />\\n<query_value key \"HKEY_LOCAL_MACHINE\\\\SOFTWARE\\\\Microsoft\\\\Windows Desktop Search\\\\Previewers\\\\Extension\\\\.mht\" value \"ContentType\" />\\n<query_value key \"HKEY_LOCAL_MACHINE\\\\SOFTWARE\\\\Microsoft\\\\Windows Desktop Search\\\\Previewers\\\\Extension\\\\.mht\" value \"TemplateUrl\" />\\n<query_value key \"HKEY_LOCAL_MACHINE\\\\SOFTWARE\\\\Microsoft\\\\Windows Desktop Search\\\\Previewers\\\\Extension\\\\.mht\" value \"ScriptOk\" />\\n<open_key key \"HKEY_LOCAL_MACHINE\\\\Software\\\\Microsoft\\\\Windows Desktop Search\\\\Previewers\\\\Extension\\\\.mhtml\" />\\n<query_value key \"HKEY_LOCAL_MACHINE\\\\SOFTWARE\\\\Microsoft\\\\Windows Desktop Search\\\\Previewers\\\\Extension\\\\.mhtml\" />\\n<query_value key \"HKEY_LOCAL_MACHINE\\\\SOFTWARE\\\\Microsoft\\\\Windows Desktop Search\\\\Previewers\\\\Extension\\\\.mhtml\" value \"ContentType\" />\\n<query_value key \"HKEY_LOCAL_MACHINE\\\\SOFTWARE\\\\Microsoft\\\\Windows Desktop Search\\\\Previewers\\\\Extension\\\\.mhtml\" value \"TemplateUrl\" />\\n<query_value key \"HKEY_LOCAL_MACHINE\\\\SOFTWARE\\\\Microsoft\\\\Windows Desktop Search\\\\Previewers\\\\Extension\\\\.mhtml\" value \"ScriptOk\" />\\n<open_key key \"HKEY_LOCAL_MACHINE\\\\Software\\\\Microsoft\\\\Windows Desktop Search\\\\Previewers\\\\Extension\\\\.nws\" />\\n<query_value key \"HKEY_LOCAL_MACHINE\\\\SOFTWARE\\\\Microsoft\\\\Windows Desktop Search\\\\Previewers\\\\Extension\\\\.nws\" />\\n<query_value key \"HKEY_LOCAL_MACHINE\\\\SOFTWARE\\\\Microsoft\\\\Windows Desktop Search\\\\Previewers\\\\Extension\\\\.nws\" value \"ContentType\" />\\n<query_value key \"HKEY_LOCAL_MACHINE\\\\SOFTWARE\\\\Microsoft\\\\Windows Desktop Search\\\\Previewers\\\\Extension\\\\.nws\" value \"TemplateUrl\" />\\n<query_value key \"HKEY_LOCAL_MACHINE\\\\SOFTWARE\\\\Microsoft\\\\Windows Desktop Search\\\\Previewers\\\\Extension\\\\.nws\" value \"ScriptOk\" />\\n<open_key key \"HKEY_LOCAL_MACHINE\\\\Software\\\\Microsoft\\\\Windows Desktop Search\\\\Previewers\\\\Extension\\\\.pdf\" />\\n<query_value key \"HKEY_LOCAL_MACHINE\\\\SOFTWARE\\\\Microsoft\\\\Windows Desktop Search\\\\Previewers\\\\Extension\\\\.pdf\" />\\n<query_value key \"HKEY_LOCAL_MACHINE\\\\SOFTWARE\\\\Microsoft\\\\Windows Desktop Search\\\\Previewers\\\\Extension\\\\.pdf\" value \"ContentType\" />\\n<query_value key \"HKEY_LOCAL_MACHINE\\\\SOFTWARE\\\\Microsoft\\\\Windows Desktop Search\\\\Previewers\\\\Extension\\\\.pdf\" value \"TemplateUrl\" />\\n<query_value key \"HKEY_LOCAL_MACHINE\\\\SOFTWARE\\\\Microsoft\\\\Windows Desktop Search\\\\Previewers\\\\Extension\\\\.pdf\" value \"ScriptOk\" />\\n<open_key key \"HKEY_LOCAL_MACHINE\\\\Software\\\\Microsoft\\\\Windows Desktop Search\\\\Previewers\\\\Extension\\\\.png\" />\\n<query_value key \"HKEY_LOCAL_MACHINE\\\\SOFTWARE\\\\Microsoft\\\\Windows Desktop Search\\\\Previewers\\\\Extension\\\\.png\" />\\n<query_value key \"HKEY_LOCAL_MACHINE\\\\SOFTWARE\\\\Microsoft\\\\Windows Desktop Search\\\\Previewers\\\\Extension\\\\.png\" value \"ContentType\" />\\n<query_value key \"HKEY_LOCAL_MACHINE\\\\SOFTWARE\\\\Microsoft\\\\Windows Desktop Search\\\\Previewers\\\\Extension\\\\.png\" value \"TemplateUrl\" />\\n<query_value key \"HKEY_LOCAL_MACHINE\\\\SOFTWARE\\\\Microsoft\\\\Windows Desktop Search\\\\Previewers\\\\Extension\\\\.png\" value \"ScriptOk\" />\\n<open_key key \"HKEY_LOCAL_MACHINE\\\\Software\\\\Microsoft\\\\Windows Desktop Search\\\\Previewers\\\\Extension\\\\.pot\" />\\n<query_value key \"HKEY_LOCAL_MACHINE\\\\SOFTWARE\\\\Microsoft\\\\Windows Desktop Search\\\\Previewers\\\\Extension\\\\.pot\" />\\n<query_value key \"HKEY_LOCAL_MACHINE\\\\SOFTWARE\\\\Microsoft\\\\Windows Desktop Search\\\\Previewers\\\\Extension\\\\.pot\" value \"ContentType\" />\\n<query_value key \"HKEY_LOCAL_MACHINE\\\\SOFTWARE\\\\Microsoft\\\\Windows Desktop Search\\\\Previewers\\\\Extension\\\\.pot\" value \"TemplateUrl\" />\\n<query_value key \"HKEY_LOCAL_MACHINE\\\\SOFTWARE\\\\Microsoft\\\\Windows Desktop Search\\\\Previewers\\\\Extension\\\\.pot\" value \"ScriptOk\" />\\n<open_key key \"HKEY_LOCAL_MACHINE\\\\Software\\\\Microsoft\\\\Windows Desktop Search\\\\Previewers\\\\Extension\\\\.pps\" />\\n<query_value key \"HKEY_LOCAL_MACHINE\\\\SOFTWARE\\\\Microsoft\\\\Windows Desktop Search\\\\Previewers\\\\Extension\\\\.pps\" />\\n<query_value key \"HKEY_LOCAL_MACHINE\\\\SOFTWARE\\\\Microsoft\\\\Windows Desktop Search\\\\Previewers\\\\Extension\\\\.pps\" value \"ContentType\" />\\n<query_value key \"HKEY_LOCAL_MACHINE\\\\SOFTWARE\\\\Microsoft\\\\Windows Desktop Search\\\\Previewers\\\\Extension\\\\.pps\" value \"TemplateUrl\" />\\n<query_value key \"HKEY_LOCAL_MACHINE\\\\SOFTWARE\\\\Microsoft\\\\Windows Desktop Search\\\\Previewers\\\\Extension\\\\.pps\" value \"ScriptOk\" />\\n<open_key key \"HKEY_LOCAL_MACHINE\\\\Software\\\\Microsoft\\\\Windows Desktop Search\\\\Previewers\\\\Extension\\\\.ppt\" />\\n<query_value key \"HKEY_LOCAL_MACHINE\\\\SOFTWARE\\\\Microsoft\\\\Windows Desktop Search\\\\Previewers\\\\Extension\\\\.ppt\" />\\n<query_value key \"HKEY_LOCAL_MACHINE\\\\SOFTWARE\\\\Microsoft\\\\Windows Desktop Search\\\\Previewers\\\\Extension\\\\.ppt\" value \"ContentType\" />\\n<query_value key \"HKEY_LOCAL_MACHINE\\\\SOFTWARE\\\\Microsoft\\\\Windows Desktop Search\\\\Previewers\\\\Extension\\\\.ppt\" value \"TemplateUrl\" />\\n<query_value key \"HKEY_LOCAL_MACHINE\\\\SOFTWARE\\\\Microsoft\\\\Windows Desktop Search\\\\Previewers\\\\Extension\\\\.ppt\" value \"ScriptOk\" />\\n<open_key key \"HKEY_LOCAL_MACHINE\\\\Software\\\\Microsoft\\\\Windows Desktop Search\\\\Previewers\\\\Extension\\\\.rtf\" />\\n<query_value key \"HKEY_LOCAL_MACHINE\\\\SOFTWARE\\\\Microsoft\\\\Windows Desktop Search\\\\Previewers\\\\Extension\\\\.rtf\" />\\n<query_value key \"HKEY_LOCAL_MACHINE\\\\SOFTWARE\\\\Microsoft\\\\Windows Desktop Search\\\\Previewers\\\\Extension\\\\.rtf\" value \"ContentType\" />\\n<query_value key \"HKEY_LOCAL_MACHINE\\\\SOFTWARE\\\\Microsoft\\\\Windows Desktop Search\\\\Previewers\\\\Extension\\\\.rtf\" value \"TemplateUrl\" />\\n<query_value key \"HKEY_LOCAL_MACHINE\\\\SOFTWARE\\\\Microsoft\\\\Windows Desktop Search\\\\Previewers\\\\Extension\\\\.rtf\" value \"ScriptOk\" />\\n<open_key key \"HKEY_LOCAL_MACHINE\\\\Software\\\\Microsoft\\\\Windows Desktop Search\\\\Previewers\\\\Extension\\\\.txt\" />\\n<query_value key \"HKEY_LOCAL_MACHINE\\\\SOFTWARE\\\\Microsoft\\\\Windows Desktop Search\\\\Previewers\\\\Extension\\\\.txt\" />\\n<query_value key \"HKEY_LOCAL_MACHINE\\\\SOFTWARE\\\\Microsoft\\\\Windows Desktop Search\\\\Previewers\\\\Extension\\\\.txt\" value \"ContentType\" />\\n<query_value key \"HKEY_LOCAL_MACHINE\\\\SOFTWARE\\\\Microsoft\\\\Windows Desktop Search\\\\Previewers\\\\Extension\\\\.txt\" value \"TemplateUrl\" />\\n<query_value key \"HKEY_LOCAL_MACHINE\\\\SOFTWARE\\\\Microsoft\\\\Windows Desktop Search\\\\Previewers\\\\Extension\\\\.txt\" value \"ScriptOk\" />\\n<open_key key \"HKEY_LOCAL_MACHINE\\\\Software\\\\Microsoft\\\\Windows Desktop Search\\\\Previewers\\\\Extension\\\\.vb\" />\\n<query_value key \"HKEY_LOCAL_MACHINE\\\\SOFTWARE\\\\Microsoft\\\\Windows Desktop Search\\\\Previewers\\\\Extension\\\\.vb\" />\\n<query_value key \"HKEY_LOCAL_MACHINE\\\\SOFTWARE\\\\Microsoft\\\\Windows Desktop Search\\\\Previewers\\\\Extension\\\\.vb\" value \"ContentType\" />\\n<query_value key \"HKEY_LOCAL_MACHINE\\\\SOFTWARE\\\\Microsoft\\\\Windows Desktop Search\\\\Previewers\\\\Extension\\\\.vb\" value \"TemplateUrl\" />\\n<query_value key \"HKEY_LOCAL_MACHINE\\\\SOFTWARE\\\\Microsoft\\\\Windows Desktop Search\\\\Previewers\\\\Extension\\\\.vb\" value \"ScriptOk\" />\\n<open_key key \"HKEY_LOCAL_MACHINE\\\\Software\\\\Microsoft\\\\Windows Desktop Search\\\\Previewers\\\\Extension\\\\.wmf\" />\\n<query_value key \"HKEY_LOCAL_MACHINE\\\\SOFTWARE\\\\Microsoft\\\\Windows Desktop Search\\\\Previewers\\\\Extension\\\\.wmf\" />\\n<query_value key \"HKEY_LOCAL_MACHINE\\\\SOFTWARE\\\\Microsoft\\\\Windows Desktop Search\\\\Previewers\\\\Extension\\\\.wmf\" value \"ContentType\" />\\n<query_value key \"HKEY_LOCAL_MACHINE\\\\SOFTWARE\\\\Microsoft\\\\Windows Desktop Search\\\\Previewers\\\\Extension\\\\.wmf\" value \"TemplateUrl\" />\\n<query_value key \"HKEY_LOCAL_MACHINE\\\\SOFTWARE\\\\Microsoft\\\\Windows Desktop Search\\\\Previewers\\\\Extension\\\\.wmf\" value \"ScriptOk\" />\\n<open_key key \"HKEY_LOCAL_MACHINE\\\\Software\\\\Microsoft\\\\Windows Desktop Search\\\\Previewers\\\\Extension\\\\.wrn\" />\\n<query_value key \"HKEY_LOCAL_MACHINE\\\\SOFTWARE\\\\Microsoft\\\\Windows Desktop Search\\\\Previewers\\\\Extension\\\\.wrn\" />\\n<query_value key \"HKEY_LOCAL_MACHINE\\\\SOFTWARE\\\\Microsoft\\\\Windows Desktop Search\\\\Previewers\\\\Extension\\\\.wrn\" value \"ContentType\" />\\n<query_value key \"HKEY_LOCAL_MACHINE\\\\SOFTWARE\\\\Microsoft\\\\Windows Desktop Search\\\\Previewers\\\\Extension\\\\.wrn\" value \"TemplateUrl\" />\\n<query_value key \"HKEY_LOCAL_MACHINE\\\\SOFTWARE\\\\Microsoft\\\\Windows Desktop Search\\\\Previewers\\\\Extension\\\\.wrn\" value \"ScriptOk\" />\\n<open_key key \"HKEY_LOCAL_MACHINE\\\\Software\\\\Microsoft\\\\Windows Desktop Search\\\\Previewers\\\\Extension\\\\.xls\" />\\n<query_value key \"HKEY_LOCAL_MACHINE\\\\SOFTWARE\\\\Microsoft\\\\Windows Desktop Search\\\\Previewers\\\\Extension\\\\.xls\" />\\n<query_value key \"HKEY_LOCAL_MACHINE\\\\SOFTWARE\\\\Microsoft\\\\Windows Desktop Search\\\\Previewers\\\\Extension\\\\.xls\" value \"ContentType\" />\\n<query_value key \"HKEY_LOCAL_MACHINE\\\\SOFTWARE\\\\Microsoft\\\\Windows Desktop Search\\\\Previewers\\\\Extension\\\\.xls\" value \"TemplateUrl\" />\\n<query_value key \"HKEY_LOCAL_MACHINE\\\\SOFTWARE\\\\Microsoft\\\\Windows Desktop Search\\\\Previewers\\\\Extension\\\\.xls\" value \"ScriptOk\" />\\n<open_key key \"HKEY_LOCAL_MACHINE\\\\Software\\\\Microsoft\\\\Windows Desktop Search\\\\Previewers\\\\Extension\\\\.xlt\" />\\n<query_value key \"HKEY_LOCAL_MACHINE\\\\SOFTWARE\\\\Microsoft\\\\Windows Desktop Search\\\\Previewers\\\\Extension\\\\.xlt\" />\\n<query_value key \"HKEY_LOCAL_MACHINE\\\\SOFTWARE\\\\Microsoft\\\\Windows Desktop Search\\\\Previewers\\\\Extension\\\\.xlt\" value \"ContentType\" />\\n<query_value key \"HKEY_LOCAL_MACHINE\\\\SOFTWARE\\\\Microsoft\\\\Windows Desktop Search\\\\Previewers\\\\Extension\\\\.xlt\" value \"TemplateUrl\" />\\n<query_value key \"HKEY_LOCAL_MACHINE\\\\SOFTWARE\\\\Microsoft\\\\Windows Desktop Search\\\\Previewers\\\\Extension\\\\.xlt\" value \"ScriptOk\" />\\n<open_key key \"HKEY_LOCAL_MACHINE\\\\Software\\\\Microsoft\\\\Windows Desktop Search\\\\Previewers\\\\Extension\\\\.xml\" />\\n<query_value key \"HKEY_LOCAL_MACHINE\\\\SOFTWARE\\\\Microsoft\\\\Windows Desktop Search\\\\Previewers\\\\Extension\\\\.xml\" />\\n<query_value key \"HKEY_LOCAL_MACHINE\\\\SOFTWARE\\\\Microsoft\\\\Windows Desktop Search\\\\Previewers\\\\Extension\\\\.xml\" value \"ContentType\" />\\n<query_value key \"HKEY_LOCAL_MACHINE\\\\SOFTWARE\\\\Microsoft\\\\Windows Desktop Search\\\\Previewers\\\\Extension\\\\.xml\" value \"TemplateUrl\" />\\n<query_value key \"HKEY_LOCAL_MACHINE\\\\SOFTWARE\\\\Microsoft\\\\Windows Desktop Search\\\\Previewers\\\\Extension\\\\.xml\" value \"ScriptOk\" />\\n<open_key key \"HKEY_LOCAL_MACHINE\\\\Software\\\\Microsoft\\\\Windows Desktop Search\\\\Previewers\\\\Extension\\\\.xsd\" />\\n<query_value key \"HKEY_LOCAL_MACHINE\\\\SOFTWARE\\\\Microsoft\\\\Windows Desktop Search\\\\Previewers\\\\Extension\\\\.xsd\" />\\n<query_value key \"HKEY_LOCAL_MACHINE\\\\SOFTWARE\\\\Microsoft\\\\Windows Desktop Search\\\\Previewers\\\\Extension\\\\.xsd\" value \"ContentType\" />\\n<query_value key \"HKEY_LOCAL_MACHINE\\\\SOFTWARE\\\\Microsoft\\\\Windows Desktop Search\\\\Previewers\\\\Extension\\\\.xsd\" value \"TemplateUrl\" />\\n<query_value key \"HKEY_LOCAL_MACHINE\\\\SOFTWARE\\\\Microsoft\\\\Windows Desktop Search\\\\Previewers\\\\Extension\\\\.xsd\" value \"ScriptOk\" />\\n<open_key key \"HKEY_LOCAL_MACHINE\\\\Software\\\\Microsoft\\\\Windows Desktop Search\\\\Previewers\\\\PerceivedType\" />\\n<enum_keys key \"HKEY_LOCAL_MACHINE\\\\SOFTWARE\\\\Microsoft\\\\Windows Desktop Search\\\\Previewers\\\\PerceivedType\" />\\n<open_key key \"HKEY_LOCAL_MACHINE\\\\Software\\\\Microsoft\\\\Windows Desktop Search\\\\Previewers\\\\PerceivedType\\\\calendar\" />\\n<query_value key \"HKEY_LOCAL_MACHINE\\\\SOFTWARE\\\\Microsoft\\\\Windows Desktop Search\\\\Previewers\\\\PerceivedType\\\\calendar\" />\\n<query_value key \"HKEY_LOCAL_MACHINE\\\\SOFTWARE\\\\Microsoft\\\\Windows Desktop Search\\\\Previewers\\\\PerceivedType\\\\calendar\" value \"ContentType\" />\\n<query_value key \"HKEY_LOCAL_MACHINE\\\\SOFTWARE\\\\Microsoft\\\\Windows Desktop Search\\\\Previewers\\\\PerceivedType\\\\calendar\" value \"TemplateUrl\" />\\n<query_value key \"HKEY_LOCAL_MACHINE\\\\SOFTWARE\\\\Microsoft\\\\Windows Desktop Search\\\\Previewers\\\\PerceivedType\\\\calendar\" value \"ScriptOk\" />\\n<open_key key \"HKEY_LOCAL_MACHINE\\\\Software\\\\Microsoft\\\\Windows Desktop Search\\\\Previewers\\\\PerceivedType\\\\communications\" />\\n<query_value key \"HKEY_LOCAL_MACHINE\\\\SOFTWARE\\\\Microsoft\\\\Windows Desktop Search\\\\Previewers\\\\PerceivedType\\\\communications\" />\\n<query_value key \"HKEY_LOCAL_MACHINE\\\\SOFTWARE\\\\Microsoft\\\\Windows Desktop Search\\\\Previewers\\\\PerceivedType\\\\communications\" value \"ContentType\" />\\n<query_value key \"HKEY_LOCAL_MACHINE\\\\SOFTWARE\\\\Microsoft\\\\Windows Desktop Search\\\\Previewers\\\\PerceivedType\\\\communications\" value \"TemplateUrl\" />\\n<query_value key \"HKEY_LOCAL_MACHINE\\\\SOFTWARE\\\\Microsoft\\\\Windows Desktop Search\\\\Previewers\\\\PerceivedType\\\\communications\" value \"ScriptOk\" />\\n<open_key key \"HKEY_LOCAL_MACHINE\\\\Software\\\\Microsoft\\\\Windows Desktop Search\\\\Previewers\\\\PerceivedType\\\\contact\" />\\n<query_value key \"HKEY_LOCAL_MACHINE\\\\SOFTWARE\\\\Microsoft\\\\Windows Desktop Search\\\\Previewers\\\\PerceivedType\\\\contact\" />\\n<query_value key \"HKEY_LOCAL_MACHINE\\\\SOFTWARE\\\\Microsoft\\\\Windows Desktop Search\\\\Previewers\\\\PerceivedType\\\\contact\" value \"ContentType\" />\\n<query_value key \"HKEY_LOCAL_MACHINE\\\\SOFTWARE\\\\Microsoft\\\\Windows Desktop Search\\\\Previewers\\\\PerceivedType\\\\contact\" value \"TemplateUrl\" />\\n<query_value key \"HKEY_LOCAL_MACHINE\\\\SOFTWARE\\\\Microsoft\\\\Windows Desktop Search\\\\Previewers\\\\PerceivedType\\\\contact\" value \"ScriptOk\" />\\n<open_key key \"HKEY_LOCAL_MACHINE\\\\Software\\\\Microsoft\\\\Windows Desktop Search\\\\Previewers\\\\PerceivedType\\\\document\" />\\n<query_value key \"HKEY_LOCAL_MACHINE\\\\SOFTWARE\\\\Microsoft\\\\Windows Desktop Search\\\\Previewers\\\\PerceivedType\\\\document\" />\\n<query_value key \"HKEY_LOCAL_MACHINE\\\\SOFTWARE\\\\Microsoft\\\\Windows Desktop Search\\\\Previewers\\\\PerceivedType\\\\document\" value \"ContentType\" />\\n<query_value key \"HKEY_LOCAL_MACHINE\\\\SOFTWARE\\\\Microsoft\\\\Windows Desktop Search\\\\Previewers\\\\PerceivedType\\\\document\" value \"TemplateUrl\" />\\n<query_value key \"HKEY_LOCAL_MACHINE\\\\SOFTWARE\\\\Microsoft\\\\Windows Desktop Search\\\\Previewers\\\\PerceivedType\\\\document\" value \"ScriptOk\" />\\n<open_key key \"HKEY_LOCAL_MACHINE\\\\Software\\\\Microsoft\\\\Windows Desktop Search\\\\Previewers\\\\PerceivedType\\\\email\" />\\n<query_value key \"HKEY_LOCAL_MACHINE\\\\SOFTWARE\\\\Microsoft\\\\Windows Desktop Search\\\\Previewers\\\\PerceivedType\\\\email\" />\\n<query_value key \"HKEY_LOCAL_MACHINE\\\\SOFTWARE\\\\Microsoft\\\\Windows Desktop Search\\\\Previewers\\\\PerceivedType\\\\email\" value \"ContentType\" />\\n<query_value key \"HKEY_LOCAL_MACHINE\\\\SOFTWARE\\\\Microsoft\\\\Windows Desktop Search\\\\Previewers\\\\PerceivedType\\\\email\" value \"TemplateUrl\" />\\n<query_value key \"HKEY_LOCAL_MACHINE\\\\SOFTWARE\\\\Microsoft\\\\Windows Desktop Search\\\\Previewers\\\\PerceivedType\\\\email\" value \"ScriptOk\" />\\n<open_key key \"HKEY_LOCAL_MACHINE\\\\Software\\\\Microsoft\\\\Windows Desktop Search\\\\Previewers\\\\PerceivedType\\\\favorite\" />\\n<query_value key \"HKEY_LOCAL_MACHINE\\\\SOFTWARE\\\\Microsoft\\\\Windows Desktop Search\\\\Previewers\\\\PerceivedType\\\\favorite\" />\\n<query_value key \"HKEY_LOCAL_MACHINE\\\\SOFTWARE\\\\Microsoft\\\\Windows Desktop Search\\\\Previewers\\\\PerceivedType\\\\favorite\" value \"ContentType\" />\\n<query_value key \"HKEY_LOCAL_MACHINE\\\\SOFTWARE\\\\Microsoft\\\\Windows Desktop Search\\\\Previewers\\\\PerceivedType\\\\favorite\" value \"TemplateUrl\" />\\n<query_value key \"HKEY_LOCAL_MACHINE\\\\SOFTWARE\\\\Microsoft\\\\Windows Desktop Search\\\\Previewers\\\\PerceivedType\\\\favorite\" value \"ScriptOk\" />\\n<open_key key \"HKEY_LOCAL_MACHINE\\\\Software\\\\Microsoft\\\\Windows Desktop Search\\\\Previewers\\\\PerceivedType\\\\folder\" />\\n<query_value key \"HKEY_LOCAL_MACHINE\\\\SOFTWARE\\\\Microsoft\\\\Windows Desktop Search\\\\Previewers\\\\PerceivedType\\\\folder\" />\\n<query_value key \"HKEY_LOCAL_MACHINE\\\\SOFTWARE\\\\Microsoft\\\\Windows Desktop Search\\\\Previewers\\\\PerceivedType\\\\folder\" value \"ContentType\" />\\n<query_value key \"HKEY_LOCAL_MACHINE\\\\SOFTWARE\\\\Microsoft\\\\Windows Desktop Search\\\\Previewers\\\\PerceivedType\\\\folder\" value \"TemplateUrl\" />\\n<query_value key \"HKEY_LOCAL_MACHINE\\\\SOFTWARE\\\\Microsoft\\\\Windows Desktop Search\\\\Previewers\\\\PerceivedType\\\\folder\" value \"ScriptOk\" />\\n<open_key key \"HKEY_LOCAL_MACHINE\\\\Software\\\\Microsoft\\\\Windows Desktop Search\\\\Previewers\\\\PerceivedType\\\\im\" />\\n<query_value key \"HKEY_LOCAL_MACHINE\\\\SOFTWARE\\\\Microsoft\\\\Windows Desktop Search\\\\Previewers\\\\PerceivedType\\\\im\" />\\n<query_value key \"HKEY_LOCAL_MACHINE\\\\SOFTWARE\\\\Microsoft\\\\Windows Desktop Search\\\\Previewers\\\\PerceivedType\\\\im\" value \"ContentType\" />\\n<query_value key \"HKEY_LOCAL_MACHINE\\\\SOFTWARE\\\\Microsoft\\\\Windows Desktop Search\\\\Previewers\\\\PerceivedType\\\\im\" value \"TemplateUrl\" />\\n<query_value key \"HKEY_LOCAL_MACHINE\\\\SOFTWARE\\\\Microsoft\\\\Windows Desktop Search\\\\Previewers\\\\PerceivedType\\\\im\" value \"ScriptOk\" />\\n<open_key key \"HKEY_LOCAL_MACHINE\\\\Software\\\\Microsoft\\\\Windows Desktop Search\\\\Previewers\\\\PerceivedType\\\\images\" />\\n<query_value key \"HKEY_LOCAL_MACHINE\\\\SOFTWARE\\\\Microsoft\\\\Windows Desktop Search\\\\Previewers\\\\PerceivedType\\\\images\" />\\n<query_value key \"HKEY_LOCAL_MACHINE\\\\SOFTWARE\\\\Microsoft\\\\Windows Desktop Search\\\\Previewers\\\\PerceivedType\\\\images\" value \"ContentType\" />\\n<query_value key \"HKEY_LOCAL_MACHINE\\\\SOFTWARE\\\\Microsoft\\\\Windows Desktop Search\\\\Previewers\\\\PerceivedType\\\\images\" value \"TemplateUrl\" />\\n<query_value key \"HKEY_LOCAL_MACHINE\\\\SOFTWARE\\\\Microsoft\\\\Windows Desktop Search\\\\Previewers\\\\PerceivedType\\\\images\" value \"ScriptOk\" />\\n<open_key key \"HKEY_LOCAL_MACHINE\\\\Software\\\\Microsoft\\\\Windows Desktop Search\\\\Previewers\\\\PerceivedType\\\\music\" />\\n<query_value key \"HKEY_LOCAL_MACHINE\\\\SOFTWARE\\\\Microsoft\\\\Windows Desktop Search\\\\Previewers\\\\PerceivedType\\\\music\" />\\n<query_value key \"HKEY_LOCAL_MACHINE\\\\SOFTWARE\\\\Microsoft\\\\Windows Desktop Search\\\\Previewers\\\\PerceivedType\\\\music\" value \"ContentType\" />\\n<query_value key \"HKEY_LOCAL_MACHINE\\\\SOFTWARE\\\\Microsoft\\\\Windows Desktop Search\\\\Previewers\\\\PerceivedType\\\\music\" value \"TemplateUrl\" />\\n<query_value key \"HKEY_LOCAL_MACHINE\\\\SOFTWARE\\\\Microsoft\\\\Windows Desktop Search\\\\Previewers\\\\PerceivedType\\\\music\" value \"ScriptOk\" />\\n<open_key key \"HKEY_LOCAL_MACHINE\\\\Software\\\\Microsoft\\\\Windows Desktop Search\\\\Previewers\\\\PerceivedType\\\\note\" />\\n<query_value key \"HKEY_LOCAL_MACHINE\\\\SOFTWARE\\\\Microsoft\\\\Windows Desktop Search\\\\Previewers\\\\PerceivedType\\\\note\" />\\n<query_value key \"HKEY_LOCAL_MACHINE\\\\SOFTWARE\\\\Microsoft\\\\Windows Desktop Search\\\\Previewers\\\\PerceivedType\\\\note\" value \"ContentType\" />\\n<query_value key \"HKEY_LOCAL_MACHINE\\\\SOFTWARE\\\\Microsoft\\\\Windows Desktop Search\\\\Previewers\\\\PerceivedType\\\\note\" value \"TemplateUrl\" />\\n<query_value key \"HKEY_LOCAL_MACHINE\\\\SOFTWARE\\\\Microsoft\\\\Windows Desktop Search\\\\Previewers\\\\PerceivedType\\\\note\" value \"ScriptOk\" />\\n<open_key key \"HKEY_LOCAL_MACHINE\\\\Software\\\\Microsoft\\\\Windows Desktop Search\\\\Previewers\\\\PerceivedType\\\\picture\" />\\n<query_value key \"HKEY_LOCAL_MACHINE\\\\SOFTWARE\\\\Microsoft\\\\Windows Desktop Search\\\\Previewers\\\\PerceivedType\\\\picture\" />\\n<query_value key \"HKEY_LOCAL_MACHINE\\\\SOFTWARE\\\\Microsoft\\\\Windows Desktop Search\\\\Previewers\\\\PerceivedType\\\\picture\" value \"ContentType\" />\\n<query_value key \"HKEY_LOCAL_MACHINE\\\\SOFTWARE\\\\Microsoft\\\\Windows Desktop Search\\\\Previewers\\\\PerceivedType\\\\picture\" value \"TemplateUrl\" />\\n<query_value key \"HKEY_LOCAL_MACHINE\\\\SOFTWARE\\\\Microsoft\\\\Windows Desktop Search\\\\Previewers\\\\PerceivedType\\\\picture\" value \"ScriptOk\" />\\n<open_key key \"HKEY_LOCAL_MACHINE\\\\Software\\\\Microsoft\\\\Windows Desktop Search\\\\Previewers\\\\PerceivedType\\\\presentation\" />\\n<query_value key \"HKEY_LOCAL_MACHINE\\\\SOFTWARE\\\\Microsoft\\\\Windows Desktop Search\\\\Previewers\\\\PerceivedType\\\\presentation\" />\\n<query_value key \"HKEY_LOCAL_MACHINE\\\\SOFTWARE\\\\Microsoft\\\\Windows Desktop Search\\\\Previewers\\\\PerceivedType\\\\presentation\" value \"ContentType\" />\\n<query_value key \"HKEY_LOCAL_MACHINE\\\\SOFTWARE\\\\Microsoft\\\\Windows Desktop Search\\\\Previewers\\\\PerceivedType\\\\presentation\" value \"TemplateUrl\" />\\n<query_value key \"HKEY_LOCAL_MACHINE\\\\SOFTWARE\\\\Microsoft\\\\Windows Desktop Search\\\\Previewers\\\\PerceivedType\\\\presentation\" value \"ScriptOk\" />\\n<open_key key \"HKEY_LOCAL_MACHINE\\\\Software\\\\Microsoft\\\\Windows Desktop Search\\\\Previewers\\\\PerceivedType\\\\program\" />\\n<query_value key \"HKEY_LOCAL_MACHINE\\\\SOFTWARE\\\\Microsoft\\\\Windows Desktop Search\\\\Previewers\\\\PerceivedType\\\\program\" />\\n<query_value key \"HKEY_LOCAL_MACHINE\\\\SOFTWARE\\\\Microsoft\\\\Windows Desktop Search\\\\Previewers\\\\PerceivedType\\\\program\" value \"ContentType\" />\\n<query_value key \"HKEY_LOCAL_MACHINE\\\\SOFTWARE\\\\Microsoft\\\\Windows Desktop Search\\\\Previewers\\\\PerceivedType\\\\program\" value \"TemplateUrl\" />\\n<query_value key \"HKEY_LOCAL_MACHINE\\\\SOFTWARE\\\\Microsoft\\\\Windows Desktop Search\\\\Previewers\\\\PerceivedType\\\\program\" value \"ScriptOk\" />\\n<open_key key \"HKEY_LOCAL_MACHINE\\\\Software\\\\Microsoft\\\\Windows Desktop Search\\\\Previewers\\\\PerceivedType\\\\spreadsheet\" />\\n<query_value key \"HKEY_LOCAL_MACHINE\\\\SOFTWARE\\\\Microsoft\\\\Windows Desktop Search\\\\Previewers\\\\PerceivedType\\\\spreadsheet\" />\\n<query_value key \"HKEY_LOCAL_MACHINE\\\\SOFTWARE\\\\Microsoft\\\\Windows Desktop Search\\\\Previewers\\\\PerceivedType\\\\spreadsheet\" value \"ContentType\" />\\n<query_value key \"HKEY_LOCAL_MACHINE\\\\SOFTWARE\\\\Microsoft\\\\Windows Desktop Search\\\\Previewers\\\\PerceivedType\\\\spreadsheet\" value \"TemplateUrl\" />\\n<query_value key \"HKEY_LOCAL_MACHINE\\\\SOFTWARE\\\\Microsoft\\\\Windows Desktop Search\\\\Previewers\\\\PerceivedType\\\\spreadsheet\" value \"ScriptOk\" />\\n<open_key key \"HKEY_LOCAL_MACHINE\\\\Software\\\\Microsoft\\\\Windows Desktop Search\\\\Previewers\\\\PerceivedType\\\\text\" />\\n<query_value key \"HKEY_LOCAL_MACHINE\\\\SOFTWARE\\\\Microsoft\\\\Windows Desktop Search\\\\Previewers\\\\PerceivedType\\\\text\" />\\n<query_value key \"HKEY_LOCAL_MACHINE\\\\SOFTWARE\\\\Microsoft\\\\Windows Desktop Search\\\\Previewers\\\\PerceivedType\\\\text\" value \"ContentType\" />\\n<query_value key \"HKEY_LOCAL_MACHINE\\\\SOFTWARE\\\\Microsoft\\\\Windows Desktop Search\\\\Previewers\\\\PerceivedType\\\\text\" value \"TemplateUrl\" />\\n<query_value key \"HKEY_LOCAL_MACHINE\\\\SOFTWARE\\\\Microsoft\\\\Windows Desktop Search\\\\Previewers\\\\PerceivedType\\\\text\" value \"ScriptOk\" />\\n<open_key key \"HKEY_LOCAL_MACHINE\\\\Software\\\\Microsoft\\\\Windows Desktop Search\\\\Previewers\\\\PerceivedType\\\\video\" />\\n<query_value key \"HKEY_LOCAL_MACHINE\\\\SOFTWARE\\\\Microsoft\\\\Windows Desktop Search\\\\Previewers\\\\PerceivedType\\\\video\" />\\n<query_value key \"HKEY_LOCAL_MACHINE\\\\SOFTWARE\\\\Microsoft\\\\Windows Desktop Search\\\\Previewers\\\\PerceivedType\\\\video\" value \"ContentType\" />\\n<query_value key \"HKEY_LOCAL_MACHINE\\\\SOFTWARE\\\\Microsoft\\\\Windows Desktop Search\\\\Previewers\\\\PerceivedType\\\\video\" value \"TemplateUrl\" />\\n<query_value key \"HKEY_LOCAL_MACHINE\\\\SOFTWARE\\\\Microsoft\\\\Windows Desktop Search\\\\Previewers\\\\PerceivedType\\\\video\" value \"ScriptOk\" />\\n<find_file desiredaccess \"FILE_ANY_ACCESS\" filetype \"file\" flags \"SECURITY_ANONYMOUS\" srcfile \"c:\\\\explorer.*\" srcfile_hash \"hash_error\" />\\n<get_system_directory />\\n<find_file desiredaccess \"FILE_ANY_ACCESS\" filetype \"file\" flags \"SECURITY_ANONYMOUS\" srcfile \"C:\\\\WINDOWS\\\\system32\\\\explorer.*\" srcfile_hash \"hash_error\" />\\n<get_windows_directory />\\n<find_file desiredaccess \"FILE_ANY_ACCESS\" filetype \"file\" flags \"SECURITY_ANONYMOUS\" srcfile \"C:\\\\WINDOWS\\\\System\\\\explorer.*\" srcfile_hash \"hash_error\" />\\n<get_windows_directory />\\n<find_file desiredaccess \"FILE_ANY_ACCESS\" filetype \"file\" flags \"SECURITY_ANONYMOUS\" srcfile \"C:\\\\WINDOWS\\\\explorer.*\" srcfile_hash \"hash_error\" />\\n<com_get_class_object clsid \"{7B8A2D94-0AC9-11D1-896C-00C04FB6BFC4}\" inprocserver32 \"C:\\\\WINDOWS\\\\system32\\\\urlmon.dll\" interfaceid \"{00000001-0000-0000-C000-000000000046}\" />\\n<load_dll address \"$452E0000\" end_address \"$45407000\" filename \"C:\\\\WINDOWS\\\\system32\\\\urlmon.dll\" filename_hash \"d1fe6e0c349d546f931a4654415e648f30ed91cb\" size \"1208320\" successful \"1\" />\\n<open_file creationdistribution \"OPEN_EXISTING\" desiredaccess \"FILE_ANY_ACCESS\" filetype \"namedpipe\" flags \"SECURITY_ANONYMOUS\" shareaccess \"FILE_SHARE_READ FILE_SHARE_WRITE\" srcfile \"\\\\\\\\.\\\\PIPE\\\\lsarpc\" />\\n<get_file_attributes desiredaccess \"FILE_ANY_ACCESS\" filetype \"file\" flags \"SECURITY_ANONYMOUS\" srcfile \"C:\\\\WINDOWS\\\\explorer.exe\" srcfile_hash \"9d2bf84874abc5b6e9a2744b7865c193c08d362f\" />\\n<get_file_attributes desiredaccess \"FILE_ANY_ACCESS\" filetype \"file\" flags \"SECURITY_ANONYMOUS\" srcfile \"C:\\\\WINDOWS\\\\explorer.exe:Zone.Identifier\" srcfile_hash \"hash_error\" />\\n<load_dll address \"$7E670000\" end_address \"$7EE91000\" filename \"C:\\\\WINDOWS\\\\system32\\\\SHELL32.dll\" filename_hash \"bbe9d57955e5d348e664b72faf331a7b9d722d0c\" size \"8523776\" successful \"1\" />\\n<get_system_directory />\\n<get_file_attributes desiredaccess \"FILE_ANY_ACCESS\" filetype \"file\" flags \"SECURITY_ANONYMOUS\" srcfile \"C:\\\\WINDOWS\\\\\" srcfile_hash \"hash_error\" />\\n<open_file creationdistribution \"OPEN_EXISTING\" desiredaccess \"FILE_ANY_ACCESS\" filetype \"namedpipe\" flags \"SECURITY_ANONYMOUS\" shareaccess \"FILE_SHARE_READ FILE_SHARE_WRITE\" srcfile \"\\\\\\\\.\\\\PIPE\\\\lsarpc\" />\\n<load_dll address \"$7E670000\" end_address \"$7EE91000\" filename \"C:\\\\WINDOWS\\\\system32\\\\SHELL32.dll\" filename_hash \"bbe9d57955e5d348e664b72faf331a7b9d722d0c\" size \"8523776\" successful \"1\" />\\n<open_file creationdistribution \"OPEN_EXISTING\" desiredaccess \"FILE_ANY_ACCESS FILE_READ_ATTRIBUTES\" filetype \"file\" flags \"FILE_ATTRIBUTE_NORMAL SECURITY_ANONYMOUS\" shareaccess \"FILE_SHARE_READ\" srcfile \"C:\\\\WINDOWS\\\\AppPatch\\\\sysmain.sdb\" srcfile_hash \"73a4cd369412da6a51064c776a3a0175daea5b82\" />\\n<open_file creationdistribution \"OPEN_EXISTING\" desiredaccess \"FILE_ANY_ACCESS FILE_READ_ATTRIBUTES\" filetype \"file\" flags \"FILE_ATTRIBUTE_NORMAL SECURITY_ANONYMOUS\" shareaccess \"FILE_SHARE_READ\" srcfile \"C:\\\\WINDOWS\\\\AppPatch\\\\systest.sdb\" srcfile_hash \"hash_error\" />\\n<open_key key \"HKEY_LOCAL_MACHINE\\\\System\\\\WPA\\\\TabletPC\" />\\n<open_key key \"HKEY_LOCAL_MACHINE\\\\SYSTEM\\\\WPA\\\\MediaCenter\" />\\n<query_value key \"HKEY_LOCAL_MACHINE\\\\SYSTEM\\\\WPA\\\\MediaCenter\" value \"Installed\" />\\n<open_file creationdistribution \"OPEN_EXISTING\" desiredaccess \"FILE_ANY_ACCESS FILE_WRITE_ACCESS FILE_WRITE_DATA FILE_ADD_FILE FILE_ADD_SUBDIRECTORY FILE_APPEND_DATA FILE_CREATE_PIPE_INSTANCE FILE_WRITE_EA FILE_WRITE_ATTRIBUTES\" filetype \"file\" flags \"FILE_ATTRIBUTE_NORMAL SECURITY_ANONYMOUS\" srcfile \"\\\\Device\\\\NamedPipe\\\\ShimViewer\" srcfile_hash \"hash_error\" />\\n<open_file desiredaccess \"FILE_ANY_ACCESS FILE_READ_ACCESS FILE_READ_DATA FILE_LIST_DIRECTORY\" filetype \"file\" flags \"SECURITY_ANONYMOUS\" shareaccess \"FILE_SHARE_READ FILE_SHARE_WRITE\" srcfile \"C:\\\\WINDOWS\\\\\" srcfile_hash \"hash_error\" />\\n<find_file desiredaccess \"FILE_ANY_ACCESS\" filetype \"file\" flags \"SECURITY_ANONYMOUS\" srcfile \"C:\\\\WINDOWS\\\\explorer.exe\" srcfile_hash \"9d2bf84874abc5b6e9a2744b7865c193c08d362f\" />\\n<open_key key \"HKEY_LOCAL_MACHINE\\\\Software\\\\Microsoft\\\\Windows NT\\\\CurrentVersion\\\\AppCompatFlags\\\\Layers\" />\\n<open_key key \"HKEY_CURRENT_USER\\\\Software\\\\Microsoft\\\\Windows NT\\\\CurrentVersion\\\\AppCompatFlags\\\\Layers\" />\\n<open_key key \"HKEY_LOCAL_MACHINE\\\\Software\\\\Microsoft\\\\Windows NT\\\\CurrentVersion\\\\AppCompatFlags\\\\Custom\\\\explorer.exe\" />\\n<load_dll address \"$77BD0000\" end_address \"$77BD8000\" filename \"C:\\\\WINDOWS\\\\system32\\\\version.dll\" filename_hash \"adf263b658136ccb3cde72d0e6dd634c5a5e5143\" size \"32768\" successful \"1\" />\\n<load_dll address \"$1250001\" end_address \"$1250001\" filename \"C:\\\\WINDOWS\\\\explorer.exe\" filename_hash \"9d2bf84874abc5b6e9a2744b7865c193c08d362f\" size \"0\" successful \"1\" />\\n<open_key key \"HKEY_LOCAL_MACHINE\\\\Software\\\\Microsoft\\\\Windows NT\\\\CurrentVersion\\\\AppCompatFlags\" />\\n<open_key key \"HKEY_CURRENT_USER\\\\Software\\\\Microsoft\\\\Windows NT\\\\CurrentVersion\\\\AppCompatFlags\" />\\n<open_key key \"HKEY_LOCAL_MACHINE\\\\Software\\\\Microsoft\\\\Windows NT\\\\CurrentVersion\\\\AppCompatFlags\" />\\n<open_key key \"HKEY_CURRENT_USER\\\\Software\\\\Microsoft\\\\Windows NT\\\\CurrentVersion\\\\AppCompatFlags\" />\\n<enum_window />\\n<destroy_window classname \"CicMarshalWndClass\" hwnd \"$00010172\" windowname \"CicMarshalWndIKH\" />\\n<enum_window />\\n<destroy_window classname \"CicMarshalWndClass\" hwnd \"$00010172\" windowname \"CicMarshalWndIKH\" />\\n<enum_window />\\n<destroy_window classname \"CicMarshalWndClass\" hwnd \"$00010172\" windowname \"CicMarshalWndIKH\" />\\n<enum_window />\\n<destroy_window classname \"CicMarshalWndClass\" hwnd \"$00010172\" windowname \"CicMarshalWndIKH\" />\\n<enum_window />\\n<destroy_window classname \"CicMarshalWndClass\" hwnd \"$00010172\" windowname \"CicMarshalWndIKH\" />\\n<enum_window />\\n<destroy_window classname \"CicMarshalWndClass\" hwnd \"$00010172\" windowname \"CicMarshalWndIKH\" />\\n<enum_window />\\n<destroy_window classname \"CicMarshalWndClass\" hwnd \"$00010172\" windowname \"CicMarshalWndIKH\" />\\n<enum_window />\\n<destroy_window classname \"CicMarshalWndClass\" hwnd \"$00010172\" windowname \"CicMarshalWndIKH\" />\\n<enum_window />\\n<destroy_window classname \"CicMarshalWndClass\" hwnd \"$00010172\" windowname \"CicMarshalWndIKH\" />\\n<enum_window />\\n<destroy_window classname \"CicMarshalWndClass\" hwnd \"$00010172\" windowname \"CicMarshalWndIKH\" />\\n<enum_window />\\n<destroy_window classname \"CicMarshalWndClass\" hwnd \"$00010172\" windowname \"CicMarshalWndIKH\" />\\n<enum_window />\\n<destroy_window classname \"CicMarshalWndClass\" hwnd \"$00010172\" windowname \"CicMarshalWndIKH\" />\\n<enum_window />\\n<destroy_window classname \"CicMarshalWndClass\" hwnd \"$00010172\" windowname \"CicMarshalWndIKH\" />\\n<enum_window />\\n<destroy_window classname \"CicMarshalWndClass\" hwnd \"$00010172\" windowname \"CicMarshalWndIKH\" />\\n<enum_window />\\n<destroy_window classname \"CicMarshalWndClass\" hwnd \"$00010172\" windowname \"CicMarshalWndIKH\" />\\n<enum_window />\\n<destroy_window classname \"CicMarshalWndClass\" hwnd \"$00010172\" windowname \"CicMarshalWndIKH\" />\\n<enum_window />\\n<destroy_window classname \"CicMarshalWndClass\" hwnd \"$00010172\" windowname \"CicMarshalWndIKH\" />\\n<enum_window />\\n<destroy_window classname \"CicMarshalWndClass\" hwnd \"$00010172\" windowname \"CicMarshalWndIKH\" />\\n<enum_window />\\n<destroy_window classname \"CicMarshalWndClass\" hwnd \"$00010172\" windowname \"CicMarshalWndIKH\" />\\n<enum_window />\\n<destroy_window classname \"CicMarshalWndClass\" hwnd \"$00010172\" windowname \"CicMarshalWndIKH\" />\\n<enum_window />\\n<destroy_window classname \"CicMarshalWndClass\" hwnd \"$00010172\" windowname \"CicMarshalWndIKH\" />\\n<enum_window />\\n<destroy_window classname \"CicMarshalWndClass\" hwnd \"$00010172\" windowname \"CicMarshalWndIKH\" />\\n<enum_window />\\n<destroy_window classname \"CicMarshalWndClass\" hwnd \"$00010172\" windowname \"CicMarshalWndIKH\" />\\n<enum_window />\\n<destroy_window classname \"CicMarshalWndClass\" hwnd \"$00010172\" windowname \"CicMarshalWndIKH\" />\\n<enum_window />\\n<destroy_window classname \"CicMarshalWndClass\" hwnd \"$00010172\" windowname \"CicMarshalWndIKH\" />\\n<enum_window />\\n<destroy_window classname \"CicMarshalWndClass\" hwnd \"$00010172\" windowname \"CicMarshalWndIKH\" />\\n<enum_window />\\n<destroy_window classname \"CicMarshalWndClass\" hwnd \"$00010172\" windowname \"CicMarshalWndIKH\" />\\n<enum_window />\\n<destroy_window classname \"CicMarshalWndClass\" hwnd \"$00010172\" windowname \"CicMarshalWndIKH\" />\\n<enum_window />\\n<destroy_window classname \"CicMarshalWndClass\" hwnd \"$00010172\" windowname \"CicMarshalWndIKH\" />\\n<enum_window />\\n<destroy_window classname \"CicMarshalWndClass\" hwnd \"$00010172\" windowname \"CicMarshalWndIKH\" />\\n<enum_window />\\n<destroy_window classname \"CicMarshalWndClass\" hwnd \"$00010172\" windowname \"CicMarshalWndIKH\" />\\n<enum_window />\\n<destroy_window classname \"CicMarshalWndClass\" hwnd \"$00010172\" windowname \"CicMarshalWndIKH\" />\\n<enum_window />\\n<destroy_window classname \"CicMarshalWndClass\" hwnd \"$00010172\" windowname \"CicMarshalWndIKH\" />\\n<enum_window />\\n<destroy_window classname \"CicMarshalWndClass\" hwnd \"$00010172\" windowname \"CicMarshalWndIKH\" />\\n<enum_window />\\n<destroy_window classname \"CicMarshalWndClass\" hwnd \"$00010172\" windowname \"CicMarshalWndIKH\" />\\n<enum_window />\\n<destroy_window classname \"CicMarshalWndClass\" hwnd \"$00010172\" windowname \"CicMarshalWndIKH\" />\\n<enum_window />\\n<destroy_window classname \"CicMarshalWndClass\" hwnd \"$00010172\" windowname \"CicMarshalWndIKH\" />\\n<enum_window />\\n<destroy_window classname \"CicMarshalWndClass\" hwnd \"$00010172\" windowname \"CicMarshalWndIKH\" />\\n<enum_window />\\n<destroy_window classname \"CicMarshalWndClass\" hwnd \"$00010172\" windowname \"CicMarshalWndIKH\" />\\n<enum_window />\\n<destroy_window classname \"CicMarshalWndClass\" hwnd \"$00010172\" windowname \"CicMarshalWndIKH\" />\\n<create_process apifunction \"ShellExecuteA\" commandline \"C:\\\\Program Files\\\\Photron\\\\StoneMeister V4.0\\\\&#149;&#230;&#144;&#206;&#149;&#148;&#149;i\\\\\" filename \"explorer\" filename_hash \"hash_error\" showwindow \"SW_SHOWDEFAULT\" successful \"1\" />\\n<kill_process apifunction \"NtTerminateProcess\" targetpid \"1952\" />\\n<enum_window />\\n</all_section>\\n</thread>\\n<thread tid \"2168\">\\n<all_section>\\n<create_file creationdistribution \"CREATE_ALWAYS\" desiredaccess \"FILE_ANY_ACCESS\" filetype \"file\" flags \"FILE_ATTRIBUTE_NORMAL SECURITY_ANONYMOUS\" shareaccess \"FILE_SHARE_READ FILE_SHARE_WRITE\" srcfile \"C:\\\\Program Files\\\\Photron\\\\StoneMeister V4.0\\\\&#149;&#230;&#144;&#206;&#149;&#148;&#149;i\\\\005_&#151;m&#140;^&#144;&#206;&#148;&#232;.BMP\" srcfile_hash \"hash_error\" />\\n<open_file creationdistribution \"OPEN_EXISTING\" desiredaccess \"FILE_ANY_ACCESS\" filetype \"file\" flags \"FILE_ATTRIBUTE_NORMAL SECURITY_ANONYMOUS\" shareaccess \"FILE_SHARE_READ\" srcfile \"C:\\\\Program Files\\\\Photron\\\\StoneMeister V4.0\\\\&#149;&#230;&#144;&#206;&#149;&#148;&#149;i\\\\005_&#151;m&#140;^&#144;&#206;&#148;&#232;.BMP\" srcfile_hash \"hash_error\" />\\n<set_file_time desiredaccess \"FILE_ANY_ACCESS\" filetype \"file\" flags \"SECURITY_ANONYMOUS\" srcfile \"C:\\\\Program Files\\\\Photron\\\\StoneMeister V4.0\\\\&#149;&#230;&#144;&#206;&#149;&#148;&#149;i\\\\005_&#151;m&#140;^&#144;&#206;&#148;&#232;.BMP\" srcfile_hash \"hash_error\" />\\n<set_file_attributes desiredaccess \"FILE_ANY_ACCESS\" filetype \"file\" flags \"FILE_ATTRIBUTE_ARCHIVE SECURITY_ANONYMOUS\" srcfile \"C:\\\\Program Files\\\\Photron\\\\StoneMeister V4.0\\\\&#149;&#230;&#144;&#206;&#149;&#148;&#149;i\\\\005_&#151;m&#140;^&#144;&#206;&#148;&#232;.BMP\" srcfile_hash \"hash_error\" />\\n<create_file creationdistribution \"CREATE_ALWAYS\" desiredaccess \"FILE_ANY_ACCESS\" filetype \"file\" flags \"FILE_ATTRIBUTE_NORMAL SECURITY_ANONYMOUS\" shareaccess \"FILE_SHARE_READ FILE_SHARE_WRITE\" srcfile \"C:\\\\Program Files\\\\Photron\\\\StoneMeister V4.0\\\\&#149;&#230;&#144;&#206;&#149;&#148;&#149;i\\\\005_&#151;m&#140;^&#144;&#206;&#148;&#232;.zsf\" srcfile_hash \"hash_error\" />\\n<open_file creationdistribution \"OPEN_EXISTING\" desiredaccess \"FILE_ANY_ACCESS\" filetype \"file\" flags \"FILE_ATTRIBUTE_NORMAL SECURITY_ANONYMOUS\" shareaccess \"FILE_SHARE_READ\" srcfile \"C:\\\\Program Files\\\\Photron\\\\StoneMeister V4.0\\\\&#149;&#230;&#144;&#206;&#149;&#148;&#149;i\\\\005_&#151;m&#140;^&#144;&#206;&#148;&#232;.zsf\" srcfile_hash \"hash_error\" />\\n<set_file_time desiredaccess \"FILE_ANY_ACCESS\" filetype \"file\" flags \"SECURITY_ANONYMOUS\" srcfile \"C:\\\\Program Files\\\\Photron\\\\StoneMeister V4.0\\\\&#149;&#230;&#144;&#206;&#149;&#148;&#149;i\\\\005_&#151;m&#140;^&#144;&#206;&#148;&#232;.zsf\" srcfile_hash \"hash_error\" />\\n<set_file_attributes desiredaccess \"FILE_ANY_ACCESS\" filetype \"file\" flags \"FILE_ATTRIBUTE_ARCHIVE SECURITY_ANONYMOUS\" srcfile \"C:\\\\Program Files\\\\Photron\\\\StoneMeister V4.0\\\\&#149;&#230;&#144;&#206;&#149;&#148;&#149;i\\\\005_&#151;m&#140;^&#144;&#206;&#148;&#232;.zsf\" srcfile_hash \"hash_error\" />\\n<get_system_directory />\\n<load_dll address \"$746A0000\" end_address \"$746EC000\" filename \"C:\\\\WINDOWS\\\\system32\\\\MSCTF.dll\" filename_hash \"3c5a241879c49efae60e7d20c81195c0008fc317\" size \"311296\" successful \"1\" />\\n</all_section>\\n</thread>\\n<thread tid \"2192\">\\n<all_section>\\n<sleep milliseconds \"250\" />\\n</all_section>\\n</thread>\\n</process>\\n<process executionstatus \"OK\" filename \"C:\\\\WINDOWS\\\\system32\\\\svchost.exe\" filename_hash \"49083ae3725a0488e0a8fbbe1335c745f70c4667\" filesize \"14336\" index \"2\" md5 \"4fbc75b74479c7a6f829e0ca19df3366\" parentindex \"0\" pid \"984\" sha1 \"97c7c354c12b89c797740b35ed81879be58f3deb\" startreason \"DCOMService\" starttime \"00:08.579\" terminationreason \"Timeout\" terminationtime \"00:15.000\" username \"SYSTEM\">\\n<thread tid \"2180\">\\n<all_section>\\n<load_image address \"$1000000\" end_address \"$1006000\" filename \"C:\\\\WINDOWS\\\\system32\\\\svchost.exe\" filename_hash \"49083ae3725a0488e0a8fbbe1335c745f70c4667\" size \"24576\" successful \"1\" />\\n<load_dll address \"$7C910000\" end_address \"$7C9C9000\" filename \"C:\\\\WINDOWS\\\\system32\\\\ntdll.dll\" filename_hash \"e753d19a2e3b98b2b3b8f02f276092096d10f22d\" size \"757760\" successful \"1\" />\\n<load_dll address \"$7C800000\" end_address \"$7C908000\" filename \"C:\\\\WINDOWS\\\\system32\\\\kernel32.dll\" filename_hash \"c88d57cc99f75cd928b47b6e444231f26670138f\" size \"1081344\" successful \"1\" />\\n<load_dll address \"$77DA0000\" end_address \"$77E4A000\" filename \"C:\\\\WINDOWS\\\\system32\\\\ADVAPI32.dll\" filename_hash \"ea2e9bac1789b53d7efcd675a63f4a2b44898439\" size \"696320\" successful \"1\" />\\n<load_dll address \"$77E50000\" end_address \"$77EE2000\" filename \"C:\\\\WINDOWS\\\\system32\\\\RPCRT4.dll\" filename_hash \"f3bb6474ec18ee9cccc02ef44510a78b42058a41\" size \"598016\" successful \"1\" />\\n<load_dll address \"$77FC0000\" end_address \"$77FD1000\" filename \"C:\\\\WINDOWS\\\\system32\\\\Secur32.dll\" filename_hash \"31166d1e35a911a082149f5efac2dac228109615\" size \"69632\" successful \"1\" />\\n<load_dll address \"$5CF00000\" end_address \"$5CF26000\" filename \"C:\\\\WINDOWS\\\\system32\\\\ShimEng.dll\" filename_hash \"2ab219118ae324684eb7aaaf72eb4d9360ade81f\" size \"155648\" successful \"1\" />\\n<load_dll address \"$6FD90000\" end_address \"$6FF5A000\" filename \"C:\\\\WINDOWS\\\\AppPatch\\\\AcGenral.DLL\" filename_hash \"d28c378f459fafa7367649554b729a80b3924aad\" size \"1875968\" successful \"1\" />\\n<load_dll address \"$7E360000\" end_address \"$7E3F1000\" filename \"C:\\\\WINDOWS\\\\system32\\\\USER32.dll\" filename_hash \"08fe9ff1fe9b8fd237adedb10d65fb0447b91fe5\" size \"593920\" successful \"1\" />\\n<load_dll address \"$77EF0000\" end_address \"$77F39000\" filename \"C:\\\\WINDOWS\\\\system32\\\\GDI32.dll\" filename_hash \"0f37018f672c7635691f7317ade3c5a63904ec96\" size \"299008\" successful \"1\" />\\n<load_dll address \"$76AF0000\" end_address \"$76B1E000\" filename \"C:\\\\WINDOWS\\\\system32\\\\WINMM.dll\" filename_hash \"51f42782acdc790e4cabf402d71ef0fe24f9ad1b\" size \"188416\" successful \"1\" />\\n<load_dll address \"$774B0000\" end_address \"$775ED000\" filename \"C:\\\\WINDOWS\\\\system32\\\\ole32.dll\" filename_hash \"c7753525d5276ab92a01a8a3c39cfb5269da7f98\" size \"1298432\" successful \"1\" />\\n<load_dll address \"$77BE0000\" end_address \"$77C38000\" filename \"C:\\\\WINDOWS\\\\system32\\\\msvcrt.dll\" filename_hash \"70d5f97088cc9348bb9d10098af0738a696b96de\" size \"360448\" successful \"1\" />\\n<load_dll address \"$770F0000\" end_address \"$7717B000\" filename \"C:\\\\WINDOWS\\\\system32\\\\OLEAUT32.dll\" filename_hash \"3168a173d177f470928b468db777640861dcb32e\" size \"569344\" successful \"1\" />\\n<load_dll address \"$77BB0000\" end_address \"$77BC5000\" filename \"C:\\\\WINDOWS\\\\system32\\\\MSACM32.dll\" filename_hash \"9be8c8a0ce2316feff5783efbe259bb1f6334a63\" size \"86016\" successful \"1\" />\\n<load_dll address \"$77BD0000\" end_address \"$77BD8000\" filename \"C:\\\\WINDOWS\\\\system32\\\\VERSION.dll\" filename_hash \"adf263b658136ccb3cde72d0e6dd634c5a5e5143\" size \"32768\" successful \"1\" />\\n<load_dll address \"$7E670000\" end_address \"$7EE91000\" filename \"C:\\\\WINDOWS\\\\system32\\\\SHELL32.dll\" filename_hash \"bbe9d57955e5d348e664b72faf331a7b9d722d0c\" size \"8523776\" successful \"1\" />\\n<load_dll address \"$77F40000\" end_address \"$77FB6000\" filename \"C:\\\\WINDOWS\\\\system32\\\\SHLWAPI.dll\" filename_hash \"a9245beec2e139b31cd3b65e0f0e4804c030e639\" size \"483328\" successful \"1\" />\\n<load_dll address \"$76620000\" end_address \"$766D6000\" filename \"C:\\\\WINDOWS\\\\system32\\\\USERENV.dll\" filename_hash \"c7264e1fe77ea0e6d615077dd7cc6cc06aaa02cd\" size \"745472\" successful \"1\" />\\n<load_dll address \"$5B0F0000\" end_address \"$5B128000\" filename \"C:\\\\WINDOWS\\\\system32\\\\UxTheme.dll\" filename_hash \"16c4d24a172bfbc67f488d6b4086b9e10f8eaf4b\" size \"229376\" successful \"1\" />\\n<load_dll address \"$76330000\" end_address \"$7634D000\" filename \"C:\\\\WINDOWS\\\\system32\\\\IMM32.DLL\" filename_hash \"f9be7678080084bc3cb48d0cb64bba9ba98800f1\" size \"118784\" successful \"1\" />\\n<load_dll address \"$773A0000\" end_address \"$774A3000\" filename \"C:\\\\WINDOWS\\\\WinSxS\\\\x86_Microsoft.Windows.Common-Controls_6595b64144ccf1df_6.0.2600.5512_x-ww_35d4ce83\\\\\" filename_hash \"hash_error\" size \"1060864\" successful \"1\" />\\n<load_dll address \"$5D450000\" end_address \"$5D4EA000\" filename \"C:\\\\WINDOWS\\\\system32\\\\comctl32.dll\" filename_hash \"ba126572bcb4ac594a3c37e2ac86db40b173878d\" size \"630784\" successful \"1\" />\\n<load_dll address \"$77660000\" end_address \"$77681000\" filename \"C:\\\\WINDOWS\\\\system32\\\\NTMARTA.DLL\" filename_hash \"7e2ea4d88645138e5edb646157fd702c347bb53a\" size \"135168\" successful \"1\" />\\n<load_dll address \"$71B70000\" end_address \"$71B83000\" filename \"C:\\\\WINDOWS\\\\system32\\\\SAMLIB.dll\" filename_hash \"a1d75237cedc30a45117ba1c2040ddfd9f7bb667\" size \"77824\" successful \"1\" />\\n<load_dll address \"$76F20000\" end_address \"$76F4D000\" filename \"C:\\\\WINDOWS\\\\system32\\\\WLDAP32.dll\" filename_hash \"03269df70bc4ff939f87ef528f8a5fcf2a708624\" size \"184320\" successful \"1\" />\\n<load_dll address \"$76A30000\" end_address \"$76A94000\" filename \"c:\\\\windows\\\\system32\\\\rpcss.dll\" filename_hash \"7391155a9976797c2072e013fa3c38197b268de7\" size \"409600\" successful \"1\" />\\n<load_dll address \"$71A10000\" end_address \"$71A27000\" filename \"c:\\\\windows\\\\system32\\\\WS2_32.dll\" filename_hash \"7cf3366c68e402eb3678046fe97651a586044560\" size \"94208\" successful \"1\" />\\n<load_dll address \"$71A00000\" end_address \"$71A08000\" filename \"c:\\\\windows\\\\system32\\\\WS2HELP.dll\" filename_hash \"317cc14a94fcf3d10749efbcab330b97f516fffb\" size \"32768\" successful \"1\" />\\n<load_dll address \"$630000\" end_address \"$909000\" filename \"C:\\\\WINDOWS\\\\system32\\\\xpsp2res.dll\" filename_hash \"55401355585fac03b5d6991af85abf8db8fc9042\" size \"2985984\" successful \"1\" />\\n<load_dll address \"$76F90000\" end_address \"$7700F000\" filename \"C:\\\\WINDOWS\\\\system32\\\\CLBCATQ.DLL\" filename_hash \"bd0f1633a7d858f27d3fa2bad744b766a1533490\" size \"520192\" successful \"1\" />\\n<load_dll address \"$77010000\" end_address \"$770E3000\" filename \"C:\\\\WINDOWS\\\\system32\\\\COMRes.dll\" filename_hash \"eda8c030913d048cda82aeb6066be39e005ce0f1\" size \"864256\" successful \"1\" />\\n<load_dll address \"$761D0000\" end_address \"$76224000\" filename \"c:\\\\windows\\\\system32\\\\termsrv.dll\" filename_hash \"86773aed393573d4bd59481185910bbaaf85790f\" size \"344064\" successful \"1\" />\\n<load_dll address \"$74EF0000\" end_address \"$74EF6000\" filename \"c:\\\\windows\\\\system32\\\\ICAAPI.dll\" filename_hash \"166e7e5c0064c63fb4516303b879d1c83b69cf2a\" size \"24576\" successful \"1\" />\\n<load_dll address \"$778F0000\" end_address \"$779E4000\" filename \"c:\\\\windows\\\\system32\\\\SETUPAPI.dll\" filename_hash \"8109df4e050264532bb5757e9da4ae12e29b800f\" size \"999424\" successful \"1\" />\\n<load_dll address \"$76BF0000\" end_address \"$76C1E000\" filename \"C:\\\\WINDOWS\\\\system32\\\\WINTRUST.dll\" filename_hash \"7bda19c92848a811077f780f569c0593d14b2a92\" size \"188416\" successful \"1\" />\\n<load_dll address \"$77A50000\" end_address \"$77AE6000\" filename \"C:\\\\WINDOWS\\\\system32\\\\CRYPT32.dll\" filename_hash \"3127dbe44b75c673c24f9ad63675ff91cd9c6321\" size \"614400\" successful \"1\" />\\n<load_dll address \"$77AF0000\" end_address \"$77B02000\" filename \"C:\\\\WINDOWS\\\\system32\\\\MSASN1.dll\" filename_hash \"e3b7e1519f060e76b7e5579c1974e6260bcdb324\" size \"73728\" successful \"1\" />\\n<load_dll address \"$76C50000\" end_address \"$76C78000\" filename \"C:\\\\WINDOWS\\\\system32\\\\IMAGEHLP.dll\" filename_hash \"2eaa144578f2beb69da027ca0e15445c98a95607\" size \"163840\" successful \"1\" />\\n<load_dll address \"$77690000\" end_address \"$776A2000\" filename \"c:\\\\windows\\\\system32\\\\AUTHZ.dll\" filename_hash \"36977fd1a696a3c3b974d2147d23425f7b0e6bec\" size \"73728\" successful \"1\" />\\n<load_dll address \"$75090000\" end_address \"$750AF000\" filename \"c:\\\\windows\\\\system32\\\\mstlsapi.dll\" filename_hash \"a88f24cb797bb85aba9ea841103faae3677188a7\" size \"126976\" successful \"1\" />\\n<load_dll address \"$77C90000\" end_address \"$77CC2000\" filename \"c:\\\\windows\\\\system32\\\\ACTIVEDS.dll\" filename_hash \"71dde7dea4019ab631fe85a31149a494363b7bdc\" size \"204800\" successful \"1\" />\\n<load_dll address \"$76DD0000\" end_address \"$76DF5000\" filename \"c:\\\\windows\\\\system32\\\\adsldpc.dll\" filename_hash \"1e272578a29b1c2ed7a013266ca50343a560fa2d\" size \"151552\" successful \"1\" />\\n<load_dll address \"$597D0000\" end_address \"$59825000\" filename \"C:\\\\WINDOWS\\\\system32\\\\NETAPI32.dll\" filename_hash \"5e935f90226ff224936edf449f925b647b535917\" size \"348160\" successful \"1\" />\\n<load_dll address \"$76AD0000\" end_address \"$76AE1000\" filename \"c:\\\\windows\\\\system32\\\\ATL.DLL\" filename_hash \"59cb82f432d529da3e81b030b2365c22a95fd35a\" size \"69632\" successful \"1\" />\\n<load_dll address \"$76B70000\" end_address \"$76B7F000\" filename \"C:\\\\WINDOWS\\\\system32\\\\REGAPI.dll\" filename_hash \"0b43cc40011a36366d3490973e82bcd162bb93da\" size \"61440\" successful \"1\" />\\n<load_dll address \"$68000000\" end_address \"$68036000\" filename \"C:\\\\WINDOWS\\\\system32\\\\rsaenh.dll\" filename_hash \"8e8dd9db03ed502d915dee9e4f9fd3f10593e27c\" size \"221184\" successful \"1\" />\\n<load_dll address \"$77B10000\" end_address \"$77B32000\" filename \"C:\\\\WINDOWS\\\\system32\\\\Apphelp.dll\" filename_hash \"016ea16586e3c27f4bd43341ba906187a416afe0\" size \"139264\" successful \"1\" />\\n<load_dll address \"$5E490000\" end_address \"$5E49D000\" filename \"C:\\\\WINDOWS\\\\system32\\\\pstorec.dll\" filename_hash \"8ae378a352c4a13516bf1fe5a8615d8893d2ff2d\" size \"53248\" successful \"1\" />\\n</all_section>\\n</thread>\\n</process>\\n<process executionstatus \"OK\" filename \"C:\\\\WINDOWS\\\\explorer.exe C:\\\\Program Files\\\\Photron\\\\StoneMeister V4.0\\\\&#149;&#230;&#144;&#206;&#149;&#148;&#149;i\\\\\" filename_hash \"9d2bf84874abc5b6e9a2744b7865c193c08d362f\" filesize \"-1\" index \"3\" parentindex \"1\" pid \"2224\" startreason \"CreateProcess\" starttime \"00:09.938\" terminationreason \"NormalTermination\" terminationtime \"00:11.297\" username \"Administrator\">\\n<thread tid \"2240\">\\n<all_section>\\n<load_image address \"$1000000\" end_address \"$10FF000\" filename \"C:\\\\WINDOWS\\\\explorer.exe\" filename_hash \"9d2bf84874abc5b6e9a2744b7865c193c08d362f\" size \"1044480\" successful \"1\" />\\n<load_dll address \"$7C910000\" end_address \"$7C9C9000\" filename \"C:\\\\WINDOWS\\\\system32\\\\ntdll.dll\" filename_hash \"e753d19a2e3b98b2b3b8f02f276092096d10f22d\" size \"757760\" successful \"1\" />\\n<load_dll address \"$7C800000\" end_address \"$7C908000\" filename \"C:\\\\WINDOWS\\\\system32\\\\kernel32.dll\" filename_hash \"c88d57cc99f75cd928b47b6e444231f26670138f\" size \"1081344\" successful \"1\" />\\n<load_dll address \"$77DA0000\" end_address \"$77E4A000\" filename \"C:\\\\WINDOWS\\\\system32\\\\ADVAPI32.dll\" filename_hash \"ea2e9bac1789b53d7efcd675a63f4a2b44898439\" size \"696320\" successful \"1\" />\\n<load_dll address \"$77E50000\" end_address \"$77EE2000\" filename \"C:\\\\WINDOWS\\\\system32\\\\RPCRT4.dll\" filename_hash \"f3bb6474ec18ee9cccc02ef44510a78b42058a41\" size \"598016\" successful \"1\" />\\n<load_dll address \"$77FC0000\" end_address \"$77FD1000\" filename \"C:\\\\WINDOWS\\\\system32\\\\Secur32.dll\" filename_hash \"31166d1e35a911a082149f5efac2dac228109615\" size \"69632\" successful \"1\" />\\n<load_dll address \"$75F20000\" end_address \"$7601D000\" filename \"C:\\\\WINDOWS\\\\system32\\\\BROWSEUI.dll\" filename_hash \"031921b707e9622ecefb5cd6e1941119c411d4c9\" size \"1036288\" successful \"1\" />\\n<load_dll address \"$77EF0000\" end_address \"$77F39000\" filename \"C:\\\\WINDOWS\\\\system32\\\\GDI32.dll\" filename_hash \"0f37018f672c7635691f7317ade3c5a63904ec96\" size \"299008\" successful \"1\" />\\n<load_dll address \"$7E360000\" end_address \"$7E3F1000\" filename \"C:\\\\WINDOWS\\\\system32\\\\USER32.dll\" filename_hash \"08fe9ff1fe9b8fd237adedb10d65fb0447b91fe5\" size \"593920\" successful \"1\" />\\n<load_dll address \"$77BE0000\" end_address \"$77C38000\" filename \"C:\\\\WINDOWS\\\\system32\\\\msvcrt.dll\" filename_hash \"70d5f97088cc9348bb9d10098af0738a696b96de\" size \"360448\" successful \"1\" />\\n<load_dll address \"$774B0000\" end_address \"$775ED000\" filename \"C:\\\\WINDOWS\\\\system32\\\\ole32.dll\" filename_hash \"c7753525d5276ab92a01a8a3c39cfb5269da7f98\" size \"1298432\" successful \"1\" />\\n<load_dll address \"$77F40000\" end_address \"$77FB6000\" filename \"C:\\\\WINDOWS\\\\system32\\\\SHLWAPI.dll\" filename_hash \"a9245beec2e139b31cd3b65e0f0e4804c030e639\" size \"483328\" successful \"1\" />\\n<load_dll address \"$770F0000\" end_address \"$7717B000\" filename \"C:\\\\WINDOWS\\\\system32\\\\OLEAUT32.dll\" filename_hash \"3168a173d177f470928b468db777640861dcb32e\" size \"569344\" successful \"1\" />\\n<load_dll address \"$7E1E0000\" end_address \"$7E351000\" filename \"C:\\\\WINDOWS\\\\system32\\\\SHDOCVW.dll\" filename_hash \"89ae970134a7abbb63e83bb60d468ae016421929\" size \"1511424\" successful \"1\" />\\n<load_dll address \"$77A50000\" end_address \"$77AE6000\" filename \"C:\\\\WINDOWS\\\\system32\\\\CRYPT32.dll\" filename_hash \"3127dbe44b75c673c24f9ad63675ff91cd9c6321\" size \"614400\" successful \"1\" />\\n<load_dll address \"$77AF0000\" end_address \"$77B02000\" filename \"C:\\\\WINDOWS\\\\system32\\\\MSASN1.dll\" filename_hash \"e3b7e1519f060e76b7e5579c1974e6260bcdb324\" size \"73728\" successful \"1\" />\\n<load_dll address \"$76880000\" end_address \"$76905000\" filename \"C:\\\\WINDOWS\\\\system32\\\\CRYPTUI.dll\" filename_hash \"8d72e84d63a0b44bca596c5f370fa0e4b595ac3c\" size \"544768\" successful \"1\" />\\n<load_dll address \"$597D0000\" end_address \"$59825000\" filename \"C:\\\\WINDOWS\\\\system32\\\\NETAPI32.dll\" filename_hash \"5e935f90226ff224936edf449f925b647b535917\" size \"348160\" successful \"1\" />\\n<load_dll address \"$77BD0000\" end_address \"$77BD8000\" filename \"C:\\\\WINDOWS\\\\system32\\\\VERSION.dll\" filename_hash \"adf263b658136ccb3cde72d0e6dd634c5a5e5143\" size \"32768\" successful \"1\" />\\n<load_dll address \"$441E0000\" end_address \"$442B0000\" filename \"C:\\\\WINDOWS\\\\system32\\\\WININET.dll\" filename_hash \"b076c231d541b2dd6665f7040a4695bf12d54e7e\" size \"851968\" successful \"1\" />\\n<load_dll address \"$290000\" end_address \"$299000\" filename \"C:\\\\WINDOWS\\\\system32\\\\Normaliz.dll\" filename_hash \"ecd1fc4ebcd524aefac77061a8c0b5e4a2a01a8d\" size \"36864\" successful \"1\" />\\n<load_dll address \"$43F60000\" end_address \"$43FA5000\" filename \"C:\\\\WINDOWS\\\\system32\\\\iertutil.dll\" filename_hash \"962fdf7a8839794fdb71eb6d15ae0824a89db8d7\" size \"282624\" successful \"1\" />\\n<load_dll address \"$76BF0000\" end_address \"$76C1E000\" filename \"C:\\\\WINDOWS\\\\system32\\\\WINTRUST.dll\" filename_hash \"7bda19c92848a811077f780f569c0593d14b2a92\" size \"188416\" successful \"1\" />\\n<load_dll address \"$76C50000\" end_address \"$76C78000\" filename \"C:\\\\WINDOWS\\\\system32\\\\IMAGEHLP.dll\" filename_hash \"2eaa144578f2beb69da027ca0e15445c98a95607\" size \"163840\" successful \"1\" />\\n<load_dll address \"$76F20000\" end_address \"$76F4D000\" filename \"C:\\\\WINDOWS\\\\system32\\\\WLDAP32.dll\" filename_hash \"03269df70bc4ff939f87ef528f8a5fcf2a708624\" size \"184320\" successful \"1\" />\\n<load_dll address \"$7E670000\" end_address \"$7EE91000\" filename \"C:\\\\WINDOWS\\\\system32\\\\SHELL32.dll\" filename_hash \"bbe9d57955e5d348e664b72faf331a7b9d722d0c\" size \"8523776\" successful \"1\" />\\n<load_dll address \"$5B0F0000\" end_address \"$5B128000\" filename \"C:\\\\WINDOWS\\\\system32\\\\UxTheme.dll\" filename_hash \"16c4d24a172bfbc67f488d6b4086b9e10f8eaf4b\" size \"229376\" successful \"1\" />\\n<load_dll address \"$5CF00000\" end_address \"$5CF26000\" filename \"C:\\\\WINDOWS\\\\system32\\\\ShimEng.dll\" filename_hash \"2ab219118ae324684eb7aaaf72eb4d9360ade81f\" size \"155648\" successful \"1\" />\\n<load_dll address \"$6FD90000\" end_address \"$6FF5A000\" filename \"C:\\\\WINDOWS\\\\AppPatch\\\\AcGenral.DLL\" filename_hash \"d28c378f459fafa7367649554b729a80b3924aad\" size \"1875968\" successful \"1\" />\\n<load_dll address \"$76AF0000\" end_address \"$76B1E000\" filename \"C:\\\\WINDOWS\\\\system32\\\\WINMM.dll\" filename_hash \"51f42782acdc790e4cabf402d71ef0fe24f9ad1b\" size \"188416\" successful \"1\" />\\n<load_dll address \"$77BB0000\" end_address \"$77BC5000\" filename \"C:\\\\WINDOWS\\\\system32\\\\MSACM32.dll\" filename_hash \"9be8c8a0ce2316feff5783efbe259bb1f6334a63\" size \"86016\" successful \"1\" />\\n<load_dll address \"$76620000\" end_address \"$766D6000\" filename \"C:\\\\WINDOWS\\\\system32\\\\USERENV.dll\" filename_hash \"c7264e1fe77ea0e6d615077dd7cc6cc06aaa02cd\" size \"745472\" successful \"1\" />\\n<load_dll address \"$76330000\" end_address \"$7634D000\" filename \"C:\\\\WINDOWS\\\\system32\\\\IMM32.DLL\" filename_hash \"f9be7678080084bc3cb48d0cb64bba9ba98800f1\" size \"118784\" successful \"1\" />\\n<load_dll address \"$773A0000\" end_address \"$774A3000\" filename \"C:\\\\WINDOWS\\\\WinSxS\\\\x86_Microsoft.Windows.Common-Controls_6595b64144ccf1df_6.0.2600.5512_x-ww_35d4ce83\\\\\" filename_hash \"hash_error\" size \"1060864\" successful \"1\" />\\n<load_dll address \"$5D450000\" end_address \"$5D4EA000\" filename \"C:\\\\WINDOWS\\\\system32\\\\comctl32.dll\" filename_hash \"ba126572bcb4ac594a3c37e2ac86db40b173878d\" size \"630784\" successful \"1\" />\\n<load_dll address \"$5E490000\" end_address \"$5E49D000\" filename \"C:\\\\WINDOWS\\\\system32\\\\pstorec.dll\" filename_hash \"8ae378a352c4a13516bf1fe5a8615d8893d2ff2d\" size \"53248\" successful \"1\" />\\n<load_dll address \"$76AD0000\" end_address \"$76AE1000\" filename \"C:\\\\WINDOWS\\\\system32\\\\ATL.DLL\" filename_hash \"59cb82f432d529da3e81b030b2365c22a95fd35a\" size \"69632\" successful \"1\" />\\n</all_section>\\n</thread>\\n<thread tid \"2228\">\\n<all_section>\\n<load_dll address \"$773A0000\" end_address \"$774A3000\" filename \"C:\\\\WINDOWS\\\\WinSxS\\\\x86_Microsoft.Windows.Common-Controls_6595b64144ccf1df_6.0.2600.5512_x-ww_35d4ce83\\\\\" filename_hash \"hash_error\" size \"1060864\" successful \"1\" />\\n<check_for_debugger apifunction \"IsDebuggerPresent\" />\\n<load_dll address \"$5B0F0000\" end_address \"$5B128000\" filename \"C:\\\\WINDOWS\\\\system32\\\\UxTheme.dll\" filename_hash \"16c4d24a172bfbc67f488d6b4086b9e10f8eaf4b\" size \"229376\" successful \"1\" />\\n<load_dll address \"$5D450000\" end_address \"$5D4EA000\" filename \"C:\\\\WINDOWS\\\\system32\\\\comctl32.dll\" filename_hash \"ba126572bcb4ac594a3c37e2ac86db40b173878d\" size \"630784\" successful \"1\" />\\n<open_key key \"HKEY_CURRENT_USER\\\\Software\\\\Microsoft\\\\Windows\\\\CurrentVersion\\\\Explorer\" />\\n<load_dll address \"$7E670000\" end_address \"$7EE91000\" filename \"C:\\\\WINDOWS\\\\system32\\\\SHELL32.dll\" filename_hash \"bbe9d57955e5d348e664b72faf331a7b9d722d0c\" size \"8523776\" successful \"1\" />\\n<get_system_directory />\\n<get_file_attributes desiredaccess \"FILE_ANY_ACCESS\" filetype \"file\" flags \"SECURITY_ANONYMOUS\" srcfile \"C:\\\\WINDOWS\\\\\" srcfile_hash \"hash_error\" />\\n<open_file creationdistribution \"OPEN_EXISTING\" desiredaccess \"FILE_ANY_ACCESS\" filetype \"namedpipe\" flags \"SECURITY_ANONYMOUS\" shareaccess \"FILE_SHARE_READ FILE_SHARE_WRITE\" srcfile \"\\\\\\\\.\\\\PIPE\\\\lsarpc\" />\\n<load_dll address \"$7E670000\" end_address \"$7EE91000\" filename \"C:\\\\WINDOWS\\\\system32\\\\SHELL32.dll\" filename_hash \"bbe9d57955e5d348e664b72faf331a7b9d722d0c\" size \"8523776\" successful \"1\" />\\n<load_dll address \"$774B0000\" end_address \"$775ED000\" filename \"C:\\\\WINDOWS\\\\system32\\\\ole32.dll\" filename_hash \"c7753525d5276ab92a01a8a3c39cfb5269da7f98\" size \"1298432\" successful \"1\" />\\n<open_process apifunction \"NtOpenProcess\" desiredaccess \"PROCESS_DUP_HANDLE PROCESS_QUERY_INFORMATION\" successful \"1\" targetpid \"1732\" />\\n<open_process apifunction \"NtOpenProcess\" desiredaccess \"PROCESS_QUERY_INFORMATION\" successful \"1\" targetpid \"1732\" />\\n<kill_process apifunction \"NtTerminateProcess\" targetpid \"2224\" />\\n</all_section>\\n</thread>\\n</process>\\n</processes>'"
      ]
     },
     "execution_count": 80,
     "metadata": {},
     "output_type": "execute_result"
    }
   ],
   "source": [
    "tree_string"
   ]
  },
  {
   "cell_type": "code",
   "execution_count": 67,
   "metadata": {
    "collapsed": true,
    "hide_input": true
   },
   "outputs": [
    {
     "data": {
      "text/plain": [
       "'00269ea50001a6c699d0222032d45b74b2e7e8be9.None.xml'"
      ]
     },
     "execution_count": 67,
     "metadata": {},
     "output_type": "execute_result"
    }
   ],
   "source": [
    "os.listdir(direc)[0]"
   ]
  },
  {
   "cell_type": "code",
   "execution_count": 69,
   "metadata": {
    "collapsed": false,
    "hide_input": true
   },
   "outputs": [],
   "source": [
    "from bs4 import BeautifulSoup\n",
    "tree = ET.parse(os.path.join(direc,os.listdir(direc)[0]))\n",
    "#soup = BeautifulSoup(tree, \"xml\")"
   ]
  },
  {
   "cell_type": "code",
   "execution_count": 71,
   "metadata": {
    "collapsed": true,
    "hide_input": true
   },
   "outputs": [
    {
     "name": "stdout",
     "output_type": "stream",
     "text": [
      "<Element 'processes' at 0x1213841b0>\n"
     ]
    }
   ],
   "source": [
    "root = tree.getroot()\n",
    "print root"
   ]
  },
  {
   "cell_type": "code",
   "execution_count": 66,
   "metadata": {
    "collapsed": true,
    "hide_input": true
   },
   "outputs": [
    {
     "name": "stdout",
     "output_type": "stream",
     "text": [
      "[]\n"
     ]
    }
   ],
   "source": [
    "print soup.find_all(\"process\")"
   ]
  },
  {
   "cell_type": "code",
   "execution_count": 57,
   "metadata": {
    "collapsed": false
   },
   "outputs": [],
   "source": [
    "df_counts = pd.DataFrame.from_dict([dict(counters[0])])\n",
    "for i in range(1,len(counters)):\n",
    "    df_counts = df_counts.append(pd.DataFrame.from_dict([dict(counters[i])]),ignore_index=True)"
   ]
  },
  {
   "cell_type": "code",
   "execution_count": 59,
   "metadata": {
    "collapsed": false
   },
   "outputs": [],
   "source": [
    "df_counts.to_csv(\"all_section_tag_counts.csv\")"
   ]
  },
  {
   "cell_type": "code",
   "execution_count": 13,
   "metadata": {
    "ExecuteTime": {
     "end_time": "2017-03-04T10:15:28.141746",
     "start_time": "2017-03-04T10:15:28.132468"
    },
    "code_folding": [
     0
    ],
    "collapsed": false,
    "deletable": true,
    "editable": true
   },
   "outputs": [
    {
     "name": "stdout",
     "output_type": "stream",
     "text": [
      "/Users/hikarisorensen/Dropbox/00_Pika/CS 181/cs181-s17-hixor/p2\n"
     ]
    }
   ],
   "source": [
    "def extract_feats(ffs, direc=\"train\", global_feat_dict=None):\n",
    "\n",
    "    fds = [] # list of feature dicts\n",
    "    classes = []\n",
    "    ids = [] \n",
    "    for datafile in os.listdir(direc):\n",
    "        # extract id and true class (if available) from filename\n",
    "        id_str,clazz = datafile.split('.')[:2]\n",
    "        ids.append(id_str)\n",
    "        # add target class if this is training data\n",
    "        try:\n",
    "            classes.append(util.malware_classes.index(clazz))\n",
    "        except ValueError:\n",
    "            # we should only fail to find the label in our list of malware classes\n",
    "            # if this is test data, which always has an \"X\" label\n",
    "            assert clazz == \"X\"\n",
    "            classes.append(-1)\n",
    "        rowfd = {}\n",
    "        # parse file as an xml document\n",
    "        tree = ET.parse(os.path.join(direc,datafile))\n",
    "        root = tree.getroot()\n",
    "        for child in root:\n",
    "            \n",
    "        fds.append(rowfd)\n",
    "        \n",
    "    X,feat_dict = make_design_mat(fds,global_feat_dict)\n",
    "    return X, feat_dict, np.array(classes), ids"
   ]
  },
  {
   "cell_type": "code",
   "execution_count": null,
   "metadata": {
    "ExecuteTime": {
     "start_time": "2017-03-04T15:45:02.156Z"
    },
    "collapsed": false,
    "deletable": true,
    "editable": true
   },
   "outputs": [
    {
     "name": "stdout",
     "output_type": "stream",
     "text": [
      "extracting training features...\n"
     ]
    }
   ],
   "source": [
    "start.main()"
   ]
  },
  {
   "cell_type": "code",
   "execution_count": null,
   "metadata": {
    "ExecuteTime": {
     "start_time": "2017-03-04T15:46:00.950Z"
    },
    "collapsed": true,
    "deletable": true,
    "editable": true
   },
   "outputs": [],
   "source": [
    "os.system('say Finished')"
   ]
  },
  {
   "cell_type": "code",
   "execution_count": 5,
   "metadata": {
    "ExecuteTime": {
     "end_time": "2017-03-04T10:08:03.554579",
     "start_time": "2017-03-04T10:08:03.502124"
    },
    "collapsed": true,
    "deletable": true,
    "editable": true,
    "run_control": {
     "frozen": false,
     "read_only": false
    }
   },
   "outputs": [
    {
     "name": "stdout",
     "output_type": "stream",
     "text": [
      "Tag: process\n",
      "Attrib: {'username': 'Administrator', 'index': '1', 'sha1': '0069ea50001a6c699d0222032d45b74b2e7e8be9', 'parentindex': '0', 'terminationtime': '00:10.547', 'filename_hash': 'hash_error', 'pid': '1952', 'filename': 'c:\\\\1025be1934a50c3355adb359507f2862.EX', 'filesize': '149270', 'starttime': '00:01.704', 'terminationreason': 'NormalTermination', 'executionstatus': 'OK', 'startreason': 'AnalysisTarget', 'md5': '1025be1934a50c3355adb359507f2862', 'applicationtype': 'Win32Application'}\n",
      "Atts: username\n",
      "Atts: index\n",
      "Atts: sha1\n",
      "Atts: parentindex\n",
      "Atts: terminationtime\n",
      "Atts: filename_hash\n",
      "Atts: pid\n",
      "Atts: filename\n",
      "Atts: filesize\n",
      "Atts: starttime\n",
      "Atts: terminationreason\n",
      "Atts: executionstatus\n",
      "Atts: startreason\n",
      "Atts: md5\n",
      "Atts: applicationtype\n",
      "Tag: process\n",
      "Attrib: {'username': 'SYSTEM', 'index': '2', 'sha1': '97c7c354c12b89c797740b35ed81879be58f3deb', 'parentindex': '0', 'terminationtime': '00:15.000', 'filename_hash': '49083ae3725a0488e0a8fbbe1335c745f70c4667', 'pid': '984', 'filename': 'C:\\\\WINDOWS\\\\system32\\\\svchost.exe', 'filesize': '14336', 'starttime': '00:08.579', 'terminationreason': 'Timeout', 'executionstatus': 'OK', 'startreason': 'DCOMService', 'md5': '4fbc75b74479c7a6f829e0ca19df3366'}\n",
      "Atts: username\n",
      "Atts: index\n",
      "Atts: sha1\n",
      "Atts: parentindex\n",
      "Atts: terminationtime\n",
      "Atts: filename_hash\n",
      "Atts: pid\n",
      "Atts: filename\n",
      "Atts: filesize\n",
      "Atts: starttime\n",
      "Atts: terminationreason\n",
      "Atts: executionstatus\n",
      "Atts: startreason\n",
      "Atts: md5\n",
      "Tag: process\n",
      "Attrib: {'username': 'Administrator', 'index': '3', 'parentindex': '1', 'terminationtime': '00:11.297', 'filename_hash': '9d2bf84874abc5b6e9a2744b7865c193c08d362f', 'pid': '2224', 'filename': u'C:\\\\WINDOWS\\\\explorer.exe C:\\\\Program Files\\\\Photron\\\\StoneMeister V4.0\\\\\\x95\\xe6\\x90\\xce\\x95\\x94\\x95i\\\\', 'filesize': '-1', 'starttime': '00:09.938', 'terminationreason': 'NormalTermination', 'executionstatus': 'OK', 'startreason': 'CreateProcess'}\n",
      "Atts: username\n",
      "Atts: index\n",
      "Atts: parentindex\n",
      "Atts: terminationtime\n",
      "Atts: filename_hash\n",
      "Atts: pid\n",
      "Atts: filename\n",
      "Atts: filesize\n",
      "Atts: starttime\n",
      "Atts: terminationreason\n",
      "Atts: executionstatus\n",
      "Atts: startreason\n"
     ]
    }
   ],
   "source": [
    "tree = ET.parse(\"./train/00269ea50001a6c699d0222032d45b74b2e7e8be9.None.xml\")\n",
    "root = tree.getroot()\n",
    "for child in root:\n",
    "    print \"Tag:\",child.tag\n",
    "    print \"Attrib:\",child.attrib\n",
    "    for att in child.attrib:\n",
    "        print \"Atts:\",att"
   ]
  },
  {
   "cell_type": "code",
   "execution_count": 13,
   "metadata": {
    "collapsed": false,
    "deletable": true,
    "editable": true,
    "run_control": {
     "frozen": false,
     "read_only": false
    }
   },
   "outputs": [
    {
     "name": "stdout",
     "output_type": "stream",
     "text": [
      "Process attrib: {'username': 'Administrator', 'index': '1', 'sha1': '0069ea50001a6c699d0222032d45b74b2e7e8be9', 'parentindex': '0', 'terminationtime': '00:10.547', 'filename_hash': 'hash_error', 'pid': '1952', 'filename': 'c:\\\\1025be1934a50c3355adb359507f2862.EX', 'filesize': '149270', 'starttime': '00:01.704', 'terminationreason': 'NormalTermination', 'executionstatus': 'OK', 'startreason': 'AnalysisTarget', 'md5': '1025be1934a50c3355adb359507f2862', 'applicationtype': 'Win32Application'}\n",
      "Administrator\n",
      "Process attrib: {'username': 'SYSTEM', 'index': '2', 'sha1': '97c7c354c12b89c797740b35ed81879be58f3deb', 'parentindex': '0', 'terminationtime': '00:15.000', 'filename_hash': '49083ae3725a0488e0a8fbbe1335c745f70c4667', 'pid': '984', 'filename': 'C:\\\\WINDOWS\\\\system32\\\\svchost.exe', 'filesize': '14336', 'starttime': '00:08.579', 'terminationreason': 'Timeout', 'executionstatus': 'OK', 'startreason': 'DCOMService', 'md5': '4fbc75b74479c7a6f829e0ca19df3366'}\n",
      "SYSTEM\n",
      "Process attrib: {'username': 'Administrator', 'index': '3', 'parentindex': '1', 'terminationtime': '00:11.297', 'filename_hash': '9d2bf84874abc5b6e9a2744b7865c193c08d362f', 'pid': '2224', 'filename': u'C:\\\\WINDOWS\\\\explorer.exe C:\\\\Program Files\\\\Photron\\\\StoneMeister V4.0\\\\\\x95\\xe6\\x90\\xce\\x95\\x94\\x95i\\\\', 'filesize': '-1', 'starttime': '00:09.938', 'terminationreason': 'NormalTermination', 'executionstatus': 'OK', 'startreason': 'CreateProcess'}\n",
      "Administrator\n"
     ]
    }
   ],
   "source": [
    "for process in root.iter('process'):\n",
    "    print \"Process attrib:\",process.attrib\n",
    "    print process.get('username')"
   ]
  },
  {
   "cell_type": "code",
   "execution_count": 14,
   "metadata": {
    "collapsed": true
   },
   "outputs": [],
   "source": [
    "mypreds = pd.read_csv('mypredictions.csv',nrows=10)"
   ]
  },
  {
   "cell_type": "code",
   "execution_count": 15,
   "metadata": {
    "collapsed": false
   },
   "outputs": [
    {
     "data": {
      "text/html": [
       "<div>\n",
       "<table border=\"1\" class=\"dataframe\">\n",
       "  <thead>\n",
       "    <tr style=\"text-align: right;\">\n",
       "      <th></th>\n",
       "      <th>Id</th>\n",
       "      <th>Prediction</th>\n",
       "    </tr>\n",
       "  </thead>\n",
       "  <tbody>\n",
       "    <tr>\n",
       "      <th>0</th>\n",
       "      <td>0015c8c9ff02fea9d0f45692b9eebfb4abff4e42f</td>\n",
       "      <td>6</td>\n",
       "    </tr>\n",
       "    <tr>\n",
       "      <th>1</th>\n",
       "      <td>001f298a534ae4b0db7f2707169250aa215c3b5f2</td>\n",
       "      <td>6</td>\n",
       "    </tr>\n",
       "    <tr>\n",
       "      <th>2</th>\n",
       "      <td>001f5fdaaa8bbe20303527198d09a30bb7ca3eb50</td>\n",
       "      <td>6</td>\n",
       "    </tr>\n",
       "    <tr>\n",
       "      <th>3</th>\n",
       "      <td>002ca2c41b649f85c05ae30013436781a932fecc6</td>\n",
       "      <td>6</td>\n",
       "    </tr>\n",
       "    <tr>\n",
       "      <th>4</th>\n",
       "      <td>003e109543b4ea22d2bcc1ec309bf2fd34e9a1a1d</td>\n",
       "      <td>6</td>\n",
       "    </tr>\n",
       "    <tr>\n",
       "      <th>5</th>\n",
       "      <td>004070b468d6bb29848c76cfCd5887849c7bb648d</td>\n",
       "      <td>6</td>\n",
       "    </tr>\n",
       "    <tr>\n",
       "      <th>6</th>\n",
       "      <td>00461dd05c981edde167a5947c365472141e04bb1</td>\n",
       "      <td>6</td>\n",
       "    </tr>\n",
       "    <tr>\n",
       "      <th>7</th>\n",
       "      <td>005b95d2520C8621171566f5803437b0c443778e1</td>\n",
       "      <td>6</td>\n",
       "    </tr>\n",
       "    <tr>\n",
       "      <th>8</th>\n",
       "      <td>0071a3b818ed06d3865a24fdb31d4147c67fabfc5</td>\n",
       "      <td>6</td>\n",
       "    </tr>\n",
       "    <tr>\n",
       "      <th>9</th>\n",
       "      <td>007436715ec13cedd38344772a2144a3d79f3ea68</td>\n",
       "      <td>6</td>\n",
       "    </tr>\n",
       "  </tbody>\n",
       "</table>\n",
       "</div>"
      ],
      "text/plain": [
       "                                          Id  Prediction\n",
       "0  0015c8c9ff02fea9d0f45692b9eebfb4abff4e42f           6\n",
       "1  001f298a534ae4b0db7f2707169250aa215c3b5f2           6\n",
       "2  001f5fdaaa8bbe20303527198d09a30bb7ca3eb50           6\n",
       "3  002ca2c41b649f85c05ae30013436781a932fecc6           6\n",
       "4  003e109543b4ea22d2bcc1ec309bf2fd34e9a1a1d           6\n",
       "5  004070b468d6bb29848c76cfCd5887849c7bb648d           6\n",
       "6  00461dd05c981edde167a5947c365472141e04bb1           6\n",
       "7  005b95d2520C8621171566f5803437b0c443778e1           6\n",
       "8  0071a3b818ed06d3865a24fdb31d4147c67fabfc5           6\n",
       "9  007436715ec13cedd38344772a2144a3d79f3ea68           6"
      ]
     },
     "execution_count": 15,
     "metadata": {},
     "output_type": "execute_result"
    }
   ],
   "source": [
    "mypreds"
   ]
  },
  {
   "cell_type": "code",
   "execution_count": null,
   "metadata": {
    "collapsed": true
   },
   "outputs": [],
   "source": []
  }
 ],
 "metadata": {
  "anaconda-cloud": {},
  "hide_input": false,
  "kernelspec": {
   "display_name": "Python 2",
   "language": "python",
   "name": "python2"
  },
  "language_info": {
   "codemirror_mode": {
    "name": "ipython",
    "version": 2
   },
   "file_extension": ".py",
   "mimetype": "text/x-python",
   "name": "python",
   "nbconvert_exporter": "python",
   "pygments_lexer": "ipython2",
   "version": "2.7.13"
  },
  "latex_envs": {
   "LaTeX_envs_menu_present": true,
   "autocomplete": true,
   "bibliofile": "biblio.bib",
   "cite_by": "apalike",
   "current_citInitial": 1,
   "eqLabelWithNumbers": true,
   "eqNumInitial": 1,
   "hotkeys": {
    "equation": "Ctrl-E",
    "itemize": "Ctrl-I"
   },
   "labels_anchors": false,
   "latex_user_defs": false,
   "report_style_numbering": false,
   "user_envs_cfg": false
  },
  "toc": {
   "colors": {
    "hover_highlight": "#DAA520",
    "running_highlight": "#FF0000",
    "selected_highlight": "#FFD700"
   },
   "moveMenuLeft": true,
   "nav_menu": {
    "height": "12px",
    "width": "252px"
   },
   "navigate_menu": true,
   "number_sections": true,
   "sideBar": true,
   "threshold": 4,
   "toc_cell": false,
   "toc_section_display": "block",
   "toc_window_display": false
  }
 },
 "nbformat": 4,
 "nbformat_minor": 2
}
